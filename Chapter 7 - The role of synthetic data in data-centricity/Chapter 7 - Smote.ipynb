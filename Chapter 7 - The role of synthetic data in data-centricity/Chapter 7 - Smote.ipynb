{
 "cells": [
  {
   "cell_type": "markdown",
   "id": "e1ce37c5-a902-4670-9880-0abefc79495d",
   "metadata": {},
   "source": [
    "### This example must be run after the section 3 of Chapter 5, when missingness is treated"
   ]
  },
  {
   "cell_type": "code",
   "execution_count": 1,
   "id": "a0d0a49c-4856-4362-892c-d07a92e8a6a7",
   "metadata": {},
   "outputs": [
    {
     "name": "stdout",
     "output_type": "stream",
     "text": [
      "0.12.0\n"
     ]
    }
   ],
   "source": [
    "# Import necessary libraries\n",
    "import imblearn  # Library for imbalanced learning techniques\n",
    "from imblearn.over_sampling import SMOTE, ADASYN  # Import specific over-sampling techniques\n",
    "from collections import Counter  # Counter class for counting objects\n",
    "print(imblearn.__version__)  # Print the version of imblearn package"
   ]
  },
  {
   "cell_type": "code",
   "execution_count": null,
   "id": "66c62b66-6b10-42e3-b6ea-01629020e43d",
   "metadata": {},
   "outputs": [],
   "source": [
    "results = []  # List to store results\n",
    "over_sampling = [0.65, 0.7, 0.75, 0.8, 'auto']  # List of over-sampling strategies\n",
    "n_neighbours = [1, 3, 5, 7, 9, 10]  # List of numbers of neighbors\n",
    "for os in over_sampling:\n",
    "    for k in n_neighbours:\n",
    "        # Apply ADASYN over-sampling with specific parameters\n",
    "        oversample = ADASYN(random_state=1, sampling_strategy=os, n_neighbors=k)\n",
    "        counter = Counter(y_train)\n",
    "        print(f\"data size before applying ADASYN technique is {counter}\")\n",
    "        \n",
    "        # Resample the training data using ADASYN\n",
    "        X_train_synthetic, y_train_synthetic = oversample.fit_resample(X_train_transformed, y_train)\n",
    "        \n",
    "        counter = Counter(y_train_synthetic)\n",
    "        print(f\"data size after applying ADASYN technique is {counter}\")\n",
    "        \n",
    "        # Train a custom classifier model on the synthetic data\n",
    "        model, test_predictions, train_roc, test_roc, train_acc, test_acc = train_custom_classifier(\n",
    "            X_train=X_train_synthetic, \n",
    "            y_train=y_train_synthetic, \n",
    "            X_test=X_test_transformed, \n",
    "            y_test=y_test, \n",
    "            clf=d_clf, \n",
    "            params=d_param_grid)\n",
    "\n",
    "        # Store the results\n",
    "        results.append((os, k, train_roc, test_roc, train_acc, test_acc))\n",
    "        \n",
    "# Create a DataFrame to store the results\n",
    "synthetic_df = pd.DataFrame(columns=['os_strategy', \"n_neighbours\", \"train_roc\", \"test_roc\", \"train_acc\", \"test_acc\"], data=results)"
   ]
  },
  {
   "cell_type": "code",
   "execution_count": null,
   "id": "b2e22dde-4dac-4af2-9c35-10600bfd49ba",
   "metadata": {},
   "outputs": [],
   "source": [
    "# Printing the dataframe in order of test accuracy\n",
    "synthetic_df.sort_values(by=\"test_acc\", ascending=False)"
   ]
  },
  {
   "cell_type": "code",
   "execution_count": null,
   "id": "e2f7923e-c1ee-446b-8361-643fbee2ad36",
   "metadata": {},
   "outputs": [],
   "source": [
    "# Creating a counter\n",
    "counter = Counter(y_train)\n",
    "print(f\"data size before applying adasyn technique is {counter}\")\n",
    "\n",
    "# Apply ADASYN over-sampling with specific parameters\n",
    "oversample = ADASYN(random_state=1, n_neighbors=7, sampling_strategy=0.75)\n",
    "X_train_synthetic, y_train_synthetic = oversample.fit_resample(X_train_transformed, y_train)\n",
    "\n",
    "counter = Counter(y_train_synthetic)\n",
    "print(f\"data size after applying adasyn technique is {counter}\")\n",
    "\n",
    "# Train a custom classifier model on the synthetic data\n",
    "model, test_predictions, train_roc, test_roc, train_acc, test_acc = train_custom_classifier(\n",
    "    X_train=X_train_synthetic, \n",
    "    y_train=y_train_synthetic, \n",
    "    X_test=X_test_transformed, \n",
    "    y_test=y_test, \n",
    "    clf=d_clf, \n",
    "    params=d_param_grid)"
   ]
  }
 ],
 "metadata": {
  "kernelspec": {
   "display_name": "Python 3 (ipykernel)",
   "language": "python",
   "name": "python3"
  },
  "language_info": {
   "codemirror_mode": {
    "name": "ipython",
    "version": 3
   },
   "file_extension": ".py",
   "mimetype": "text/x-python",
   "name": "python",
   "nbconvert_exporter": "python",
   "pygments_lexer": "ipython3",
   "version": "3.9.12"
  }
 },
 "nbformat": 4,
 "nbformat_minor": 5
}
