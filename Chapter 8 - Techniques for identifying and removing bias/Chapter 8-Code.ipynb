{
 "cells": [
  {
   "cell_type": "code",
   "execution_count": 1,
   "id": "f07d5bef-5523-46bf-9cf7-5a21419b7f38",
   "metadata": {},
   "outputs": [],
   "source": [
    "# Importing the libraries for reading the dataset\n",
    "import pandas as pd\n",
    "import os"
   ]
  },
  {
   "cell_type": "code",
   "execution_count": 2,
   "id": "0993209c-deb1-4f53-b233-cfe68e52e457",
   "metadata": {},
   "outputs": [],
   "source": [
    "# Defining the location of the dataset\n",
    "FILENAME = \"./loan_dataset.csv\"\n",
    "DATA_URL = \"http://archive.ics.uci.edu/ml/machine-learning-databases/00350/default%20of%20credit%20card%20clients.xls\""
   ]
  },
  {
   "cell_type": "code",
   "execution_count": 3,
   "id": "70bc73ab-6ba2-4fb2-bf72-382f5a1408a5",
   "metadata": {},
   "outputs": [],
   "source": [
    "# Downloading the dataset if it does not exist in the location\n",
    "if not os.path.exists(FILENAME):\n",
    "\n",
    "    data = (\n",
    "        pd.read_excel(io=DATA_URL, header=1)\n",
    "        .drop(columns=[\"ID\"])\n",
    "        .rename(\n",
    "            columns={\"PAY_0\": \"PAY_1\", \"default payment next month\": \"default\"}\n",
    "        )\n",
    "    )\n",
    "    data.to_csv(FILENAME, sep=\",\", encoding=\"utf-8\", index=False)"
   ]
  },
  {
   "cell_type": "code",
   "execution_count": 4,
   "id": "693f3d60-6ed0-40d1-90a8-df9d991ba741",
   "metadata": {},
   "outputs": [
    {
     "data": {
      "text/plain": [
       "(30000, 24)"
      ]
     },
     "execution_count": 4,
     "metadata": {},
     "output_type": "execute_result"
    }
   ],
   "source": [
    "# Reading the dataset and looking at the shape\n",
    "dataset = pd.read_csv(FILENAME, sep=\",\", encoding=\"utf-8\")\n",
    "dataset.shape"
   ]
  },
  {
   "cell_type": "code",
   "execution_count": 5,
   "id": "16a613cd-84ca-46aa-badc-cc1e92955b6b",
   "metadata": {},
   "outputs": [
    {
     "name": "stdout",
     "output_type": "stream",
     "text": [
      "<class 'pandas.core.frame.DataFrame'>\n",
      "RangeIndex: 30000 entries, 0 to 29999\n",
      "Data columns (total 24 columns):\n",
      " #   Column     Non-Null Count  Dtype\n",
      "---  ------     --------------  -----\n",
      " 0   LIMIT_BAL  30000 non-null  int64\n",
      " 1   SEX        30000 non-null  int64\n",
      " 2   EDUCATION  30000 non-null  int64\n",
      " 3   MARRIAGE   30000 non-null  int64\n",
      " 4   AGE        30000 non-null  int64\n",
      " 5   PAY_1      30000 non-null  int64\n",
      " 6   PAY_2      30000 non-null  int64\n",
      " 7   PAY_3      30000 non-null  int64\n",
      " 8   PAY_4      30000 non-null  int64\n",
      " 9   PAY_5      30000 non-null  int64\n",
      " 10  PAY_6      30000 non-null  int64\n",
      " 11  BILL_AMT1  30000 non-null  int64\n",
      " 12  BILL_AMT2  30000 non-null  int64\n",
      " 13  BILL_AMT3  30000 non-null  int64\n",
      " 14  BILL_AMT4  30000 non-null  int64\n",
      " 15  BILL_AMT5  30000 non-null  int64\n",
      " 16  BILL_AMT6  30000 non-null  int64\n",
      " 17  PAY_AMT1   30000 non-null  int64\n",
      " 18  PAY_AMT2   30000 non-null  int64\n",
      " 19  PAY_AMT3   30000 non-null  int64\n",
      " 20  PAY_AMT4   30000 non-null  int64\n",
      " 21  PAY_AMT5   30000 non-null  int64\n",
      " 22  PAY_AMT6   30000 non-null  int64\n",
      " 23  default    30000 non-null  int64\n",
      "dtypes: int64(24)\n",
      "memory usage: 5.5 MB\n"
     ]
    }
   ],
   "source": [
    "# Priniting the metadata of the dataset\n",
    "dataset.info()"
   ]
  },
  {
   "cell_type": "code",
   "execution_count": 6,
   "id": "6dbd0703-08e1-4806-9c49-974e5815d57a",
   "metadata": {},
   "outputs": [],
   "source": [
    "# List of categorical columns\n",
    "cat_columns = ['EDUCATION', 'MARRIAGE']\n",
    "\n",
    "# Converting specified columns to categorical data type\n",
    "for col in cat_columns:\n",
    "    dataset[col] = dataset[col].astype(\"category\")\n",
    "\n",
    "# Mapping values in the 'SEX' column to 1 and 0\n",
    "dataset['SEX'] = dataset['SEX'].map({1: 1, 2: 0})"
   ]
  },
  {
   "cell_type": "code",
   "execution_count": 7,
   "id": "ab143930-1100-4e5c-8742-d6166405a508",
   "metadata": {},
   "outputs": [],
   "source": [
    "# Extracting the \"default\" and \"SEX\" columns from the dataset and assigning them to Y and A respectively\n",
    "Y, A = dataset.loc[:, \"default\"], dataset.loc[:, \"SEX\"]\n",
    "\n",
    "# Creating dummy variables for all columns except \"default\" and \"SEX\" in the dataset\n",
    "X = pd.get_dummies(dataset.drop(columns=[\"default\",\"SEX\"]))\n",
    "\n",
    "# Assigning the original \"SEX\" column values back to the X dataframe\n",
    "X[\"SEX\"] = A.copy()\n",
    "\n",
    "# Mapping the numerical values in the \"SEX\" column to strings for better readability\n",
    "A_str = A.map({1: \"male\", 0: \"female\"})"
   ]
  },
  {
   "cell_type": "code",
   "execution_count": 8,
   "id": "e7f0c68e-64f7-4f66-a59b-22af8be8d347",
   "metadata": {},
   "outputs": [
    {
     "name": "stderr",
     "output_type": "stream",
     "text": [
      "Using `tqdm.autonotebook.tqdm` in notebook mode. Use `tqdm.tqdm` instead to force console mode (e.g. in jupyter console)\n"
     ]
    }
   ],
   "source": [
    "# Importing all the necessary libraries\n",
    "from sklearn.model_selection import train_test_split, cross_validate\n",
    "from sklearn.preprocessing import StandardScaler\n",
    "from sklearn.tree import DecisionTreeClassifier\n",
    "from imblearn.over_sampling import SMOTE, ADASYN\n",
    "from imblearn.combine import SMOTEENN, SMOTETomek\n",
    "from sklearn.ensemble import IsolationForest\n",
    "from imblearn.pipeline import make_pipeline\n",
    "from imblearn.under_sampling import AllKNN, InstanceHardnessThreshold, RepeatedEditedNearestNeighbours, TomekLinks, EditedNearestNeighbours\n",
    "from sklearn.metrics import balanced_accuracy_score, roc_auc_score, confusion_matrix, ConfusionMatrixDisplay\n",
    "from sklearn.pipeline import Pipeline\n",
    "from fairlearn.metrics import MetricFrame, equalized_odds_difference, demographic_parity_ratio\n",
    "import numpy as np\n",
    "import shap"
   ]
  },
  {
   "cell_type": "code",
   "execution_count": 9,
   "id": "4f725f2b-838e-4a37-8a83-0328b8511b3d",
   "metadata": {},
   "outputs": [],
   "source": [
    "# Splitting the data into training and testing sets for X, Y, and A_str\n",
    "X_train, X_test, y_train, y_test, A_train, A_test = train_test_split(X, \n",
    "                                                                     Y,\n",
    "                                                                     A_str,\n",
    "                                                                     test_size=0.2,\n",
    "                                                                     stratify=Y,\n",
    "                                                                     random_state=42)"
   ]
  },
  {
   "cell_type": "code",
   "execution_count": 10,
   "id": "aed0d31c-a7bf-4204-92bf-4dbd14ace29c",
   "metadata": {},
   "outputs": [
    {
     "data": {
      "text/html": [
       "<style>#sk-container-id-1 {color: black;}#sk-container-id-1 pre{padding: 0;}#sk-container-id-1 div.sk-toggleable {background-color: white;}#sk-container-id-1 label.sk-toggleable__label {cursor: pointer;display: block;width: 100%;margin-bottom: 0;padding: 0.3em;box-sizing: border-box;text-align: center;}#sk-container-id-1 label.sk-toggleable__label-arrow:before {content: \"▸\";float: left;margin-right: 0.25em;color: #696969;}#sk-container-id-1 label.sk-toggleable__label-arrow:hover:before {color: black;}#sk-container-id-1 div.sk-estimator:hover label.sk-toggleable__label-arrow:before {color: black;}#sk-container-id-1 div.sk-toggleable__content {max-height: 0;max-width: 0;overflow: hidden;text-align: left;background-color: #f0f8ff;}#sk-container-id-1 div.sk-toggleable__content pre {margin: 0.2em;color: black;border-radius: 0.25em;background-color: #f0f8ff;}#sk-container-id-1 input.sk-toggleable__control:checked~div.sk-toggleable__content {max-height: 200px;max-width: 100%;overflow: auto;}#sk-container-id-1 input.sk-toggleable__control:checked~label.sk-toggleable__label-arrow:before {content: \"▾\";}#sk-container-id-1 div.sk-estimator input.sk-toggleable__control:checked~label.sk-toggleable__label {background-color: #d4ebff;}#sk-container-id-1 div.sk-label input.sk-toggleable__control:checked~label.sk-toggleable__label {background-color: #d4ebff;}#sk-container-id-1 input.sk-hidden--visually {border: 0;clip: rect(1px 1px 1px 1px);clip: rect(1px, 1px, 1px, 1px);height: 1px;margin: -1px;overflow: hidden;padding: 0;position: absolute;width: 1px;}#sk-container-id-1 div.sk-estimator {font-family: monospace;background-color: #f0f8ff;border: 1px dotted black;border-radius: 0.25em;box-sizing: border-box;margin-bottom: 0.5em;}#sk-container-id-1 div.sk-estimator:hover {background-color: #d4ebff;}#sk-container-id-1 div.sk-parallel-item::after {content: \"\";width: 100%;border-bottom: 1px solid gray;flex-grow: 1;}#sk-container-id-1 div.sk-label:hover label.sk-toggleable__label {background-color: #d4ebff;}#sk-container-id-1 div.sk-serial::before {content: \"\";position: absolute;border-left: 1px solid gray;box-sizing: border-box;top: 0;bottom: 0;left: 50%;z-index: 0;}#sk-container-id-1 div.sk-serial {display: flex;flex-direction: column;align-items: center;background-color: white;padding-right: 0.2em;padding-left: 0.2em;position: relative;}#sk-container-id-1 div.sk-item {position: relative;z-index: 1;}#sk-container-id-1 div.sk-parallel {display: flex;align-items: stretch;justify-content: center;background-color: white;position: relative;}#sk-container-id-1 div.sk-item::before, #sk-container-id-1 div.sk-parallel-item::before {content: \"\";position: absolute;border-left: 1px solid gray;box-sizing: border-box;top: 0;bottom: 0;left: 50%;z-index: -1;}#sk-container-id-1 div.sk-parallel-item {display: flex;flex-direction: column;z-index: 1;position: relative;background-color: white;}#sk-container-id-1 div.sk-parallel-item:first-child::after {align-self: flex-end;width: 50%;}#sk-container-id-1 div.sk-parallel-item:last-child::after {align-self: flex-start;width: 50%;}#sk-container-id-1 div.sk-parallel-item:only-child::after {width: 0;}#sk-container-id-1 div.sk-dashed-wrapped {border: 1px dashed gray;margin: 0 0.4em 0.5em 0.4em;box-sizing: border-box;padding-bottom: 0.4em;background-color: white;}#sk-container-id-1 div.sk-label label {font-family: monospace;font-weight: bold;display: inline-block;line-height: 1.2em;}#sk-container-id-1 div.sk-label-container {text-align: center;}#sk-container-id-1 div.sk-container {/* jupyter's `normalize.less` sets `[hidden] { display: none; }` but bootstrap.min.css set `[hidden] { display: none !important; }` so we also need the `!important` here to be able to override the default hidden behavior on the sphinx rendered scikit-learn.org. See: https://github.com/scikit-learn/scikit-learn/issues/21755 */display: inline-block !important;position: relative;}#sk-container-id-1 div.sk-text-repr-fallback {display: none;}</style><div id=\"sk-container-id-1\" class=\"sk-top-container\"><div class=\"sk-text-repr-fallback\"><pre>Pipeline(steps=[(&#x27;classifier&#x27;,\n",
       "                 DecisionTreeClassifier(min_samples_leaf=10, random_state=42))])</pre><b>In a Jupyter environment, please rerun this cell to show the HTML representation or trust the notebook. <br />On GitHub, the HTML representation is unable to render, please try loading this page with nbviewer.org.</b></div><div class=\"sk-container\" hidden><div class=\"sk-item sk-dashed-wrapped\"><div class=\"sk-label-container\"><div class=\"sk-label sk-toggleable\"><input class=\"sk-toggleable__control sk-hidden--visually\" id=\"sk-estimator-id-1\" type=\"checkbox\" ><label for=\"sk-estimator-id-1\" class=\"sk-toggleable__label sk-toggleable__label-arrow\">Pipeline</label><div class=\"sk-toggleable__content\"><pre>Pipeline(steps=[(&#x27;classifier&#x27;,\n",
       "                 DecisionTreeClassifier(min_samples_leaf=10, random_state=42))])</pre></div></div></div><div class=\"sk-serial\"><div class=\"sk-item\"><div class=\"sk-estimator sk-toggleable\"><input class=\"sk-toggleable__control sk-hidden--visually\" id=\"sk-estimator-id-2\" type=\"checkbox\" ><label for=\"sk-estimator-id-2\" class=\"sk-toggleable__label sk-toggleable__label-arrow\">DecisionTreeClassifier</label><div class=\"sk-toggleable__content\"><pre>DecisionTreeClassifier(min_samples_leaf=10, random_state=42)</pre></div></div></div></div></div></div></div>"
      ],
      "text/plain": [
       "Pipeline(steps=[('classifier',\n",
       "                 DecisionTreeClassifier(min_samples_leaf=10, random_state=42))])"
      ]
     },
     "execution_count": 10,
     "metadata": {},
     "output_type": "execute_result"
    }
   ],
   "source": [
    "# Decision tree parameters\n",
    "d_tree_params = {\n",
    "    \"min_samples_leaf\": 10,\n",
    "    \"random_state\": 42\n",
    "}\n",
    "\n",
    "# Creating a pipeline with a DecisionTreeClassifier estimator\n",
    "estimator = Pipeline(steps=[\n",
    "    (\"classifier\", DecisionTreeClassifier(**d_tree_params))\n",
    "])\n",
    "\n",
    "# Fitting the estimator on the training data\n",
    "estimator.fit(X_train, y_train)"
   ]
  },
  {
   "cell_type": "code",
   "execution_count": 11,
   "id": "b770ae42-8128-4e3f-90a2-1e2f11ffee11",
   "metadata": {},
   "outputs": [
    {
     "name": "stdout",
     "output_type": "stream",
     "text": [
      "Roc score is : 0.6875636482794665\n"
     ]
    },
    {
     "data": {
      "text/plain": [
       "<sklearn.metrics._plot.confusion_matrix.ConfusionMatrixDisplay at 0x11054d2b0>"
      ]
     },
     "execution_count": 11,
     "metadata": {},
     "output_type": "execute_result"
    },
    {
     "data": {
      "image/png": "[encoded data removed]",
      "text/plain": [
       "<Figure size 640x480 with 2 Axes>"
      ]
     },
     "metadata": {},
     "output_type": "display_data"
    }
   ],
   "source": [
    "# Calculating the ROC and printing the Confusion Matrix\n",
    "y_pred_proba = estimator.predict_proba(X_test)[:, 1]\n",
    "y_pred = estimator.predict(X_test)\n",
    "print(f\"Roc score is : {roc_auc_score(y_test, y_pred_proba)}\")\n",
    "\n",
    "cm = ConfusionMatrixDisplay(confusion_matrix(y_test, y_pred), display_labels=estimator.classes_)\n",
    "cm.plot()"
   ]
  },
  {
   "cell_type": "code",
   "execution_count": 12,
   "id": "fc28c552-7ab8-4ec9-9337-2f93b1196d5f",
   "metadata": {},
   "outputs": [],
   "source": [
    "# Function to compute the false positive rate\n",
    "def false_positive_rate(y_true, y_pred):\n",
    "    \"\"\"Compute the standard error for the false positive rate estimate.\"\"\"\n",
    "    tn, fp, fn, tp = confusion_matrix(y_true, y_pred).ravel()\n",
    "    return fp/(fp+tn)\n",
    "\n",
    "# Function to compute the false negative rate\n",
    "def false_negative_rate(y_true, y_pred):\n",
    "    \"\"\"Compute the standard error for the false positive rate estimate.\"\"\"\n",
    "    tn, fp, fn, tp = confusion_matrix(y_true, y_pred).ravel()\n",
    "    return fn/(tp+fn)\n",
    "\n",
    "# Dictionary of fairness metrics with corresponding functions\n",
    "fairness_metrics = {\n",
    "    \"balanced_accuracy\": balanced_accuracy_score,\n",
    "    \"false_positive_rate\": false_positive_rate,\n",
    "    \"false_negative_rate\": false_negative_rate,\n",
    "}\n",
    "\n",
    "# List of fairness metrics to report\n",
    "metrics_to_report = list(fairness_metrics.keys())"
   ]
  },
  {
   "cell_type": "code",
   "execution_count": 13,
   "id": "e7d38fe2-8cc4-41e6-afef-648ebc898d07",
   "metadata": {},
   "outputs": [],
   "source": [
    "# Function to calculate fairness metrics\n",
    "def calculate_fairness_metrics(y_test, y_pred, A_test, metrics=fairness_metrics):\n",
    "    \"\"\"Function to calculate fairness metrics\"\"\"\n",
    "\n",
    "    # Create a MetricFrame to store fairness metrics\n",
    "    metricframe = MetricFrame(\n",
    "        metrics=fairness_metrics,\n",
    "        y_true=y_test,\n",
    "        y_pred=y_pred,\n",
    "        sensitive_features=A_test,\n",
    "    )\n",
    "\n",
    "    # Print fairness metrics by group\n",
    "    print(metricframe.by_group[metrics_to_report])\n",
    "    \n",
    "    # Print differences in fairness metrics\n",
    "    print(\"\\n *diff*\")\n",
    "    print(metricframe.difference()[metrics_to_report])\n",
    "    \n",
    "    # Print overall fairness metrics\n",
    "    print(\"\\n *final_metrics*\")\n",
    "    print(metricframe.overall[metrics_to_report])\n",
    "    \n",
    "    # Calculate and print the equalized odds difference\n",
    "    equalized_odds = equalized_odds_difference(\n",
    "        y_test, y_pred, sensitive_features=A_test\n",
    "    )\n",
    "    print(\"\\n *equalized_odds*\")\n",
    "    print(equalized_odds)\n",
    "    \n",
    "    # Calculate and print the demographic parity ratio\n",
    "    dpr= demographic_parity_ratio(y_test, y_pred, sensitive_features=A_test)\n",
    "    print(\"\\n *demographic_parity_ratio*\")\n",
    "    print(dpr)"
   ]
  },
  {
   "cell_type": "code",
   "execution_count": 15,
   "id": "74e8ec92-aec9-4517-8679-a91eb7a71317",
   "metadata": {
    "scrolled": true
   },
   "outputs": [
    {
     "name": "stdout",
     "output_type": "stream",
     "text": [
      "        balanced_accuracy  false_positive_rate  false_negative_rate\n",
      "SEX                                                                \n",
      "female           0.634938             0.099576             0.630548\n",
      "male             0.629122             0.117871             0.623886\n",
      "\n",
      " *diff*\n",
      "balanced_accuracy      0.005816\n",
      "false_positive_rate    0.018294\n",
      "false_negative_rate    0.006662\n",
      "dtype: float64\n",
      "\n",
      " *final_metrics*\n",
      "balanced_accuracy      0.632742\n",
      "false_positive_rate    0.106784\n",
      "false_negative_rate    0.627732\n",
      "dtype: float64\n",
      "\n",
      " *equalized_odds*\n",
      "0.018294451247019394\n",
      "\n",
      " *demographic_parity_ratio*\n",
      "0.8812852934911919\n"
     ]
    }
   ],
   "source": [
    "# Calling the fairness metrics function\n",
    "calculate_fairness_metrics(y_test, y_pred, A_test)"
   ]
  },
  {
   "cell_type": "code",
   "execution_count": 15,
   "id": "7c0fe1cd-389e-415c-9f55-a36c9af26e39",
   "metadata": {},
   "outputs": [
    {
     "name": "stdout",
     "output_type": "stream",
     "text": [
      "female default rate is: \n",
      "0.20776280918727916\n",
      "\n",
      "male default rate is: \n",
      "0.2416722745625841\n",
      "\n"
     ]
    }
   ],
   "source": [
    "# Comparing the default rate in male and female\n",
    "for val in dataset.SEX.unique():\n",
    "    print(f\"{('male' if val == 1 else 'female')} default rate is: \")\n",
    "    print(dataset[dataset.SEX == val]['default'].mean())\n",
    "    print()"
   ]
  },
  {
   "cell_type": "code",
   "execution_count": 16,
   "id": "5dd213c1-5d9f-455d-95a3-93e16825858f",
   "metadata": {},
   "outputs": [],
   "source": [
    "# Creating the dummy variable Interest Rate\n",
    "np.random.seed(42)\n",
    "X.loc[:, 'Interest_rate'] = np.random.normal(loc=2*Y, scale=A.map({1:2, 0:1}))"
   ]
  },
  {
   "cell_type": "code",
   "execution_count": 17,
   "id": "23f8b27b-374f-406e-8669-92ea3c4ee40b",
   "metadata": {},
   "outputs": [
    {
     "name": "stdout",
     "output_type": "stream",
     "text": [
      "Maximum interest rate for men who defaulted vs women who defaulted\n",
      "9.852475412872653 6.479084251025757\n",
      "\n",
      "Maximum interest rate for men who did not default vs women that did not default\n",
      "6.857820956016427 3.852731490654721\n"
     ]
    }
   ],
   "source": [
    "# Printing some statistics\n",
    "print(\"Maximum interest rate for men who defaulted vs women who defaulted\")\n",
    "print(X[(X.SEX == 1) & (Y == 1)][\"Interest_rate\"].max(), X[(X.SEX == 0) & (Y == 1)][\"Interest_rate\"].max())\n",
    "print()\n",
    "print(\"Maximum interest rate for men who did not default vs women that did not default\")\n",
    "print(X[(X.SEX == 1) & (Y == 0)][\"Interest_rate\"].max(), X[(X.SEX == 0) & (Y == 0)][\"Interest_rate\"].max())"
   ]
  },
  {
   "cell_type": "code",
   "execution_count": 18,
   "id": "9e111892-dc5a-4a04-9505-56aba66593a8",
   "metadata": {},
   "outputs": [
    {
     "data": {
      "text/html": [
       "<style>#sk-container-id-2 {color: black;}#sk-container-id-2 pre{padding: 0;}#sk-container-id-2 div.sk-toggleable {background-color: white;}#sk-container-id-2 label.sk-toggleable__label {cursor: pointer;display: block;width: 100%;margin-bottom: 0;padding: 0.3em;box-sizing: border-box;text-align: center;}#sk-container-id-2 label.sk-toggleable__label-arrow:before {content: \"▸\";float: left;margin-right: 0.25em;color: #696969;}#sk-container-id-2 label.sk-toggleable__label-arrow:hover:before {color: black;}#sk-container-id-2 div.sk-estimator:hover label.sk-toggleable__label-arrow:before {color: black;}#sk-container-id-2 div.sk-toggleable__content {max-height: 0;max-width: 0;overflow: hidden;text-align: left;background-color: #f0f8ff;}#sk-container-id-2 div.sk-toggleable__content pre {margin: 0.2em;color: black;border-radius: 0.25em;background-color: #f0f8ff;}#sk-container-id-2 input.sk-toggleable__control:checked~div.sk-toggleable__content {max-height: 200px;max-width: 100%;overflow: auto;}#sk-container-id-2 input.sk-toggleable__control:checked~label.sk-toggleable__label-arrow:before {content: \"▾\";}#sk-container-id-2 div.sk-estimator input.sk-toggleable__control:checked~label.sk-toggleable__label {background-color: #d4ebff;}#sk-container-id-2 div.sk-label input.sk-toggleable__control:checked~label.sk-toggleable__label {background-color: #d4ebff;}#sk-container-id-2 input.sk-hidden--visually {border: 0;clip: rect(1px 1px 1px 1px);clip: rect(1px, 1px, 1px, 1px);height: 1px;margin: -1px;overflow: hidden;padding: 0;position: absolute;width: 1px;}#sk-container-id-2 div.sk-estimator {font-family: monospace;background-color: #f0f8ff;border: 1px dotted black;border-radius: 0.25em;box-sizing: border-box;margin-bottom: 0.5em;}#sk-container-id-2 div.sk-estimator:hover {background-color: #d4ebff;}#sk-container-id-2 div.sk-parallel-item::after {content: \"\";width: 100%;border-bottom: 1px solid gray;flex-grow: 1;}#sk-container-id-2 div.sk-label:hover label.sk-toggleable__label {background-color: #d4ebff;}#sk-container-id-2 div.sk-serial::before {content: \"\";position: absolute;border-left: 1px solid gray;box-sizing: border-box;top: 0;bottom: 0;left: 50%;z-index: 0;}#sk-container-id-2 div.sk-serial {display: flex;flex-direction: column;align-items: center;background-color: white;padding-right: 0.2em;padding-left: 0.2em;position: relative;}#sk-container-id-2 div.sk-item {position: relative;z-index: 1;}#sk-container-id-2 div.sk-parallel {display: flex;align-items: stretch;justify-content: center;background-color: white;position: relative;}#sk-container-id-2 div.sk-item::before, #sk-container-id-2 div.sk-parallel-item::before {content: \"\";position: absolute;border-left: 1px solid gray;box-sizing: border-box;top: 0;bottom: 0;left: 50%;z-index: -1;}#sk-container-id-2 div.sk-parallel-item {display: flex;flex-direction: column;z-index: 1;position: relative;background-color: white;}#sk-container-id-2 div.sk-parallel-item:first-child::after {align-self: flex-end;width: 50%;}#sk-container-id-2 div.sk-parallel-item:last-child::after {align-self: flex-start;width: 50%;}#sk-container-id-2 div.sk-parallel-item:only-child::after {width: 0;}#sk-container-id-2 div.sk-dashed-wrapped {border: 1px dashed gray;margin: 0 0.4em 0.5em 0.4em;box-sizing: border-box;padding-bottom: 0.4em;background-color: white;}#sk-container-id-2 div.sk-label label {font-family: monospace;font-weight: bold;display: inline-block;line-height: 1.2em;}#sk-container-id-2 div.sk-label-container {text-align: center;}#sk-container-id-2 div.sk-container {/* jupyter's `normalize.less` sets `[hidden] { display: none; }` but bootstrap.min.css set `[hidden] { display: none !important; }` so we also need the `!important` here to be able to override the default hidden behavior on the sphinx rendered scikit-learn.org. See: https://github.com/scikit-learn/scikit-learn/issues/21755 */display: inline-block !important;position: relative;}#sk-container-id-2 div.sk-text-repr-fallback {display: none;}</style><div id=\"sk-container-id-2\" class=\"sk-top-container\"><div class=\"sk-text-repr-fallback\"><pre>Pipeline(steps=[(&#x27;classifier&#x27;,\n",
       "                 DecisionTreeClassifier(min_samples_leaf=10, random_state=42))])</pre><b>In a Jupyter environment, please rerun this cell to show the HTML representation or trust the notebook. <br />On GitHub, the HTML representation is unable to render, please try loading this page with nbviewer.org.</b></div><div class=\"sk-container\" hidden><div class=\"sk-item sk-dashed-wrapped\"><div class=\"sk-label-container\"><div class=\"sk-label sk-toggleable\"><input class=\"sk-toggleable__control sk-hidden--visually\" id=\"sk-estimator-id-3\" type=\"checkbox\" ><label for=\"sk-estimator-id-3\" class=\"sk-toggleable__label sk-toggleable__label-arrow\">Pipeline</label><div class=\"sk-toggleable__content\"><pre>Pipeline(steps=[(&#x27;classifier&#x27;,\n",
       "                 DecisionTreeClassifier(min_samples_leaf=10, random_state=42))])</pre></div></div></div><div class=\"sk-serial\"><div class=\"sk-item\"><div class=\"sk-estimator sk-toggleable\"><input class=\"sk-toggleable__control sk-hidden--visually\" id=\"sk-estimator-id-4\" type=\"checkbox\" ><label for=\"sk-estimator-id-4\" class=\"sk-toggleable__label sk-toggleable__label-arrow\">DecisionTreeClassifier</label><div class=\"sk-toggleable__content\"><pre>DecisionTreeClassifier(min_samples_leaf=10, random_state=42)</pre></div></div></div></div></div></div></div>"
      ],
      "text/plain": [
       "Pipeline(steps=[('classifier',\n",
       "                 DecisionTreeClassifier(min_samples_leaf=10, random_state=42))])"
      ]
     },
     "execution_count": 18,
     "metadata": {},
     "output_type": "execute_result"
    }
   ],
   "source": [
    "# Split the dataset into training and testing sets\n",
    "X_train, X_test, y_train, y_test, A_train, A_test = train_test_split(X, \n",
    "                                                                     Y,\n",
    "                                                                     A_str,\n",
    "                                                                     test_size=0.2,\n",
    "                                                                     stratify=Y,\n",
    "                                                                     random_state=42)\n",
    "\n",
    "# Parameters for the decision tree classifier\n",
    "d_tree_params = {\n",
    "    \"min_samples_leaf\": 10,\n",
    "    \"random_state\": 42\n",
    "}\n",
    "\n",
    "# Create a pipeline with a decision tree classifier\n",
    "estimator = Pipeline(steps=[\n",
    "    (\"classifier\", DecisionTreeClassifier(**d_tree_params))\n",
    "])\n",
    "\n",
    "# Fit the estimator on the training data\n",
    "estimator.fit(X_train, y_train)"
   ]
  },
  {
   "cell_type": "code",
   "execution_count": 19,
   "id": "b3342598-305a-4d60-b5f3-c34af7a9a7bd",
   "metadata": {},
   "outputs": [
    {
     "data": {
      "text/plain": [
       "0.8465698909107798"
      ]
     },
     "execution_count": 19,
     "metadata": {},
     "output_type": "execute_result"
    }
   ],
   "source": [
    "# Calculating the ROC\n",
    "y_pred_proba = estimator.predict_proba(X_test)[:, 1]\n",
    "y_pred = estimator.predict(X_test)\n",
    "roc_auc_score(y_test, y_pred_proba)"
   ]
  },
  {
   "cell_type": "code",
   "execution_count": 20,
   "id": "25745c11-1e84-442e-a29d-b2c2d0870c6a",
   "metadata": {},
   "outputs": [
    {
     "name": "stdout",
     "output_type": "stream",
     "text": [
      "        balanced_accuracy  false_positive_rate  false_negative_rate\n",
      "SEX                                                                \n",
      "female           0.813874             0.062853             0.309399\n",
      "male             0.696357             0.113525             0.493761\n",
      "\n",
      " *diff*\n",
      "balanced_accuracy      0.117517\n",
      "false_positive_rate    0.050672\n",
      "false_negative_rate    0.184362\n",
      "dtype: float64\n",
      "\n",
      " *final_metrics*\n",
      "balanced_accuracy      0.764922\n",
      "false_positive_rate    0.082816\n",
      "false_negative_rate    0.387340\n",
      "dtype: float64\n",
      "\n",
      " *equalized_odds*\n",
      "0.1843616630131758\n",
      "\n",
      " *demographic_parity_ratio*\n",
      "0.9573799733230204\n"
     ]
    }
   ],
   "source": [
    "# Calling the fairness metrics function\n",
    "calculate_fairness_metrics(y_test, y_pred, A_test)"
   ]
  },
  {
   "cell_type": "code",
   "execution_count": 21,
   "id": "50affafa-bbcd-42da-914d-15a45c1bf4b5",
   "metadata": {},
   "outputs": [
    {
     "data": {
      "text/html": [
       "<style>#sk-container-id-3 {color: black;}#sk-container-id-3 pre{padding: 0;}#sk-container-id-3 div.sk-toggleable {background-color: white;}#sk-container-id-3 label.sk-toggleable__label {cursor: pointer;display: block;width: 100%;margin-bottom: 0;padding: 0.3em;box-sizing: border-box;text-align: center;}#sk-container-id-3 label.sk-toggleable__label-arrow:before {content: \"▸\";float: left;margin-right: 0.25em;color: #696969;}#sk-container-id-3 label.sk-toggleable__label-arrow:hover:before {color: black;}#sk-container-id-3 div.sk-estimator:hover label.sk-toggleable__label-arrow:before {color: black;}#sk-container-id-3 div.sk-toggleable__content {max-height: 0;max-width: 0;overflow: hidden;text-align: left;background-color: #f0f8ff;}#sk-container-id-3 div.sk-toggleable__content pre {margin: 0.2em;color: black;border-radius: 0.25em;background-color: #f0f8ff;}#sk-container-id-3 input.sk-toggleable__control:checked~div.sk-toggleable__content {max-height: 200px;max-width: 100%;overflow: auto;}#sk-container-id-3 input.sk-toggleable__control:checked~label.sk-toggleable__label-arrow:before {content: \"▾\";}#sk-container-id-3 div.sk-estimator input.sk-toggleable__control:checked~label.sk-toggleable__label {background-color: #d4ebff;}#sk-container-id-3 div.sk-label input.sk-toggleable__control:checked~label.sk-toggleable__label {background-color: #d4ebff;}#sk-container-id-3 input.sk-hidden--visually {border: 0;clip: rect(1px 1px 1px 1px);clip: rect(1px, 1px, 1px, 1px);height: 1px;margin: -1px;overflow: hidden;padding: 0;position: absolute;width: 1px;}#sk-container-id-3 div.sk-estimator {font-family: monospace;background-color: #f0f8ff;border: 1px dotted black;border-radius: 0.25em;box-sizing: border-box;margin-bottom: 0.5em;}#sk-container-id-3 div.sk-estimator:hover {background-color: #d4ebff;}#sk-container-id-3 div.sk-parallel-item::after {content: \"\";width: 100%;border-bottom: 1px solid gray;flex-grow: 1;}#sk-container-id-3 div.sk-label:hover label.sk-toggleable__label {background-color: #d4ebff;}#sk-container-id-3 div.sk-serial::before {content: \"\";position: absolute;border-left: 1px solid gray;box-sizing: border-box;top: 0;bottom: 0;left: 50%;z-index: 0;}#sk-container-id-3 div.sk-serial {display: flex;flex-direction: column;align-items: center;background-color: white;padding-right: 0.2em;padding-left: 0.2em;position: relative;}#sk-container-id-3 div.sk-item {position: relative;z-index: 1;}#sk-container-id-3 div.sk-parallel {display: flex;align-items: stretch;justify-content: center;background-color: white;position: relative;}#sk-container-id-3 div.sk-item::before, #sk-container-id-3 div.sk-parallel-item::before {content: \"\";position: absolute;border-left: 1px solid gray;box-sizing: border-box;top: 0;bottom: 0;left: 50%;z-index: -1;}#sk-container-id-3 div.sk-parallel-item {display: flex;flex-direction: column;z-index: 1;position: relative;background-color: white;}#sk-container-id-3 div.sk-parallel-item:first-child::after {align-self: flex-end;width: 50%;}#sk-container-id-3 div.sk-parallel-item:last-child::after {align-self: flex-start;width: 50%;}#sk-container-id-3 div.sk-parallel-item:only-child::after {width: 0;}#sk-container-id-3 div.sk-dashed-wrapped {border: 1px dashed gray;margin: 0 0.4em 0.5em 0.4em;box-sizing: border-box;padding-bottom: 0.4em;background-color: white;}#sk-container-id-3 div.sk-label label {font-family: monospace;font-weight: bold;display: inline-block;line-height: 1.2em;}#sk-container-id-3 div.sk-label-container {text-align: center;}#sk-container-id-3 div.sk-container {/* jupyter's `normalize.less` sets `[hidden] { display: none; }` but bootstrap.min.css set `[hidden] { display: none !important; }` so we also need the `!important` here to be able to override the default hidden behavior on the sphinx rendered scikit-learn.org. See: https://github.com/scikit-learn/scikit-learn/issues/21755 */display: inline-block !important;position: relative;}#sk-container-id-3 div.sk-text-repr-fallback {display: none;}</style><div id=\"sk-container-id-3\" class=\"sk-top-container\"><div class=\"sk-text-repr-fallback\"><pre>Pipeline(steps=[(&#x27;classifier&#x27;,\n",
       "                 DecisionTreeClassifier(min_samples_leaf=10, random_state=42))])</pre><b>In a Jupyter environment, please rerun this cell to show the HTML representation or trust the notebook. <br />On GitHub, the HTML representation is unable to render, please try loading this page with nbviewer.org.</b></div><div class=\"sk-container\" hidden><div class=\"sk-item sk-dashed-wrapped\"><div class=\"sk-label-container\"><div class=\"sk-label sk-toggleable\"><input class=\"sk-toggleable__control sk-hidden--visually\" id=\"sk-estimator-id-5\" type=\"checkbox\" ><label for=\"sk-estimator-id-5\" class=\"sk-toggleable__label sk-toggleable__label-arrow\">Pipeline</label><div class=\"sk-toggleable__content\"><pre>Pipeline(steps=[(&#x27;classifier&#x27;,\n",
       "                 DecisionTreeClassifier(min_samples_leaf=10, random_state=42))])</pre></div></div></div><div class=\"sk-serial\"><div class=\"sk-item\"><div class=\"sk-estimator sk-toggleable\"><input class=\"sk-toggleable__control sk-hidden--visually\" id=\"sk-estimator-id-6\" type=\"checkbox\" ><label for=\"sk-estimator-id-6\" class=\"sk-toggleable__label sk-toggleable__label-arrow\">DecisionTreeClassifier</label><div class=\"sk-toggleable__content\"><pre>DecisionTreeClassifier(min_samples_leaf=10, random_state=42)</pre></div></div></div></div></div></div></div>"
      ],
      "text/plain": [
       "Pipeline(steps=[('classifier',\n",
       "                 DecisionTreeClassifier(min_samples_leaf=10, random_state=42))])"
      ]
     },
     "execution_count": 21,
     "metadata": {},
     "output_type": "execute_result"
    }
   ],
   "source": [
    "# Refitting the decision tree by dropping SEX variable\n",
    "d_tree_params = {\n",
    "    \"min_samples_leaf\": 10,\n",
    "    \"random_state\": 42\n",
    "}\n",
    "\n",
    "estimator = Pipeline(steps=[\n",
    "    (\"classifier\", DecisionTreeClassifier(**d_tree_params))\n",
    "])\n",
    "\n",
    "estimator.fit(X_train.drop(['SEX'], axis=1), y_train)"
   ]
  },
  {
   "cell_type": "code",
   "execution_count": 22,
   "id": "9c784057-016c-46fc-bd50-37ce543a5ca7",
   "metadata": {},
   "outputs": [
    {
     "data": {
      "text/plain": [
       "0.8392395442658211"
      ]
     },
     "execution_count": 22,
     "metadata": {},
     "output_type": "execute_result"
    }
   ],
   "source": [
    "# Calculating the ROC\n",
    "y_pred_proba = estimator.predict_proba(X_test.drop(['SEX'], axis=1))[:, 1]\n",
    "y_pred = estimator.predict(X_test.drop(['SEX'], axis=1))\n",
    "roc_auc_score(y_test, y_pred_proba)"
   ]
  },
  {
   "cell_type": "code",
   "execution_count": 23,
   "id": "4c136b7f-259e-485f-b025-cb3dfe8fea7c",
   "metadata": {},
   "outputs": [
    {
     "name": "stdout",
     "output_type": "stream",
     "text": [
      "        balanced_accuracy  false_positive_rate  false_negative_rate\n",
      "SEX                                                                \n",
      "female           0.777149             0.050141             0.395561\n",
      "male             0.720184             0.121130             0.438503\n",
      "\n",
      " *diff*\n",
      "balanced_accuracy      0.056965\n",
      "false_positive_rate    0.070989\n",
      "false_negative_rate    0.042941\n",
      "dtype: float64\n",
      "\n",
      " *final_metrics*\n",
      "balanced_accuracy      0.754088\n",
      "false_positive_rate    0.078108\n",
      "false_negative_rate    0.413715\n",
      "dtype: float64\n",
      "\n",
      " *equalized_odds*\n",
      "0.0709885778117395\n",
      "\n",
      " *demographic_parity_ratio*\n",
      "0.75073202584666\n"
     ]
    }
   ],
   "source": [
    "# Calculating the fairness metrics\n",
    "calculate_fairness_metrics_mitigated_v1 = calculate_fairness_metrics(y_test, y_pred, A_test)"
   ]
  },
  {
   "cell_type": "markdown",
   "id": "818db1d2-9fe4-401d-97ce-c654532bccc9",
   "metadata": {},
   "source": [
    "# Undersampling methods"
   ]
  },
  {
   "cell_type": "code",
   "execution_count": 24,
   "id": "e859367c-f8f1-4e9e-aee7-44a6fc616d39",
   "metadata": {},
   "outputs": [],
   "source": [
    "# Defining the scaler function for undersampling method AllKNN\n",
    "scaler = StandardScaler()\n",
    "sampler_method = AllKNN(n_jobs=-1)"
   ]
  },
  {
   "cell_type": "code",
   "execution_count": 25,
   "id": "6244abf3-9cb1-49a8-baec-66ee009537e4",
   "metadata": {},
   "outputs": [],
   "source": [
    "# Creating the pipeline\n",
    "sampler_pipeline = make_pipeline(\n",
    "    scaler,\n",
    "    sampler_method,\n",
    "    estimator)"
   ]
  },
  {
   "cell_type": "code",
   "execution_count": 26,
   "id": "6be7eaa5-f3e1-4b7d-85ce-9caa23997c94",
   "metadata": {},
   "outputs": [],
   "source": [
    "# Running the cross validation and scoring roc_auc and balanced_accuracy\n",
    "cv_results = cross_validate(sampler_pipeline,\n",
    "                            X_train.drop(['SEX'], axis=1), \n",
    "                            y_train, scoring=['roc_auc','balanced_accuracy'], \n",
    "                            return_estimator=True)"
   ]
  },
  {
   "cell_type": "code",
   "execution_count": 27,
   "id": "c9a81929-0ec9-49a7-bafd-010c3a1e878e",
   "metadata": {},
   "outputs": [
    {
     "name": "stdout",
     "output_type": "stream",
     "text": [
      "Validation roc auc : 0.853 +/- 0.006\n",
      "Validation balanced acc : 0.802 +/- 0.005\n"
     ]
    }
   ],
   "source": [
    "print(f\"Validation roc auc : {cv_results['test_roc_auc'].mean():.3f} +/- {cv_results['test_roc_auc'].std():.3f}\")\n",
    "print(f\"Validation balanced acc : {cv_results['test_balanced_accuracy'].mean():.3f} +/- {cv_results['test_balanced_accuracy'].std():.3f}\")"
   ]
  },
  {
   "cell_type": "code",
   "execution_count": 28,
   "id": "3a6dbf80-e8ba-4f32-9446-825da127c93f",
   "metadata": {},
   "outputs": [
    {
     "data": {
      "text/plain": [
       "0.8537904984477683"
      ]
     },
     "execution_count": 28,
     "metadata": {},
     "output_type": "execute_result"
    }
   ],
   "source": [
    "# Fitting the dataset and calculating roc\n",
    "model = sampler_pipeline.fit( X_train.drop(['SEX'], axis=1), y_train)\n",
    "y_pred_proba = model.predict_proba(X_test.drop(['SEX'],axis=1))[:, 1]\n",
    "y_pred = model.predict(X_test.drop(['SEX'],axis=1))\n",
    "roc_auc_score(y_test, y_pred_proba)"
   ]
  },
  {
   "cell_type": "code",
   "execution_count": 29,
   "id": "22ac053b-7d89-4660-b313-b61a867dbc95",
   "metadata": {},
   "outputs": [
    {
     "name": "stdout",
     "output_type": "stream",
     "text": [
      "        balanced_accuracy  false_positive_rate  false_negative_rate\n",
      "SEX                                                                \n",
      "female           0.839760             0.137712             0.182768\n",
      "male             0.744553             0.254210             0.256684\n",
      "\n",
      " *diff*\n",
      "balanced_accuracy      0.095207\n",
      "false_positive_rate    0.116498\n",
      "false_negative_rate    0.073917\n",
      "dtype: float64\n",
      "\n",
      " *final_metrics*\n",
      "balanced_accuracy      0.801188\n",
      "false_positive_rate    0.183608\n",
      "false_negative_rate    0.214017\n",
      "dtype: float64\n",
      "\n",
      " *equalized_odds*\n",
      "0.11649780425155823\n",
      "\n",
      " *demographic_parity_ratio*\n",
      "0.7664119740094152\n"
     ]
    }
   ],
   "source": [
    "# Printing fairness metrics\n",
    "calculate_fairness_metrics_mitigated_v2 = calculate_fairness_metrics(y_test, y_pred, A_test)"
   ]
  },
  {
   "cell_type": "markdown",
   "id": "096d0679-f1bb-4768-92d0-3000223ab5e2",
   "metadata": {},
   "source": [
    "## Instance hardness under sampling method"
   ]
  },
  {
   "cell_type": "code",
   "execution_count": 30,
   "id": "91757f4a-768f-4fea-b454-dc38a6826705",
   "metadata": {},
   "outputs": [],
   "source": [
    "# Parameters for the decision tree classifier\n",
    "d_tree_params = {\n",
    "    \"min_samples_leaf\": 10,\n",
    "    \"random_state\": 42\n",
    "}\n",
    "\n",
    "# Create a decision tree classifier with the specified parameters\n",
    "d_tree = DecisionTreeClassifier(**d_tree_params)\n",
    "\n",
    "# Define a sampler method using InstanceHardnessThreshold\n",
    "sampler_method = InstanceHardnessThreshold(\n",
    "    estimator=d_tree,\n",
    "    sampling_strategy='auto',\n",
    "    random_state=42,\n",
    "    n_jobs=-1,\n",
    "    cv=3)\n",
    "\n",
    "# Create a pipeline with a decision tree classifier\n",
    "estimator = Pipeline(steps=[\n",
    "    (\"classifier\", DecisionTreeClassifier(**d_tree_params))\n",
    "])\n",
    "\n",
    "# Create a pipeline with scaler, sampler, and estimator\n",
    "sampler_pipeline = make_pipeline(\n",
    "    scaler,\n",
    "    sampler_method,\n",
    "    estimator)\n",
    "\n",
    "# Perform cross-validation with the sampler pipeline\n",
    "cv_results = cross_validate(sampler_pipeline, X_train.drop(['SEX'], axis=1), y_train, scoring=['roc_auc','balanced_accuracy'], return_estimator=True)"
   ]
  },
  {
   "cell_type": "code",
   "execution_count": 31,
   "id": "b56ce6f7-b615-4c6e-a555-2f1219541cc7",
   "metadata": {},
   "outputs": [
    {
     "name": "stdout",
     "output_type": "stream",
     "text": [
      "Validation roc auc : 0.853 +/- 0.005\n",
      "Validation balanced acc : 0.807 +/- 0.007\n"
     ]
    }
   ],
   "source": [
    "print(f\"Validation roc auc : {cv_results['test_roc_auc'].mean():.3f} +/- {cv_results['test_roc_auc'].std():.3f}\")\n",
    "print(f\"Validation balanced acc : {cv_results['test_balanced_accuracy'].mean():.3f} +/- {cv_results['test_balanced_accuracy'].std():.3f}\")"
   ]
  },
  {
   "cell_type": "code",
   "execution_count": 32,
   "id": "6ff60cfb-a600-412e-9176-c01ace0c1a2b",
   "metadata": {},
   "outputs": [
    {
     "data": {
      "text/plain": [
       "0.8549627959428299"
      ]
     },
     "execution_count": 32,
     "metadata": {},
     "output_type": "execute_result"
    }
   ],
   "source": [
    "# Training the model and calculating ROC on test\n",
    "model = sampler_pipeline.fit( X_train.drop(['SEX'], axis=1), y_train)\n",
    "y_pred_proba = model.predict_proba(X_test.drop(['SEX'],axis=1))[:, 1]\n",
    "y_pred = model.predict(X_test.drop(['SEX'],axis=1))\n",
    "roc_auc_score(y_test, y_pred_proba)"
   ]
  },
  {
   "cell_type": "code",
   "execution_count": 33,
   "id": "e60d19f6-c169-431f-a9c0-546e12e1be22",
   "metadata": {},
   "outputs": [
    {
     "name": "stdout",
     "output_type": "stream",
     "text": [
      "        balanced_accuracy  false_positive_rate  false_negative_rate\n",
      "SEX                                                                \n",
      "female           0.844083             0.135593             0.176240\n",
      "male             0.742652             0.258012             0.256684\n",
      "\n",
      " *diff*\n",
      "balanced_accuracy      0.101432\n",
      "false_positive_rate    0.122419\n",
      "false_negative_rate    0.080444\n",
      "dtype: float64\n",
      "\n",
      " *final_metrics*\n",
      "balanced_accuracy      0.802965\n",
      "false_positive_rate    0.183822\n",
      "false_negative_rate    0.210249\n",
      "dtype: float64\n",
      "\n",
      " *equalized_odds*\n",
      "0.1224187296881761\n",
      "\n",
      " *demographic_parity_ratio*\n",
      "0.7596491075011778\n"
     ]
    }
   ],
   "source": [
    "# printing fairness metrics\n",
    "calculate_fairness_metrics_mitigated_v3 = calculate_fairness_metrics(y_test, y_pred, A_test)"
   ]
  },
  {
   "cell_type": "markdown",
   "id": "6e2c5bb9-4878-46c1-b7bd-a2d36310b7e2",
   "metadata": {},
   "source": [
    "# Oversampling methods"
   ]
  },
  {
   "cell_type": "code",
   "execution_count": 34,
   "id": "33a3b8f4-21a7-435e-92ac-53f73184c58c",
   "metadata": {},
   "outputs": [
    {
     "name": "stdout",
     "output_type": "stream",
     "text": [
      "Validation roc auc : 0.829 +/- 0.009\n",
      "Validation balanced acc : 0.758 +/- 0.012\n"
     ]
    },
    {
     "data": {
      "text/plain": [
       "0.8393191272926885"
      ]
     },
     "execution_count": 34,
     "metadata": {},
     "output_type": "execute_result"
    }
   ],
   "source": [
    "# Create a pipeline with a decision tree classifier\n",
    "estimator = Pipeline(steps=[\n",
    "    (\"classifier\", DecisionTreeClassifier(**d_tree_params))\n",
    "])\n",
    "\n",
    "# Define a SMOTE sampler method\n",
    "sampler_method = SMOTE(random_state=42)\n",
    "\n",
    "# Create a pipeline with scaler, SMOTE sampler, and the decision tree classifier\n",
    "sampler_pipeline = make_pipeline(\n",
    "    scaler,\n",
    "    sampler_method,\n",
    "    estimator)\n",
    "\n",
    "# Perform cross-validation with the sampler pipeline\n",
    "cv_results = cross_validate(sampler_pipeline, X_train.drop(['SEX'], axis=1), y_train, scoring=['roc_auc','balanced_accuracy'], return_estimator=True)\n",
    "\n",
    "# Print the mean and standard deviation of the cross-validated roc auc and balanced accuracy\n",
    "print(f\"Validation roc auc : {cv_results['test_roc_auc'].mean():.3f} +/- {cv_results['test_roc_auc'].std():.3f}\")\n",
    "print(f\"Validation balanced acc : {cv_results['test_balanced_accuracy'].mean():.3f} +/- {cv_results['test_balanced_accuracy'].std():.3f}\")\n",
    "\n",
    "# Fit the sampler pipeline on the training data and make predictions on the test data\n",
    "model = sampler_pipeline.fit(X_train.drop(['SEX'], axis=1), y_train)\n",
    "y_pred_proba = model.predict_proba(X_test.drop(['SEX'], axis=1))[:, 1]\n",
    "y_pred = model.predict(X_test.drop(['SEX'], axis=1)\n",
    "\n",
    "# Calculate the roc auc score for the predictions on the test data\n",
    "roc_auc_score(y_test, y_pred_proba)"
   ]
  },
  {
   "cell_type": "code",
   "execution_count": 35,
   "id": "f29bc9e0-d856-4185-99ac-039dd1a7e62c",
   "metadata": {},
   "outputs": [
    {
     "name": "stdout",
     "output_type": "stream",
     "text": [
      "        balanced_accuracy  false_positive_rate  false_negative_rate\n",
      "SEX                                                                \n",
      "female           0.802982             0.126412             0.267624\n",
      "male             0.710597             0.208039             0.370766\n",
      "\n",
      " *diff*\n",
      "balanced_accuracy      0.092385\n",
      "false_positive_rate    0.081627\n",
      "false_negative_rate    0.103142\n",
      "dtype: float64\n",
      "\n",
      " *final_metrics*\n",
      "balanced_accuracy      0.765101\n",
      "false_positive_rate    0.158571\n",
      "false_negative_rate    0.311228\n",
      "dtype: float64\n",
      "\n",
      " *equalized_odds*\n",
      "0.10314246752581879\n",
      "\n",
      " *demographic_parity_ratio*\n",
      "0.833584328249994\n"
     ]
    }
   ],
   "source": [
    "# Printing the fairness metrics\n",
    "calculate_fairness_metrics_mitigated_v4 = calculate_fairness_metrics(y_test, y_pred, A_test)"
   ]
  },
  {
   "cell_type": "code",
   "execution_count": 36,
   "id": "bc900a30-1bc3-424e-9a11-806de025ec12",
   "metadata": {},
   "outputs": [
    {
     "name": "stdout",
     "output_type": "stream",
     "text": [
      "Validation roc auc : 0.823 +/- 0.004\n",
      "Validation balanced acc : 0.757 +/- 0.006\n"
     ]
    },
    {
     "data": {
      "text/plain": [
       "0.816654655300673"
      ]
     },
     "execution_count": 36,
     "metadata": {},
     "output_type": "execute_result"
    }
   ],
   "source": [
    "# Create a pipeline with a decision tree classifier\n",
    "estimator = Pipeline(steps=[\n",
    "    (\"classifier\", DecisionTreeClassifier(**d_tree_params))\n",
    "])\n",
    "\n",
    "# Define an ADASYN sampler method\n",
    "sampler_method = ADASYN(random_state=42)\n",
    "\n",
    "# Create a pipeline with scaler, ADASYN sampler, and the decision tree classifier\n",
    "sampler_pipeline = make_pipeline(\n",
    "    scaler,\n",
    "    sampler_method,\n",
    "    estimator)\n",
    "\n",
    "# Perform cross-validation with the sampler pipeline\n",
    "cv_results = cross_validate(sampler_pipeline, X_train.drop(['SEX'], axis=1), y_train, scoring=['roc_auc','balanced_accuracy'], return_estimator=True)\n",
    "\n",
    "# Print the mean and standard deviation of the cross-validated roc auc and balanced accuracy\n",
    "print(f\"Validation roc auc : {cv_results['test_roc_auc'].mean():.3f} +/- {cv_results['test_roc_auc'].std():.3f}\")\n",
    "print(f\"Validation balanced acc : {cv_results['test_balanced_accuracy'].mean():.3f} +/- {cv_results['test_balanced_accuracy'].std():.3f}\")\n",
    "\n",
    "# Fit the sampler pipeline on the training data and make predictions on the test data\n",
    "model = sampler_pipeline.fit(X_train.drop(['SEX'], axis=1), y_train)\n",
    "y_pred_proba = model.predict_proba(X_test.drop(['SEX'], axis=1))[:, 1]\n",
    "y_pred = model.predict(X_test.drop(['SEX'], axis=1)\n",
    "\n",
    "# Calculate the roc auc score for the predictions on the test data\n",
    "roc_auc_score(y_test, y_pred_proba)"
   ]
  },
  {
   "cell_type": "code",
   "execution_count": 37,
   "id": "d9f88725-a9d1-4e5a-829b-892ca1689490",
   "metadata": {},
   "outputs": [
    {
     "name": "stdout",
     "output_type": "stream",
     "text": [
      "        balanced_accuracy  false_positive_rate  false_negative_rate\n",
      "SEX                                                                \n",
      "female           0.790323             0.150424             0.268930\n",
      "male             0.691245             0.232482             0.385027\n",
      "\n",
      " *diff*\n",
      "balanced_accuracy      0.099078\n",
      "false_positive_rate    0.082059\n",
      "false_negative_rate    0.116097\n",
      "dtype: float64\n",
      "\n",
      " *final_metrics*\n",
      "balanced_accuracy      0.749619\n",
      "false_positive_rate    0.182752\n",
      "false_negative_rate    0.318011\n",
      "dtype: float64\n",
      "\n",
      " *equalized_odds*\n",
      "0.11609723405146533\n",
      "\n",
      " *demographic_parity_ratio*\n",
      "0.8515482584474486\n"
     ]
    }
   ],
   "source": [
    "# Printing the fairness metrics\n",
    "calculate_fairness_metrics_mitigated_v5 = calculate_fairness_metrics(y_test, y_pred, A_test)"
   ]
  },
  {
   "cell_type": "code",
   "execution_count": 38,
   "id": "9421bc7b-16b1-47ad-be0f-29f7471fc633",
   "metadata": {
    "scrolled": true
   },
   "outputs": [
    {
     "data": {
      "text/html": [
       "<style>#sk-container-id-4 {color: black;}#sk-container-id-4 pre{padding: 0;}#sk-container-id-4 div.sk-toggleable {background-color: white;}#sk-container-id-4 label.sk-toggleable__label {cursor: pointer;display: block;width: 100%;margin-bottom: 0;padding: 0.3em;box-sizing: border-box;text-align: center;}#sk-container-id-4 label.sk-toggleable__label-arrow:before {content: \"▸\";float: left;margin-right: 0.25em;color: #696969;}#sk-container-id-4 label.sk-toggleable__label-arrow:hover:before {color: black;}#sk-container-id-4 div.sk-estimator:hover label.sk-toggleable__label-arrow:before {color: black;}#sk-container-id-4 div.sk-toggleable__content {max-height: 0;max-width: 0;overflow: hidden;text-align: left;background-color: #f0f8ff;}#sk-container-id-4 div.sk-toggleable__content pre {margin: 0.2em;color: black;border-radius: 0.25em;background-color: #f0f8ff;}#sk-container-id-4 input.sk-toggleable__control:checked~div.sk-toggleable__content {max-height: 200px;max-width: 100%;overflow: auto;}#sk-container-id-4 input.sk-toggleable__control:checked~label.sk-toggleable__label-arrow:before {content: \"▾\";}#sk-container-id-4 div.sk-estimator input.sk-toggleable__control:checked~label.sk-toggleable__label {background-color: #d4ebff;}#sk-container-id-4 div.sk-label input.sk-toggleable__control:checked~label.sk-toggleable__label {background-color: #d4ebff;}#sk-container-id-4 input.sk-hidden--visually {border: 0;clip: rect(1px 1px 1px 1px);clip: rect(1px, 1px, 1px, 1px);height: 1px;margin: -1px;overflow: hidden;padding: 0;position: absolute;width: 1px;}#sk-container-id-4 div.sk-estimator {font-family: monospace;background-color: #f0f8ff;border: 1px dotted black;border-radius: 0.25em;box-sizing: border-box;margin-bottom: 0.5em;}#sk-container-id-4 div.sk-estimator:hover {background-color: #d4ebff;}#sk-container-id-4 div.sk-parallel-item::after {content: \"\";width: 100%;border-bottom: 1px solid gray;flex-grow: 1;}#sk-container-id-4 div.sk-label:hover label.sk-toggleable__label {background-color: #d4ebff;}#sk-container-id-4 div.sk-serial::before {content: \"\";position: absolute;border-left: 1px solid gray;box-sizing: border-box;top: 0;bottom: 0;left: 50%;z-index: 0;}#sk-container-id-4 div.sk-serial {display: flex;flex-direction: column;align-items: center;background-color: white;padding-right: 0.2em;padding-left: 0.2em;position: relative;}#sk-container-id-4 div.sk-item {position: relative;z-index: 1;}#sk-container-id-4 div.sk-parallel {display: flex;align-items: stretch;justify-content: center;background-color: white;position: relative;}#sk-container-id-4 div.sk-item::before, #sk-container-id-4 div.sk-parallel-item::before {content: \"\";position: absolute;border-left: 1px solid gray;box-sizing: border-box;top: 0;bottom: 0;left: 50%;z-index: -1;}#sk-container-id-4 div.sk-parallel-item {display: flex;flex-direction: column;z-index: 1;position: relative;background-color: white;}#sk-container-id-4 div.sk-parallel-item:first-child::after {align-self: flex-end;width: 50%;}#sk-container-id-4 div.sk-parallel-item:last-child::after {align-self: flex-start;width: 50%;}#sk-container-id-4 div.sk-parallel-item:only-child::after {width: 0;}#sk-container-id-4 div.sk-dashed-wrapped {border: 1px dashed gray;margin: 0 0.4em 0.5em 0.4em;box-sizing: border-box;padding-bottom: 0.4em;background-color: white;}#sk-container-id-4 div.sk-label label {font-family: monospace;font-weight: bold;display: inline-block;line-height: 1.2em;}#sk-container-id-4 div.sk-label-container {text-align: center;}#sk-container-id-4 div.sk-container {/* jupyter's `normalize.less` sets `[hidden] { display: none; }` but bootstrap.min.css set `[hidden] { display: none !important; }` so we also need the `!important` here to be able to override the default hidden behavior on the sphinx rendered scikit-learn.org. See: https://github.com/scikit-learn/scikit-learn/issues/21755 */display: inline-block !important;position: relative;}#sk-container-id-4 div.sk-text-repr-fallback {display: none;}</style><div id=\"sk-container-id-4\" class=\"sk-top-container\"><div class=\"sk-text-repr-fallback\"><pre>Pipeline(steps=[(&#x27;standardscaler&#x27;, StandardScaler()),\n",
       "                (&#x27;adasyn&#x27;, ADASYN(random_state=42)),\n",
       "                (&#x27;pipeline&#x27;,\n",
       "                 Pipeline(steps=[(&#x27;classifier&#x27;,\n",
       "                                  DecisionTreeClassifier(min_samples_leaf=10,\n",
       "                                                         random_state=42))]))])</pre><b>In a Jupyter environment, please rerun this cell to show the HTML representation or trust the notebook. <br />On GitHub, the HTML representation is unable to render, please try loading this page with nbviewer.org.</b></div><div class=\"sk-container\" hidden><div class=\"sk-item sk-dashed-wrapped\"><div class=\"sk-label-container\"><div class=\"sk-label sk-toggleable\"><input class=\"sk-toggleable__control sk-hidden--visually\" id=\"sk-estimator-id-7\" type=\"checkbox\" ><label for=\"sk-estimator-id-7\" class=\"sk-toggleable__label sk-toggleable__label-arrow\">Pipeline</label><div class=\"sk-toggleable__content\"><pre>Pipeline(steps=[(&#x27;standardscaler&#x27;, StandardScaler()),\n",
       "                (&#x27;adasyn&#x27;, ADASYN(random_state=42)),\n",
       "                (&#x27;pipeline&#x27;,\n",
       "                 Pipeline(steps=[(&#x27;classifier&#x27;,\n",
       "                                  DecisionTreeClassifier(min_samples_leaf=10,\n",
       "                                                         random_state=42))]))])</pre></div></div></div><div class=\"sk-serial\"><div class=\"sk-item\"><div class=\"sk-estimator sk-toggleable\"><input class=\"sk-toggleable__control sk-hidden--visually\" id=\"sk-estimator-id-8\" type=\"checkbox\" ><label for=\"sk-estimator-id-8\" class=\"sk-toggleable__label sk-toggleable__label-arrow\">StandardScaler</label><div class=\"sk-toggleable__content\"><pre>StandardScaler()</pre></div></div></div><div class=\"sk-item\"><div class=\"sk-estimator sk-toggleable\"><input class=\"sk-toggleable__control sk-hidden--visually\" id=\"sk-estimator-id-9\" type=\"checkbox\" ><label for=\"sk-estimator-id-9\" class=\"sk-toggleable__label sk-toggleable__label-arrow\">ADASYN</label><div class=\"sk-toggleable__content\"><pre>ADASYN(random_state=42)</pre></div></div></div><div class=\"sk-item\"><div class=\"sk-label-container\"><div class=\"sk-label sk-toggleable\"><input class=\"sk-toggleable__control sk-hidden--visually\" id=\"sk-estimator-id-10\" type=\"checkbox\" ><label for=\"sk-estimator-id-10\" class=\"sk-toggleable__label sk-toggleable__label-arrow\">pipeline: Pipeline</label><div class=\"sk-toggleable__content\"><pre>Pipeline(steps=[(&#x27;classifier&#x27;,\n",
       "                 DecisionTreeClassifier(min_samples_leaf=10, random_state=42))])</pre></div></div></div><div class=\"sk-serial\"><div class=\"sk-item\"><div class=\"sk-estimator sk-toggleable\"><input class=\"sk-toggleable__control sk-hidden--visually\" id=\"sk-estimator-id-11\" type=\"checkbox\" ><label for=\"sk-estimator-id-11\" class=\"sk-toggleable__label sk-toggleable__label-arrow\">DecisionTreeClassifier</label><div class=\"sk-toggleable__content\"><pre>DecisionTreeClassifier(min_samples_leaf=10, random_state=42)</pre></div></div></div></div></div></div></div></div></div>"
      ],
      "text/plain": [
       "Pipeline(steps=[('standardscaler', StandardScaler()),\n",
       "                ('adasyn', ADASYN(random_state=42)),\n",
       "                ('pipeline',\n",
       "                 Pipeline(steps=[('classifier',\n",
       "                                  DecisionTreeClassifier(min_samples_leaf=10,\n",
       "                                                         random_state=42))]))])"
      ]
     },
     "execution_count": 38,
     "metadata": {},
     "output_type": "execute_result"
    }
   ],
   "source": [
    "# Create a pipeline with a decision tree classifier\n",
    "estimator = Pipeline(steps=[\n",
    "    (\"classifier\", DecisionTreeClassifier(**d_tree_params))\n",
    "])\n",
    "\n",
    "# Define an ADASYN sampler method\n",
    "sampler_method = ADASYN(random_state=42)\n",
    "\n",
    "# Create a pipeline with scaler, ADASYN sampler, and the decision tree classifier\n",
    "sampler_pipeline = make_pipeline(\n",
    "    scaler,\n",
    "    sampler_method,\n",
    "    estimator)\n",
    "\n",
    "# Perform cross-validation with the sampler pipeline and return the estimator\n",
    "cv_results = cross_validate(sampler_pipeline, X_train.drop(['SEX'], axis=1), y_train, scoring=['roc_auc','balanced_accuracy'], return_estimator=True)\n",
    "\n",
    "# Fit the sampler pipeline on the training data\n",
    "model = sampler_pipeline.fit(X_train.drop(['SEX'], axis=1), y_train)\n",
    "\n",
    "# Display the trained model\n",
    "model"
   ]
  },
  {
   "cell_type": "markdown",
   "id": "bbb53a57-302c-4228-93d2-ec3101d3c30c",
   "metadata": {},
   "source": [
    "## Oversampling plus misclassified examples at random"
   ]
  },
  {
   "cell_type": "code",
   "execution_count": 39,
   "id": "11001562-9a44-4c23-b26c-b3e59c8360bb",
   "metadata": {},
   "outputs": [],
   "source": [
    "# Select only the male samples from the training data\n",
    "X_train_males = X_train[X_train.SEX == 1].copy()\n",
    "\n",
    "# Make predictions for the male samples using the trained model\n",
    "X_train_males[\"predictions\"] = model.predict(X_train_males.drop(['SEX'], axis=1))\n",
    "\n",
    "# Add true labels for the male samples\n",
    "X_train_males['y_true'] = y_train.filter(X_train_males.index)"
   ]
  },
  {
   "cell_type": "code",
   "execution_count": 40,
   "id": "4beac5dd-c552-4a97-a648-2849a738258f",
   "metadata": {},
   "outputs": [],
   "source": [
    "# Select only the male samples from train set where model made a mistake in predicting default in males\n",
    "X_train_male_false_negatives = X_train_males[(X_train_males.y_true == 1) & (X_train_males.predictions == 0)]"
   ]
  },
  {
   "cell_type": "code",
   "execution_count": 41,
   "id": "207d8afa-f34d-4771-bf1d-a9975b819e7f",
   "metadata": {},
   "outputs": [],
   "source": [
    "# Sample a fraction (10%) of false negative male samples from the training data\n",
    "X_train_sample = X_train_male_false_negatives[X_train.columns].sample(frac=0.1, replace=True, random_state=42, axis=0)\n",
    "\n",
    "# Sample corresponding true labels for the sampled male samples\n",
    "y_train_sample = X_train_male_false_negatives['y_true'].sample(frac=0.1, replace=True, random_state=42, axis=0)"
   ]
  },
  {
   "cell_type": "code",
   "execution_count": 42,
   "id": "1d228ca9-3c6e-48c0-865c-8b4ff0743bb1",
   "metadata": {},
   "outputs": [],
   "source": [
    "# Combining the extracted samples with the training data\n",
    "X_train_with_male_samples = pd.concat([X_train, X_train_sample], axis=0, ignore_index=True)\n",
    "y_train_with_male_samples = pd.concat([y_train, y_train_sample], axis=0, ignore_index=True)"
   ]
  },
  {
   "cell_type": "code",
   "execution_count": 43,
   "id": "96c08506-ae50-4e2e-8bbe-423f3241201e",
   "metadata": {},
   "outputs": [
    {
     "name": "stdout",
     "output_type": "stream",
     "text": [
      "Validation roc auc : 0.824 +/- 0.005\n",
      "Validation balanced acc : 0.754 +/- 0.005\n"
     ]
    },
    {
     "data": {
      "text/plain": [
       "0.8201623558253082"
      ]
     },
     "execution_count": 43,
     "metadata": {},
     "output_type": "execute_result"
    }
   ],
   "source": [
    "# Perform cross-validation using the sampler pipeline on the training data with male samples\n",
    "cv_results = cross_validate(sampler_pipeline, X_train_with_male_samples.drop(['SEX'], axis=1), y_train_with_male_samples, scoring=['roc_auc','balanced_accuracy'], return_estimator=True)\n",
    "\n",
    "# Print the mean and standard deviation of ROC AUC and balanced accuracy scores from cross-validation\n",
    "print(f\"Validation roc auc : {cv_results['test_roc_auc'].mean():.3f} +/- {cv_results['test_roc_auc'].std():.3f}\")\n",
    "print(f\"Validation balanced acc : {cv_results['test_balanced_accuracy'].mean():.3f} +/- {cv_results['test_balanced_accuracy'].std():.3f}\")\n",
    "\n",
    "# Fit the sampler pipeline on the entire training data with male samples\n",
    "model = sampler_pipeline.fit(X_train_with_male_samples.drop(['SEX'], axis=1), y_train_with_male_samples)\n",
    "\n",
    "# Make predictions on the test data using the trained model\n",
    "y_pred_proba = model.predict_proba(X_test.drop(['SEX'],axis=1))[:, 1]\n",
    "y_pred = model.predict(X_test.drop(['SEX'],axis=1)\n",
    "\n",
    "# Calculate the ROC AUC score on the test data\n",
    "roc_auc_score(y_test, y_pred_proba)"
   ]
  },
  {
   "cell_type": "code",
   "execution_count": 44,
   "id": "7107710a-5c2a-4b0a-af75-53b6c0dc1907",
   "metadata": {},
   "outputs": [
    {
     "name": "stdout",
     "output_type": "stream",
     "text": [
      "        balanced_accuracy  false_positive_rate  false_negative_rate\n",
      "SEX                                                                \n",
      "female           0.784711             0.156427             0.274151\n",
      "male             0.698027             0.231396             0.372549\n",
      "\n",
      " *diff*\n",
      "balanced_accuracy      0.086684\n",
      "false_positive_rate    0.074969\n",
      "false_negative_rate    0.098398\n",
      "dtype: float64\n",
      "\n",
      " *final_metrics*\n",
      "balanced_accuracy      0.749144\n",
      "false_positive_rate    0.185962\n",
      "false_negative_rate    0.315750\n",
      "dtype: float64\n",
      "\n",
      " *equalized_odds*\n",
      "0.09839758357651152\n",
      "\n",
      " *demographic_parity_ratio*\n",
      "0.8572307380135494\n"
     ]
    }
   ],
   "source": [
    "# Calculating the fairness metrics\n",
    "calculate_fairness_metrics_mitigated_v6 = calculate_fairness_metrics(y_test, y_pred, A_test)"
   ]
  },
  {
   "cell_type": "code",
   "execution_count": 45,
   "id": "f14999cf-76ed-4505-8cbb-91baa7b784b4",
   "metadata": {},
   "outputs": [],
   "source": [
    "# Dictionary containing various resampling methods with their respective configurations\n",
    "methods = {\n",
    "    \"all_knn\": AllKNN(n_jobs=-1),\n",
    "    \"renn\": RepeatedEditedNearestNeighbours(n_jobs=-1),\n",
    "    \"iht\": InstanceHardnessThreshold(\n",
    "        estimator=DecisionTreeClassifier(**d_tree_params),\n",
    "        random_state=42,\n",
    "        n_jobs=-1,\n",
    "        cv=3),\n",
    "    \"tomek\": TomekLinks(n_jobs=-1),\n",
    "    \"adasyn\" : ADASYN(random_state=42),\n",
    "    \"smote\" : SMOTE(random_state=42),\n",
    "    \"smoteenn\": SMOTEENN(random_state=42,\n",
    "                         smote=SMOTE(random_state=42),\n",
    "                         enn=EditedNearestNeighbours(n_jobs=-1)\n",
    "                        ),\n",
    "    \"smotetomek\": SMOTETomek(random_state=42,\n",
    "                             smote=SMOTE(random_state=42),\n",
    "                             tomek=TomekLinks(n_jobs=-1)\n",
    "                            )\n",
    "}"
   ]
  },
  {
   "cell_type": "code",
   "execution_count": 46,
   "id": "73f45777-cefc-4ce6-9b4e-b0fdbaec4c09",
   "metadata": {},
   "outputs": [],
   "source": [
    "# Function to sample false positives from the training data\n",
    "def sample_false_positives(X_train, y_train, estimator, perc=0.1, subset_col=\"SEX\", subset_col_value=1, with_replace=True):\n",
    "    \"\"\"Function to sample false positives\"\"\"\n",
    "    \n",
    "    X_train = X_train.copy()\n",
    "    y_train = y_train.copy()\n",
    "    X_train_subset = X_train[X_train[subset_col] == subset_col_value].copy()\n",
    "    y_train_subset = y_train.filter(X_train_subset.index).copy()\n",
    "    X_train_subset[\"predictions\"] = estimator.predict(X_train_subset.drop([subset_col], axis=1))\n",
    "    X_train_subset['y_true'] = y_train_subset.values\n",
    "    X_train_subset_false_positives = X_train_subset[(X_train_subset.y_true == 0) & (X_train_subset.predictions == 1)]\n",
    "\n",
    "    X_train_sample = X_train_subset_false_positives[X_train.columns].sample(frac=perc, replace=with_replace, random_state=42, axis=0)\n",
    "    y_train_sample = X_train_subset_false_positives['y_true'].sample(frac=perc, replace=with_replace, random_state=42, axis=0)\n",
    "\n",
    "    X_train_sample = pd.concat([X_train, X_train_sample], axis=0, ignore_index=True)\n",
    "    y_train_sample = pd.concat([y_train, y_train_sample], axis=0, ignore_index=True)\n",
    "\n",
    "    return X_train_sample, y_train_sample\n",
    "\n",
    "# Function to sample false negatives from the training data\n",
    "def sample_false_negatives(X_train, y_train, estimator, perc=0.1, subset_col=\"SEX\", subset_col_value=1, with_replace=True):\n",
    "    \"\"\"Function to sample false positives\"\"\"\n",
    "    \n",
    "    X_train = X_train.copy()\n",
    "    y_train = y_train.copy()\n",
    "    X_train_subset = X_train[X_train[subset_col] == subset_col_value].copy()\n",
    "    y_train_subset = y_train.filter(X_train_subset.index).copy()\n",
    "    X_train_subset[\"predictions\"] = estimator.predict(X_train_subset.drop([subset_col], axis=1))\n",
    "    X_train_subset['y_true'] = y_train_subset.values\n",
    "    X_train_subset_false_negatives = X_train_subset[(X_train_subset.y_true == 1) & (X_train_subset.predictions == 0)]\n",
    "\n",
    "    X_train_sample = X_train_subset_false_negatives[X_train.columns].sample(frac=perc, replace=with_replace, random_state=42, axis=0)\n",
    "    y_train_sample = X_train_subset_false_negatives['y_true'].sample(frac=perc, replace=with_replace, random_state=42, axis=0)\n",
    "\n",
    "    X_train_sample = pd.concat([X_train, X_train_sample], axis=0, ignore_index=True)\n",
    "    y_train_sample = pd.concat([y_train, y_train_sample], axis=0, ignore_index=True)\n",
    "\n",
    "    return X_train_sample, y_train_sample"
   ]
  },
  {
   "cell_type": "code",
   "execution_count": 47,
   "id": "51172c8d-8163-41fc-93f6-0e592fed78d9",
   "metadata": {},
   "outputs": [],
   "source": [
    "# Function to calculate metrics using the provided estimator on test data\n",
    "def calculate_metrics(estimator, X_test, y_test, A_test):\n",
    "    \"\"\"Function to calculate metrics\"\"\"\n",
    "    \n",
    "    y_pred_proba = estimator.predict_proba(X_test)[:, 1]\n",
    "    y_pred = model.predict(X_test)\n",
    "    roc_auc = roc_auc_score(y_test, y_pred_proba)\n",
    "\n",
    "    balanced_accuracy = balanced_accuracy_score(y_test, y_pred)\n",
    "\n",
    "    equalized_odds = equalized_odds_difference(\n",
    "        y_test, y_pred, sensitive_features=A_test\n",
    "    )\n",
    "\n",
    "    dpr = demographic_parity_ratio(y_test, y_pred, sensitive_features=A_test)\n",
    "\n",
    "    return roc_auc, balanced_accuracy, equalized_odds, dpr"
   ]
  },
  {
   "cell_type": "code",
   "execution_count": 48,
   "id": "e8c996f0-fff2-45ca-8962-313320c14c68",
   "metadata": {},
   "outputs": [
    {
     "name": "stdout",
     "output_type": "stream",
     "text": [
      "Pipeline started for step all_knn\n",
      "Pipeline completed for step all_knn\n",
      "\n",
      "Pipeline started for step renn\n",
      "Pipeline completed for step renn\n",
      "\n",
      "Pipeline started for step iht\n",
      "Pipeline completed for step iht\n",
      "\n",
      "Pipeline started for step tomek\n",
      "Pipeline completed for step tomek\n",
      "\n",
      "Pipeline started for step adasyn\n",
      "Pipeline completed for step adasyn\n",
      "\n",
      "Pipeline started for step smote\n",
      "Pipeline completed for step smote\n",
      "\n",
      "Pipeline started for step smoteenn\n",
      "Pipeline completed for step smoteenn\n",
      "\n",
      "Pipeline started for step smotetomek\n",
      "Pipeline completed for step smotetomek\n",
      "\n"
     ]
    }
   ],
   "source": [
    "# Dictionary containing decision tree parameters\n",
    "d_tree_params = {\n",
    "    \"min_samples_leaf\": 10,\n",
    "    \"random_state\": 42\n",
    "}\n",
    "\n",
    "# Creating a pipeline with a Decision Tree Classifier estimator\n",
    "estimator = Pipeline(steps=[\n",
    "    (\"classifier\", DecisionTreeClassifier(**d_tree_params))\n",
    "])\n",
    "\n",
    "# Iterating over sampling methods\n",
    "results = []\n",
    "for name, method in methods.items():\n",
    "\n",
    "    print(f\"Pipeline started for step {name}\")\n",
    "    \n",
    "    # Creating a pipeline with a scaler, given method, and the Decision Tree Classifier estimator\n",
    "    sampler_pipeline = make_pipeline(\n",
    "        scaler,\n",
    "        method,\n",
    "        estimator)\n",
    "    \n",
    "    # Cross-validating the sampler pipeline on the training data\n",
    "    cv_results = cross_validate(sampler_pipeline,\n",
    "                                X_train.drop(['SEX'], axis=1), \n",
    "                                y_train,\n",
    "                                scoring=['roc_auc','balanced_accuracy'],\n",
    "                                return_estimator=True)\n",
    "\n",
    "    # Fitting the model to the training data\n",
    "    model = sampler_pipeline.fit(X_train.drop(['SEX'], axis=1), y_train)\n",
    "    \n",
    "    # Sampling false positives and updating the training data\n",
    "    X_train_fp_updated, y_train_fp_updated = sample_false_positives(X_train=X_train,\n",
    "                                                                    y_train=y_train,\n",
    "                                                                    estimator=model\n",
    "                                                                   )\n",
    "\n",
    "    # Sampling false negatives and updating the training data\n",
    "    X_train_fn_updated, y_train_fn_updated = sample_false_negatives(X_train=X_train,\n",
    "                                                                    y_train=y_train,\n",
    "                                                                    estimator=model\n",
    "                                                                   )\n",
    "\n",
    "    # Cross-validating the sampler pipeline on the updated false positives data\n",
    "    cv_results_fp_updated = cross_validate(sampler_pipeline,\n",
    "                                           X_train_fp_updated.drop(['SEX'], axis=1), \n",
    "                                           y_train_fp_updated,\n",
    "                                           scoring=['roc_auc','balanced_accuracy'],\n",
    "                                           return_estimator=True)\n",
    "\n",
    "    # Fitting the model to the updated false positives data\n",
    "    model = sampler_pipeline.fit(X_train_fp_updated.drop(['SEX'], axis=1), y_train_fp_updated)\n",
    "    \n",
    "    # Calculating metrics on the test data using the model trained on false positives data\n",
    "    roc_auc, balanced_accuracy, equalized_odds, dpr = calculate_metrics(estimator=model,\n",
    "                                                         X_test=X_test.drop(['SEX'], axis=1),\n",
    "                                                         y_test=y_test,\n",
    "                                                         A_test=A_test\n",
    "                                                        )\n",
    "\n",
    "    # Appending results for false positives to the results list\n",
    "    results.append((name,\n",
    "                    \"fp_samples\",\n",
    "                    roc_auc,\n",
    "                    balanced_accuracy,\n",
    "                    equalized_odds,\n",
    "                    dpr,\n",
    "                    cv_results_fp_updated['test_roc_auc'].mean(),\n",
    "                    cv_results_fp_updated['test_balanced_accuracy'].mean())\n",
    "                  )\n",
    "\n",
    "    # Cross-validating the sampler pipeline on the updated false negatives data\n",
    "    cv_results_fn_updated = cross_validate(sampler_pipeline,\n",
    "                                           X_train_fn_updated.drop(['SEX'], axis=1), \n",
    "                                           y_train_fn_updated,\n",
    "                                           scoring=['roc_auc','balanced_accuracy'],\n",
    "                                           return_estimator=True)\n",
    "\n",
    "    # Fitting the model to the updated false negatives data\n",
    "    model = sampler_pipeline.fit(X_train_fn_updated.drop(['SEX'], axis=1), y_train_fn_updated)\n",
    "    \n",
    "    # Calculating metrics on the test data using the model trained on false negatives data\n",
    "    roc_auc, balanced_accuracy, equalized_odds, dpr = calculate_metrics(estimator=model,\n",
    "                                                         X_test=X_test.drop(['SEX'], axis=1),\n",
    "                                                         y_test=y_test,\n",
    "                                                         A_test=A_test\n",
    "                                                        )\n",
    "\n",
    "    # Appending results for false negatives to the results list\n",
    "    results.append((name,\n",
    "                    \"fn_samples\",\n",
    "                    roc_auc,\n",
    "                    balanced_accuracy,\n",
    "                    equalized_odds,\n",
    "                    dpr,\n",
    "                    cv_results_fn_updated['test_roc_auc'].mean(),\n",
    "                    cv_results_fn_updated['test_balanced_accuracy'].mean())\n",
    "                  )\n",
    "\n",
    "    print(f\"Pipeline completed for step {name}\")\n",
    "    print()"
   ]
  },
  {
   "cell_type": "code",
   "execution_count": 49,
   "id": "407c10ff-5574-48ad-857b-32a5a0dd2deb",
   "metadata": {},
   "outputs": [],
   "source": [
    "# Creating a pandas DataFrame from the results list with specified columns\n",
    "df = pd.DataFrame(data=results,\n",
    "                  columns=[\"method\", \"sample\", \n",
    "                           \"test_roc_auc\", \"test_balanced_accuracy\", \"equalized_odds\",\n",
    "                           \"demographic_parity_ratio\", \"validation_roc_auc\", \"validation_balanced_accuracy\"]\n",
    "                 )"
   ]
  },
  {
   "cell_type": "code",
   "execution_count": 50,
   "id": "32f04500-855d-4abf-a9df-c44edd950076",
   "metadata": {},
   "outputs": [
    {
     "data": {
      "text/html": [
       "<div>\n",
       "<style scoped>\n",
       "    .dataframe tbody tr th:only-of-type {\n",
       "        vertical-align: middle;\n",
       "    }\n",
       "\n",
       "    .dataframe tbody tr th {\n",
       "        vertical-align: top;\n",
       "    }\n",
       "\n",
       "    .dataframe thead th {\n",
       "        text-align: right;\n",
       "    }\n",
       "</style>\n",
       "<table border=\"1\" class=\"dataframe\">\n",
       "  <thead>\n",
       "    <tr style=\"text-align: right;\">\n",
       "      <th></th>\n",
       "      <th>method</th>\n",
       "      <th>sample</th>\n",
       "      <th>test_roc_auc</th>\n",
       "      <th>test_balanced_accuracy</th>\n",
       "      <th>equalized_odds</th>\n",
       "      <th>demographic_parity_ratio</th>\n",
       "      <th>validation_roc_auc</th>\n",
       "      <th>validation_balanced_accuracy</th>\n",
       "    </tr>\n",
       "  </thead>\n",
       "  <tbody>\n",
       "    <tr>\n",
       "      <th>6</th>\n",
       "      <td>tomek</td>\n",
       "      <td>fp_samples</td>\n",
       "      <td>0.840028</td>\n",
       "      <td>0.755548</td>\n",
       "      <td>0.075251</td>\n",
       "      <td>0.766202</td>\n",
       "      <td>0.837717</td>\n",
       "      <td>0.753923</td>\n",
       "    </tr>\n",
       "    <tr>\n",
       "      <th>7</th>\n",
       "      <td>tomek</td>\n",
       "      <td>fn_samples</td>\n",
       "      <td>0.845239</td>\n",
       "      <td>0.762665</td>\n",
       "      <td>0.085028</td>\n",
       "      <td>0.762807</td>\n",
       "      <td>0.838964</td>\n",
       "      <td>0.752152</td>\n",
       "    </tr>\n",
       "    <tr>\n",
       "      <th>15</th>\n",
       "      <td>smotetomek</td>\n",
       "      <td>fn_samples</td>\n",
       "      <td>0.831481</td>\n",
       "      <td>0.759142</td>\n",
       "      <td>0.088305</td>\n",
       "      <td>0.889503</td>\n",
       "      <td>0.833660</td>\n",
       "      <td>0.759392</td>\n",
       "    </tr>\n",
       "    <tr>\n",
       "      <th>9</th>\n",
       "      <td>adasyn</td>\n",
       "      <td>fn_samples</td>\n",
       "      <td>0.820162</td>\n",
       "      <td>0.749144</td>\n",
       "      <td>0.098398</td>\n",
       "      <td>0.857231</td>\n",
       "      <td>0.824482</td>\n",
       "      <td>0.754271</td>\n",
       "    </tr>\n",
       "    <tr>\n",
       "      <th>11</th>\n",
       "      <td>smote</td>\n",
       "      <td>fn_samples</td>\n",
       "      <td>0.827696</td>\n",
       "      <td>0.759188</td>\n",
       "      <td>0.099829</td>\n",
       "      <td>0.842699</td>\n",
       "      <td>0.834220</td>\n",
       "      <td>0.762578</td>\n",
       "    </tr>\n",
       "    <tr>\n",
       "      <th>14</th>\n",
       "      <td>smotetomek</td>\n",
       "      <td>fp_samples</td>\n",
       "      <td>0.823669</td>\n",
       "      <td>0.758490</td>\n",
       "      <td>0.107787</td>\n",
       "      <td>0.830200</td>\n",
       "      <td>0.831226</td>\n",
       "      <td>0.757442</td>\n",
       "    </tr>\n",
       "    <tr>\n",
       "      <th>8</th>\n",
       "      <td>adasyn</td>\n",
       "      <td>fp_samples</td>\n",
       "      <td>0.820265</td>\n",
       "      <td>0.746181</td>\n",
       "      <td>0.108264</td>\n",
       "      <td>0.900495</td>\n",
       "      <td>0.822120</td>\n",
       "      <td>0.754570</td>\n",
       "    </tr>\n",
       "    <tr>\n",
       "      <th>2</th>\n",
       "      <td>renn</td>\n",
       "      <td>fp_samples</td>\n",
       "      <td>0.855651</td>\n",
       "      <td>0.808500</td>\n",
       "      <td>0.108267</td>\n",
       "      <td>0.801404</td>\n",
       "      <td>0.850112</td>\n",
       "      <td>0.803545</td>\n",
       "    </tr>\n",
       "    <tr>\n",
       "      <th>1</th>\n",
       "      <td>all_knn</td>\n",
       "      <td>fn_samples</td>\n",
       "      <td>0.854233</td>\n",
       "      <td>0.794824</td>\n",
       "      <td>0.110385</td>\n",
       "      <td>0.773968</td>\n",
       "      <td>0.854162</td>\n",
       "      <td>0.803953</td>\n",
       "    </tr>\n",
       "    <tr>\n",
       "      <th>0</th>\n",
       "      <td>all_knn</td>\n",
       "      <td>fp_samples</td>\n",
       "      <td>0.853206</td>\n",
       "      <td>0.796750</td>\n",
       "      <td>0.110388</td>\n",
       "      <td>0.763074</td>\n",
       "      <td>0.848643</td>\n",
       "      <td>0.797514</td>\n",
       "    </tr>\n",
       "    <tr>\n",
       "      <th>12</th>\n",
       "      <td>smoteenn</td>\n",
       "      <td>fp_samples</td>\n",
       "      <td>0.838054</td>\n",
       "      <td>0.765218</td>\n",
       "      <td>0.113160</td>\n",
       "      <td>0.850041</td>\n",
       "      <td>0.832612</td>\n",
       "      <td>0.761145</td>\n",
       "    </tr>\n",
       "    <tr>\n",
       "      <th>13</th>\n",
       "      <td>smoteenn</td>\n",
       "      <td>fn_samples</td>\n",
       "      <td>0.827099</td>\n",
       "      <td>0.759822</td>\n",
       "      <td>0.113989</td>\n",
       "      <td>0.866365</td>\n",
       "      <td>0.831088</td>\n",
       "      <td>0.758094</td>\n",
       "    </tr>\n",
       "    <tr>\n",
       "      <th>10</th>\n",
       "      <td>smote</td>\n",
       "      <td>fp_samples</td>\n",
       "      <td>0.822697</td>\n",
       "      <td>0.752652</td>\n",
       "      <td>0.116223</td>\n",
       "      <td>0.817015</td>\n",
       "      <td>0.828602</td>\n",
       "      <td>0.759015</td>\n",
       "    </tr>\n",
       "    <tr>\n",
       "      <th>4</th>\n",
       "      <td>iht</td>\n",
       "      <td>fp_samples</td>\n",
       "      <td>0.856844</td>\n",
       "      <td>0.808137</td>\n",
       "      <td>0.116905</td>\n",
       "      <td>0.774378</td>\n",
       "      <td>0.851046</td>\n",
       "      <td>0.803981</td>\n",
       "    </tr>\n",
       "    <tr>\n",
       "      <th>5</th>\n",
       "      <td>iht</td>\n",
       "      <td>fn_samples</td>\n",
       "      <td>0.852331</td>\n",
       "      <td>0.802341</td>\n",
       "      <td>0.118480</td>\n",
       "      <td>0.784571</td>\n",
       "      <td>0.854395</td>\n",
       "      <td>0.801472</td>\n",
       "    </tr>\n",
       "    <tr>\n",
       "      <th>3</th>\n",
       "      <td>renn</td>\n",
       "      <td>fn_samples</td>\n",
       "      <td>0.849737</td>\n",
       "      <td>0.808104</td>\n",
       "      <td>0.125404</td>\n",
       "      <td>0.765626</td>\n",
       "      <td>0.854015</td>\n",
       "      <td>0.799935</td>\n",
       "    </tr>\n",
       "  </tbody>\n",
       "</table>\n",
       "</div>"
      ],
      "text/plain": [
       "        method      sample  test_roc_auc  test_balanced_accuracy  \\\n",
       "6        tomek  fp_samples      0.840028                0.755548   \n",
       "7        tomek  fn_samples      0.845239                0.762665   \n",
       "15  smotetomek  fn_samples      0.831481                0.759142   \n",
       "9       adasyn  fn_samples      0.820162                0.749144   \n",
       "11       smote  fn_samples      0.827696                0.759188   \n",
       "14  smotetomek  fp_samples      0.823669                0.758490   \n",
       "8       adasyn  fp_samples      0.820265                0.746181   \n",
       "2         renn  fp_samples      0.855651                0.808500   \n",
       "1      all_knn  fn_samples      0.854233                0.794824   \n",
       "0      all_knn  fp_samples      0.853206                0.796750   \n",
       "12    smoteenn  fp_samples      0.838054                0.765218   \n",
       "13    smoteenn  fn_samples      0.827099                0.759822   \n",
       "10       smote  fp_samples      0.822697                0.752652   \n",
       "4          iht  fp_samples      0.856844                0.808137   \n",
       "5          iht  fn_samples      0.852331                0.802341   \n",
       "3         renn  fn_samples      0.849737                0.808104   \n",
       "\n",
       "    equalized_odds  demographic_parity_ratio  validation_roc_auc  \\\n",
       "6         0.075251                  0.766202            0.837717   \n",
       "7         0.085028                  0.762807            0.838964   \n",
       "15        0.088305                  0.889503            0.833660   \n",
       "9         0.098398                  0.857231            0.824482   \n",
       "11        0.099829                  0.842699            0.834220   \n",
       "14        0.107787                  0.830200            0.831226   \n",
       "8         0.108264                  0.900495            0.822120   \n",
       "2         0.108267                  0.801404            0.850112   \n",
       "1         0.110385                  0.773968            0.854162   \n",
       "0         0.110388                  0.763074            0.848643   \n",
       "12        0.113160                  0.850041            0.832612   \n",
       "13        0.113989                  0.866365            0.831088   \n",
       "10        0.116223                  0.817015            0.828602   \n",
       "4         0.116905                  0.774378            0.851046   \n",
       "5         0.118480                  0.784571            0.854395   \n",
       "3         0.125404                  0.765626            0.854015   \n",
       "\n",
       "    validation_balanced_accuracy  \n",
       "6                       0.753923  \n",
       "7                       0.752152  \n",
       "15                      0.759392  \n",
       "9                       0.754271  \n",
       "11                      0.762578  \n",
       "14                      0.757442  \n",
       "8                       0.754570  \n",
       "2                       0.803545  \n",
       "1                       0.803953  \n",
       "0                       0.797514  \n",
       "12                      0.761145  \n",
       "13                      0.758094  \n",
       "10                      0.759015  \n",
       "4                       0.803981  \n",
       "5                       0.801472  \n",
       "3                       0.799935  "
      ]
     },
     "execution_count": 50,
     "metadata": {},
     "output_type": "execute_result"
    }
   ],
   "source": [
    "# Sorting the dataframe on equalized odds\n",
    "df.sort_values(by=\"equalized_odds\")"
   ]
  },
  {
   "cell_type": "markdown",
   "id": "09a9d986-abe0-44de-ba73-e89702530880",
   "metadata": {},
   "source": [
    "## Oversampling with anomalies"
   ]
  },
  {
   "cell_type": "code",
   "execution_count": 51,
   "id": "e13f41de-0ea7-4bbc-a48a-1dfbd4843c75",
   "metadata": {},
   "outputs": [],
   "source": [
    "# Retraining on SMOTETomek, since the sampler method performed best on equalized odds\n",
    "# Creating an empty DataFrame to store scaled training data\n",
    "X_train_scaled = pd.DataFrame()\n",
    "\n",
    "# Initializing a StandardScaler for scaling the data\n",
    "scaler = StandardScaler() \n",
    "\n",
    "# Initializing a SMOTETomek sampler with specified parameters\n",
    "sampler = SMOTETomek(random_state=42,\n",
    "                     smote=SMOTE(random_state=42),\n",
    "                     tomek=TomekLinks(n_jobs=-1)\n",
    "                    )"
   ]
  },
  {
   "cell_type": "code",
   "execution_count": 52,
   "id": "228ce2d9-96c4-4c79-8f3d-fef9b6ef9041",
   "metadata": {},
   "outputs": [],
   "source": [
    "# Getting column names excluding 'SEX' from X_train\n",
    "columns = X_train.drop(['SEX'], axis=1).columns\n",
    "\n",
    "# Scaling the selected columns from X_train and storing in X_train_scaled\n",
    "X_train_scaled[columns] = scaler.fit_transform(X_train.drop(['SEX'], axis=1))\n",
    "\n",
    "# Resampling the scaled training data using the sampler\n",
    "X_train_resample, y_train_resample = sampler.fit_resample(X_train_scaled, y_train)\n",
    "\n",
    "# Inverse transforming the resampled data and storing in X_train_resample\n",
    "X_train_resample[columns] = scaler.inverse_transform(X_train_resample)"
   ]
  },
  {
   "cell_type": "code",
   "execution_count": 53,
   "id": "005fe9d8-b977-466c-8029-d9769f87a6d7",
   "metadata": {},
   "outputs": [
    {
     "name": "stderr",
     "output_type": "stream",
     "text": [
      "\n",
      "A value is trying to be set on a copy of a slice from a DataFrame\n",
      "\n",
      "See the caveats in the documentation: https://pandas.pydata.org/pandas-docs/stable/user_guide/indexing.html#returning-a-view-versus-a-copy\n"
     ]
    }
   ],
   "source": [
    "# Initializing an Isolation Forest model for detecting anomalies\n",
    "anomaly_model = IsolationForest(contamination=float(.1), random_state=42, n_jobs=-1)\n",
    "\n",
    "# Fitting the Isolation Forest model on the resampled training data\n",
    "anomaly_model.fit(X_train_resample)\n",
    "\n",
    "# Predicting anomalies and adding the result to X_train_resample\n",
    "X_train_resample['IF_anomaly'] = anomaly_model.predict(X_train_resample)\n",
    "\n",
    "# Adding the target variable 'default' to X_train_resample\n",
    "X_train_resample['default'] = y_train_resample\n",
    "\n",
    "# Filtering out additional samples identified as anomalies\n",
    "X_train_additional_samples = X_train_resample[X_train_resample.IF_anomaly == -1]\n",
    "\n",
    "# Dropping the 'IF_anomaly' column from additional samples\n",
    "X_train_additional_samples.drop(['IF_anomaly'], axis=1, inplace=True)"
   ]
  },
  {
   "cell_type": "code",
   "execution_count": 54,
   "id": "1db9e11e-1ed7-45cf-a2f5-b07d402f22bd",
   "metadata": {},
   "outputs": [],
   "source": [
    "# Removing anomalies\n",
    "X_train_clean = X_train_resample[X_train_resample.IF_anomaly != -1]\n",
    "y_train_clean = X_train_clean.default"
   ]
  },
  {
   "cell_type": "code",
   "execution_count": 55,
   "id": "75726c15-9cb6-4b49-94f0-a36f64a6a51d",
   "metadata": {},
   "outputs": [
    {
     "data": {
      "text/plain": [
       "0.8248481592937735"
      ]
     },
     "execution_count": 55,
     "metadata": {},
     "output_type": "execute_result"
    }
   ],
   "source": [
    "# Setting parameters for the Decision Tree classifier\n",
    "d_tree_params = {\n",
    "    \"min_samples_leaf\": 10,\n",
    "    \"random_state\": 42\n",
    "}\n",
    "\n",
    "# Creating a pipeline with Decision Tree classifier as the estimator\n",
    "estimator = Pipeline(steps=[\n",
    "    (\"classifier\", DecisionTreeClassifier(**d_tree_params))\n",
    "])\n",
    "\n",
    "# Fitting the estimator on cleaned training data excluding 'IF_anomaly' and 'default' columns\n",
    "estimator.fit(X_train_clean.drop(['IF_anomaly', 'default'], axis=1), y_train_clean)\n",
    "\n",
    "# Predicting probabilities for test data and selecting the positive class probability\n",
    "y_pred_proba = estimator.predict_proba(X_test.drop(['SEX'], axis=1))[:, 1]\n",
    "\n",
    "# Predicting labels for test data\n",
    "y_pred = estimator.predict(X_test.drop(['SEX'], axis=1))\n",
    "\n",
    "# Calculating the ROC AUC score using the predicted probabilities and true labels\n",
    "roc_auc_score(y_test, y_pred_proba)"
   ]
  },
  {
   "cell_type": "code",
   "execution_count": 56,
   "id": "fa7908d2-af4e-4cf7-a531-b1a0b3a869c6",
   "metadata": {},
   "outputs": [
    {
     "name": "stdout",
     "output_type": "stream",
     "text": [
      "        balanced_accuracy  false_positive_rate  false_negative_rate\n",
      "SEX                                                                \n",
      "female           0.794368             0.138418             0.272846\n",
      "male             0.701329             0.219446             0.377897\n",
      "\n",
      " *diff*\n",
      "balanced_accuracy      0.093039\n",
      "false_positive_rate    0.081028\n",
      "false_negative_rate    0.105051\n",
      "dtype: float64\n",
      "\n",
      " *final_metrics*\n",
      "balanced_accuracy      0.756201\n",
      "false_positive_rate    0.170340\n",
      "false_negative_rate    0.317257\n",
      "dtype: float64\n",
      "\n",
      " *equalized_odds*\n",
      "0.10505066018811993\n",
      "\n",
      " *demographic_parity_ratio*\n",
      "0.8413623622980747\n"
     ]
    }
   ],
   "source": [
    "# Calculating fairness metrics\n",
    "calculate_fairness_metrics(y_test, y_pred, A_test)"
   ]
  },
  {
   "cell_type": "markdown",
   "id": "9d8a858d-914f-4ccc-837c-14b7d0c90546",
   "metadata": {},
   "source": [
    "# Shaply values to detect bias, oversample and undersample data"
   ]
  },
  {
   "cell_type": "code",
   "execution_count": 57,
   "id": "96a837d0-9f54-4032-8f8b-5768f8a4d418",
   "metadata": {},
   "outputs": [],
   "source": [
    "# Splitting the dataset into training and testing sets for features (X), target (Y), and sensitive attribute (A_str)\n",
    "X_train, X_test, y_train, y_test, A_train, A_test = train_test_split(X, \n",
    "                                                                     Y,\n",
    "                                                                     A_str,\n",
    "                                                                     test_size=0.2,\n",
    "                                                                     stratify=Y,\n",
    "                                                                     random_state=42)"
   ]
  },
  {
   "cell_type": "code",
   "execution_count": 58,
   "id": "8344cda9-1d7e-4a52-91eb-ffeeb2dde450",
   "metadata": {},
   "outputs": [
    {
     "data": {
      "text/html": [
       "<style>#sk-container-id-5 {color: black;}#sk-container-id-5 pre{padding: 0;}#sk-container-id-5 div.sk-toggleable {background-color: white;}#sk-container-id-5 label.sk-toggleable__label {cursor: pointer;display: block;width: 100%;margin-bottom: 0;padding: 0.3em;box-sizing: border-box;text-align: center;}#sk-container-id-5 label.sk-toggleable__label-arrow:before {content: \"▸\";float: left;margin-right: 0.25em;color: #696969;}#sk-container-id-5 label.sk-toggleable__label-arrow:hover:before {color: black;}#sk-container-id-5 div.sk-estimator:hover label.sk-toggleable__label-arrow:before {color: black;}#sk-container-id-5 div.sk-toggleable__content {max-height: 0;max-width: 0;overflow: hidden;text-align: left;background-color: #f0f8ff;}#sk-container-id-5 div.sk-toggleable__content pre {margin: 0.2em;color: black;border-radius: 0.25em;background-color: #f0f8ff;}#sk-container-id-5 input.sk-toggleable__control:checked~div.sk-toggleable__content {max-height: 200px;max-width: 100%;overflow: auto;}#sk-container-id-5 input.sk-toggleable__control:checked~label.sk-toggleable__label-arrow:before {content: \"▾\";}#sk-container-id-5 div.sk-estimator input.sk-toggleable__control:checked~label.sk-toggleable__label {background-color: #d4ebff;}#sk-container-id-5 div.sk-label input.sk-toggleable__control:checked~label.sk-toggleable__label {background-color: #d4ebff;}#sk-container-id-5 input.sk-hidden--visually {border: 0;clip: rect(1px 1px 1px 1px);clip: rect(1px, 1px, 1px, 1px);height: 1px;margin: -1px;overflow: hidden;padding: 0;position: absolute;width: 1px;}#sk-container-id-5 div.sk-estimator {font-family: monospace;background-color: #f0f8ff;border: 1px dotted black;border-radius: 0.25em;box-sizing: border-box;margin-bottom: 0.5em;}#sk-container-id-5 div.sk-estimator:hover {background-color: #d4ebff;}#sk-container-id-5 div.sk-parallel-item::after {content: \"\";width: 100%;border-bottom: 1px solid gray;flex-grow: 1;}#sk-container-id-5 div.sk-label:hover label.sk-toggleable__label {background-color: #d4ebff;}#sk-container-id-5 div.sk-serial::before {content: \"\";position: absolute;border-left: 1px solid gray;box-sizing: border-box;top: 0;bottom: 0;left: 50%;z-index: 0;}#sk-container-id-5 div.sk-serial {display: flex;flex-direction: column;align-items: center;background-color: white;padding-right: 0.2em;padding-left: 0.2em;position: relative;}#sk-container-id-5 div.sk-item {position: relative;z-index: 1;}#sk-container-id-5 div.sk-parallel {display: flex;align-items: stretch;justify-content: center;background-color: white;position: relative;}#sk-container-id-5 div.sk-item::before, #sk-container-id-5 div.sk-parallel-item::before {content: \"\";position: absolute;border-left: 1px solid gray;box-sizing: border-box;top: 0;bottom: 0;left: 50%;z-index: -1;}#sk-container-id-5 div.sk-parallel-item {display: flex;flex-direction: column;z-index: 1;position: relative;background-color: white;}#sk-container-id-5 div.sk-parallel-item:first-child::after {align-self: flex-end;width: 50%;}#sk-container-id-5 div.sk-parallel-item:last-child::after {align-self: flex-start;width: 50%;}#sk-container-id-5 div.sk-parallel-item:only-child::after {width: 0;}#sk-container-id-5 div.sk-dashed-wrapped {border: 1px dashed gray;margin: 0 0.4em 0.5em 0.4em;box-sizing: border-box;padding-bottom: 0.4em;background-color: white;}#sk-container-id-5 div.sk-label label {font-family: monospace;font-weight: bold;display: inline-block;line-height: 1.2em;}#sk-container-id-5 div.sk-label-container {text-align: center;}#sk-container-id-5 div.sk-container {/* jupyter's `normalize.less` sets `[hidden] { display: none; }` but bootstrap.min.css set `[hidden] { display: none !important; }` so we also need the `!important` here to be able to override the default hidden behavior on the sphinx rendered scikit-learn.org. See: https://github.com/scikit-learn/scikit-learn/issues/21755 */display: inline-block !important;position: relative;}#sk-container-id-5 div.sk-text-repr-fallback {display: none;}</style><div id=\"sk-container-id-5\" class=\"sk-top-container\"><div class=\"sk-text-repr-fallback\"><pre>DecisionTreeClassifier(min_samples_leaf=10, random_state=42)</pre><b>In a Jupyter environment, please rerun this cell to show the HTML representation or trust the notebook. <br />On GitHub, the HTML representation is unable to render, please try loading this page with nbviewer.org.</b></div><div class=\"sk-container\" hidden><div class=\"sk-item\"><div class=\"sk-estimator sk-toggleable\"><input class=\"sk-toggleable__control sk-hidden--visually\" id=\"sk-estimator-id-12\" type=\"checkbox\" checked><label for=\"sk-estimator-id-12\" class=\"sk-toggleable__label sk-toggleable__label-arrow\">DecisionTreeClassifier</label><div class=\"sk-toggleable__content\"><pre>DecisionTreeClassifier(min_samples_leaf=10, random_state=42)</pre></div></div></div></div></div>"
      ],
      "text/plain": [
       "DecisionTreeClassifier(min_samples_leaf=10, random_state=42)"
      ]
     },
     "execution_count": 58,
     "metadata": {},
     "output_type": "execute_result"
    }
   ],
   "source": [
    "# Training the model\n",
    "model = DecisionTreeClassifier(**d_tree_params)\n",
    "model.fit(X_train, y_train)"
   ]
  },
  {
   "cell_type": "code",
   "execution_count": 59,
   "id": "d4b90494-239c-4636-97c6-8527db033653",
   "metadata": {},
   "outputs": [],
   "source": [
    "# Creating a SHAP TreeExplainer object for the model\n",
    "explainer = shap.TreeExplainer(model)\n",
    "\n",
    "# Calculating SHAP values for the training data\n",
    "shap_values = explainer.shap_values(X_train)"
   ]
  },
  {
   "cell_type": "code",
   "execution_count": 60,
   "id": "b849d26f-772a-4e82-9d18-f177bc2a6043",
   "metadata": {},
   "outputs": [
    {
     "data": {
      "text/plain": [
       "array([ 4.14066767e-03,  1.18731631e-02, -2.23246641e-01, -2.32653795e-02,\n",
       "       -1.45181517e-02, -1.20269659e-02, -2.39415661e-04,  7.42918899e-04,\n",
       "        1.03808180e-03, -6.19863882e-03, -3.95906459e-04, -3.25623889e-03,\n",
       "       -2.93151055e-03, -7.50661148e-03,  6.32043125e-03, -4.79048140e-03,\n",
       "       -6.07285084e-03, -8.26666488e-03,  4.60309637e-02,  9.82131153e-03,\n",
       "        0.00000000e+00, -2.88275339e-05, -1.84642828e-04,  8.20571840e-05,\n",
       "        0.00000000e+00,  0.00000000e+00,  0.00000000e+00,  0.00000000e+00,\n",
       "        3.23840664e-04, -3.33549624e-04,  8.97779790e-06,  1.57991329e-01,\n",
       "        2.96097068e-01])"
      ]
     },
     "execution_count": 60,
     "metadata": {},
     "output_type": "execute_result"
    }
   ],
   "source": [
    "# Accessing the SHAP value for the first instance of the first feature in the dataset\n",
    "shap_values[0][0]"
   ]
  },
  {
   "cell_type": "code",
   "execution_count": 61,
   "id": "a56579a2-ddf7-4daa-aa41-cdcb4f15970a",
   "metadata": {},
   "outputs": [
    {
     "name": "stderr",
     "output_type": "stream",
     "text": [
      "No data for colormapping provided via 'c'. Parameters 'vmin', 'vmax' will be ignored\n"
     ]
    },
    {
     "data": {
      "image/png": "[encoded data removed]",
      "text/plain": [
       "<Figure size 800x950 with 2 Axes>"
      ]
     },
     "metadata": {},
     "output_type": "display_data"
    }
   ],
   "source": [
    "# Creating the summary plot for false label\n",
    "shap.summary_plot(shap_values[0], X_train)"
   ]
  },
  {
   "cell_type": "code",
   "execution_count": 62,
   "id": "d9467c8b-c9f0-4ffd-8a6b-be8b8ce48414",
   "metadata": {},
   "outputs": [
    {
     "name": "stderr",
     "output_type": "stream",
     "text": [
      "No data for colormapping provided via 'c'. Parameters 'vmin', 'vmax' will be ignored\n"
     ]
    },
    {
     "data": {
      "image/png": "[encoded data removed]",
      "text/plain": [
       "<Figure size 800x950 with 2 Axes>"
      ]
     },
     "metadata": {},
     "output_type": "display_data"
    }
   ],
   "source": [
    "# Creating the summary plot for True label\n",
    "shap.summary_plot(shap_values[1], X_train)"
   ]
  },
  {
   "cell_type": "code",
   "execution_count": 63,
   "id": "f6c87d7e-bd60-4662-9dc0-6315ca0d53b7",
   "metadata": {},
   "outputs": [
    {
     "data": {
      "text/html": [
       "<style>#sk-container-id-6 {color: black;}#sk-container-id-6 pre{padding: 0;}#sk-container-id-6 div.sk-toggleable {background-color: white;}#sk-container-id-6 label.sk-toggleable__label {cursor: pointer;display: block;width: 100%;margin-bottom: 0;padding: 0.3em;box-sizing: border-box;text-align: center;}#sk-container-id-6 label.sk-toggleable__label-arrow:before {content: \"▸\";float: left;margin-right: 0.25em;color: #696969;}#sk-container-id-6 label.sk-toggleable__label-arrow:hover:before {color: black;}#sk-container-id-6 div.sk-estimator:hover label.sk-toggleable__label-arrow:before {color: black;}#sk-container-id-6 div.sk-toggleable__content {max-height: 0;max-width: 0;overflow: hidden;text-align: left;background-color: #f0f8ff;}#sk-container-id-6 div.sk-toggleable__content pre {margin: 0.2em;color: black;border-radius: 0.25em;background-color: #f0f8ff;}#sk-container-id-6 input.sk-toggleable__control:checked~div.sk-toggleable__content {max-height: 200px;max-width: 100%;overflow: auto;}#sk-container-id-6 input.sk-toggleable__control:checked~label.sk-toggleable__label-arrow:before {content: \"▾\";}#sk-container-id-6 div.sk-estimator input.sk-toggleable__control:checked~label.sk-toggleable__label {background-color: #d4ebff;}#sk-container-id-6 div.sk-label input.sk-toggleable__control:checked~label.sk-toggleable__label {background-color: #d4ebff;}#sk-container-id-6 input.sk-hidden--visually {border: 0;clip: rect(1px 1px 1px 1px);clip: rect(1px, 1px, 1px, 1px);height: 1px;margin: -1px;overflow: hidden;padding: 0;position: absolute;width: 1px;}#sk-container-id-6 div.sk-estimator {font-family: monospace;background-color: #f0f8ff;border: 1px dotted black;border-radius: 0.25em;box-sizing: border-box;margin-bottom: 0.5em;}#sk-container-id-6 div.sk-estimator:hover {background-color: #d4ebff;}#sk-container-id-6 div.sk-parallel-item::after {content: \"\";width: 100%;border-bottom: 1px solid gray;flex-grow: 1;}#sk-container-id-6 div.sk-label:hover label.sk-toggleable__label {background-color: #d4ebff;}#sk-container-id-6 div.sk-serial::before {content: \"\";position: absolute;border-left: 1px solid gray;box-sizing: border-box;top: 0;bottom: 0;left: 50%;z-index: 0;}#sk-container-id-6 div.sk-serial {display: flex;flex-direction: column;align-items: center;background-color: white;padding-right: 0.2em;padding-left: 0.2em;position: relative;}#sk-container-id-6 div.sk-item {position: relative;z-index: 1;}#sk-container-id-6 div.sk-parallel {display: flex;align-items: stretch;justify-content: center;background-color: white;position: relative;}#sk-container-id-6 div.sk-item::before, #sk-container-id-6 div.sk-parallel-item::before {content: \"\";position: absolute;border-left: 1px solid gray;box-sizing: border-box;top: 0;bottom: 0;left: 50%;z-index: -1;}#sk-container-id-6 div.sk-parallel-item {display: flex;flex-direction: column;z-index: 1;position: relative;background-color: white;}#sk-container-id-6 div.sk-parallel-item:first-child::after {align-self: flex-end;width: 50%;}#sk-container-id-6 div.sk-parallel-item:last-child::after {align-self: flex-start;width: 50%;}#sk-container-id-6 div.sk-parallel-item:only-child::after {width: 0;}#sk-container-id-6 div.sk-dashed-wrapped {border: 1px dashed gray;margin: 0 0.4em 0.5em 0.4em;box-sizing: border-box;padding-bottom: 0.4em;background-color: white;}#sk-container-id-6 div.sk-label label {font-family: monospace;font-weight: bold;display: inline-block;line-height: 1.2em;}#sk-container-id-6 div.sk-label-container {text-align: center;}#sk-container-id-6 div.sk-container {/* jupyter's `normalize.less` sets `[hidden] { display: none; }` but bootstrap.min.css set `[hidden] { display: none !important; }` so we also need the `!important` here to be able to override the default hidden behavior on the sphinx rendered scikit-learn.org. See: https://github.com/scikit-learn/scikit-learn/issues/21755 */display: inline-block !important;position: relative;}#sk-container-id-6 div.sk-text-repr-fallback {display: none;}</style><div id=\"sk-container-id-6\" class=\"sk-top-container\"><div class=\"sk-text-repr-fallback\"><pre>DecisionTreeClassifier(min_samples_leaf=10, random_state=42)</pre><b>In a Jupyter environment, please rerun this cell to show the HTML representation or trust the notebook. <br />On GitHub, the HTML representation is unable to render, please try loading this page with nbviewer.org.</b></div><div class=\"sk-container\" hidden><div class=\"sk-item\"><div class=\"sk-estimator sk-toggleable\"><input class=\"sk-toggleable__control sk-hidden--visually\" id=\"sk-estimator-id-13\" type=\"checkbox\" checked><label for=\"sk-estimator-id-13\" class=\"sk-toggleable__label sk-toggleable__label-arrow\">DecisionTreeClassifier</label><div class=\"sk-toggleable__content\"><pre>DecisionTreeClassifier(min_samples_leaf=10, random_state=42)</pre></div></div></div></div></div>"
      ],
      "text/plain": [
       "DecisionTreeClassifier(min_samples_leaf=10, random_state=42)"
      ]
     },
     "execution_count": 63,
     "metadata": {},
     "output_type": "execute_result"
    }
   ],
   "source": [
    "# Creating a Decision Tree Classifier model with specified parameters\n",
    "model = DecisionTreeClassifier(**d_tree_params)\n",
    "\n",
    "# Dropping the 'SEX' column from the training data and creating a copy\n",
    "X_train_samples = X_train.drop(['SEX'], axis=1).copy()\n",
    "\n",
    "# Creating a copy of the target variable for training\n",
    "y_train_samples = y_train.copy()\n",
    "\n",
    "# Fitting the model on the modified training data\n",
    "model.fit(X_train_samples, y_train_samples)"
   ]
  },
  {
   "cell_type": "code",
   "execution_count": 64,
   "id": "fee2aac2-fe96-4df6-a166-e84d0d90458a",
   "metadata": {},
   "outputs": [],
   "source": [
    "# Creating a SHAP explainer object for the model\n",
    "explainer = shap.Explainer(model)\n",
    "\n",
    "# Calculating SHAP values for the training data using the explainer\n",
    "shap_values = explainer.shap_values(X_train_samples)"
   ]
  },
  {
   "cell_type": "code",
   "execution_count": 65,
   "id": "b7fb6029-f9d3-4c04-bf4d-b328ee7c4baf",
   "metadata": {},
   "outputs": [],
   "source": [
    "# Calling the predict and storing in Y_pred\n",
    "Y_pred = model.predict(X_train_samples)"
   ]
  },
  {
   "cell_type": "code",
   "execution_count": 66,
   "id": "035cb37c-14d9-4080-b941-1595c41f2ae3",
   "metadata": {},
   "outputs": [
    {
     "name": "stdout",
     "output_type": "stream",
     "text": [
      "Shapley value for first value in the dataset for class 0 : -0.07290931372549389\n",
      "Shapley value for first value in the dataset for class 1 : 0.07290931372548978\n",
      "Prediction of first value is 0\n",
      "Actual prediction is 1\n"
     ]
    }
   ],
   "source": [
    "print(f\"Shapley value for first value in the dataset for class 0 : {sum(shap_values[0][0])}\")\n",
    "print(f\"Shapley value for first value in the dataset for class 1 : {sum(shap_values[1][0])}\")\n",
    "print(f\"Prediction of first value is {Y_pred[0]}\")\n",
    "print(f\"Actual prediction is {y_train_samples[0]}\")"
   ]
  },
  {
   "cell_type": "code",
   "execution_count": 67,
   "id": "92b50dfd-743e-4d27-a3b2-41c763146111",
   "metadata": {},
   "outputs": [
    {
     "data": {
      "text/html": [
       "<div>\n",
       "<style scoped>\n",
       "    .dataframe tbody tr th:only-of-type {\n",
       "        vertical-align: middle;\n",
       "    }\n",
       "\n",
       "    .dataframe tbody tr th {\n",
       "        vertical-align: top;\n",
       "    }\n",
       "\n",
       "    .dataframe thead th {\n",
       "        text-align: right;\n",
       "    }\n",
       "</style>\n",
       "<table border=\"1\" class=\"dataframe\">\n",
       "  <thead>\n",
       "    <tr style=\"text-align: right;\">\n",
       "      <th></th>\n",
       "      <th>index</th>\n",
       "      <th>predictions</th>\n",
       "      <th>actuals</th>\n",
       "      <th>shap_class_0</th>\n",
       "      <th>shap_class_1</th>\n",
       "    </tr>\n",
       "  </thead>\n",
       "  <tbody>\n",
       "    <tr>\n",
       "      <th>422</th>\n",
       "      <td>4255</td>\n",
       "      <td>1</td>\n",
       "      <td>0</td>\n",
       "      <td>-0.478792</td>\n",
       "      <td>0.478792</td>\n",
       "    </tr>\n",
       "    <tr>\n",
       "      <th>1288</th>\n",
       "      <td>13255</td>\n",
       "      <td>0</td>\n",
       "      <td>1</td>\n",
       "      <td>0.087875</td>\n",
       "      <td>-0.087875</td>\n",
       "    </tr>\n",
       "    <tr>\n",
       "      <th>208</th>\n",
       "      <td>1972</td>\n",
       "      <td>0</td>\n",
       "      <td>1</td>\n",
       "      <td>0.110097</td>\n",
       "      <td>-0.110097</td>\n",
       "    </tr>\n",
       "    <tr>\n",
       "      <th>782</th>\n",
       "      <td>8169</td>\n",
       "      <td>1</td>\n",
       "      <td>0</td>\n",
       "      <td>-0.312125</td>\n",
       "      <td>0.312125</td>\n",
       "    </tr>\n",
       "    <tr>\n",
       "      <th>759</th>\n",
       "      <td>7915</td>\n",
       "      <td>0</td>\n",
       "      <td>1</td>\n",
       "      <td>-0.078792</td>\n",
       "      <td>0.078792</td>\n",
       "    </tr>\n",
       "  </tbody>\n",
       "</table>\n",
       "</div>"
      ],
      "text/plain": [
       "      index  predictions  actuals  shap_class_0  shap_class_1\n",
       "422    4255            1        0     -0.478792      0.478792\n",
       "1288  13255            0        1      0.087875     -0.087875\n",
       "208    1972            0        1      0.110097     -0.110097\n",
       "782    8169            1        0     -0.312125      0.312125\n",
       "759    7915            0        1     -0.078792      0.078792"
      ]
     },
     "execution_count": 67,
     "metadata": {},
     "output_type": "execute_result"
    }
   ],
   "source": [
    "# Creating a list of tuples with index, predicted value, actual value, sum of SHAP values for class 0, and sum of SHAP values for class 1\n",
    "data = [(index, pred, actual, sum(s0), sum(s1)) for \n",
    "        index, (pred, actual, s0, s1) in \n",
    "        enumerate(zip(Y_pred, y_train_samples, shap_values[0], shap_values[1]))\n",
    "        if pred != actual]\n",
    "\n",
    "# Creating a DataFrame from the data list with specified column names\n",
    "df = pd.DataFrame(data=data, columns=[\"index\", \"predictions\", \"actuals\", \"shap_class_0\", \"shap_class_1\"])\n",
    "\n",
    "# Sampling 5 rows from the DataFrame with a specific random state for reproducibility\n",
    "df.sample(5, random_state=42)"
   ]
  },
  {
   "cell_type": "code",
   "execution_count": 68,
   "id": "50648de6-f4ba-482d-b989-bf0d32285b00",
   "metadata": {},
   "outputs": [
    {
     "data": {
      "image/png": "[encoded data removed]",
      "text/plain": [
       "<Figure size 2000x300 with 1 Axes>"
      ]
     },
     "metadata": {},
     "output_type": "display_data"
    }
   ],
   "source": [
    "# Creating a force plot for class 0 to explain the prediction for a specific instance\n",
    "shap.force_plot(explainer.expected_value[0], shap_values[0][4255,:], X_train_samples.iloc[4255, :], matplotlib=True)"
   ]
  },
  {
   "cell_type": "code",
   "execution_count": 69,
   "id": "d03381a1-83c6-4778-bfdc-cf676a120a5c",
   "metadata": {},
   "outputs": [
    {
     "data": {
      "image/png": "[encoded data removed]",
      "text/plain": [
       "<Figure size 2000x300 with 1 Axes>"
      ]
     },
     "metadata": {},
     "output_type": "display_data"
    }
   ],
   "source": [
    "# Force plot for class 1 for instance 4255\n",
    "shap.force_plot(explainer.expected_value[1], shap_values[1][4255,:], X_train_samples.iloc[4255, :], matplotlib=True)"
   ]
  },
  {
   "cell_type": "code",
   "execution_count": 70,
   "id": "e6f24061-d66c-4825-8c13-faf9d1a8bc6d",
   "metadata": {},
   "outputs": [
    {
     "name": "stdout",
     "output_type": "stream",
     "text": [
      "0.4787916666666662\n"
     ]
    }
   ],
   "source": [
    "# Calculating the absolute shap_impcat at index 422 for class 0\n",
    "index = 422\n",
    "shap_impact = abs(df['shap_class_0'][index])\n",
    "print(shap_impact)"
   ]
  },
  {
   "cell_type": "code",
   "execution_count": 71,
   "id": "125c1f77-fefb-4ba1-96e8-9e4be31c3892",
   "metadata": {},
   "outputs": [],
   "source": [
    "def get_shapley_impact(shap_value, threshold=0.2):\n",
    "    \"\"\"Calculate Shapley impact\"\"\"\n",
    "    \n",
    "    # Calculating the absolute values of SHAP values\n",
    "    shap_value_impacts = np.abs(shap_value)\n",
    "    \n",
    "    # Checking if the maximum absolute SHAP value is above the threshold\n",
    "    if np.max(shap_value_impacts) >= threshold:\n",
    "        # Returning the absolute sum of SHAP values if condition is met\n",
    "        return np.abs(np.sum(shap_value))"
   ]
  },
  {
   "cell_type": "code",
   "execution_count": 72,
   "id": "13fabdc5-efa5-4189-a3c1-02f9950c838f",
   "metadata": {},
   "outputs": [],
   "source": [
    "# Splitting the training data into training and validation sets along with corresponding labels and sensitive attributes\n",
    "X_train_sample, X_val, y_train_sample, y_val, A_train_sample, A_val = train_test_split(X_train, \n",
    "                                                                     y_train,\n",
    "                                                                     A_train,\n",
    "                                                                     test_size=0.2,\n",
    "                                                                     stratify=y_train,\n",
    "                                                                     random_state=42)"
   ]
  },
  {
   "cell_type": "code",
   "execution_count": 73,
   "id": "607ed0b6-dbff-4857-92b5-c4d9b2246010",
   "metadata": {},
   "outputs": [
    {
     "name": "stdout",
     "output_type": "stream",
     "text": [
      "Validation roc auc : 0.8275769341994823\n"
     ]
    },
    {
     "data": {
      "text/html": [
       "<style>#sk-container-id-7 {color: black;}#sk-container-id-7 pre{padding: 0;}#sk-container-id-7 div.sk-toggleable {background-color: white;}#sk-container-id-7 label.sk-toggleable__label {cursor: pointer;display: block;width: 100%;margin-bottom: 0;padding: 0.3em;box-sizing: border-box;text-align: center;}#sk-container-id-7 label.sk-toggleable__label-arrow:before {content: \"▸\";float: left;margin-right: 0.25em;color: #696969;}#sk-container-id-7 label.sk-toggleable__label-arrow:hover:before {color: black;}#sk-container-id-7 div.sk-estimator:hover label.sk-toggleable__label-arrow:before {color: black;}#sk-container-id-7 div.sk-toggleable__content {max-height: 0;max-width: 0;overflow: hidden;text-align: left;background-color: #f0f8ff;}#sk-container-id-7 div.sk-toggleable__content pre {margin: 0.2em;color: black;border-radius: 0.25em;background-color: #f0f8ff;}#sk-container-id-7 input.sk-toggleable__control:checked~div.sk-toggleable__content {max-height: 200px;max-width: 100%;overflow: auto;}#sk-container-id-7 input.sk-toggleable__control:checked~label.sk-toggleable__label-arrow:before {content: \"▾\";}#sk-container-id-7 div.sk-estimator input.sk-toggleable__control:checked~label.sk-toggleable__label {background-color: #d4ebff;}#sk-container-id-7 div.sk-label input.sk-toggleable__control:checked~label.sk-toggleable__label {background-color: #d4ebff;}#sk-container-id-7 input.sk-hidden--visually {border: 0;clip: rect(1px 1px 1px 1px);clip: rect(1px, 1px, 1px, 1px);height: 1px;margin: -1px;overflow: hidden;padding: 0;position: absolute;width: 1px;}#sk-container-id-7 div.sk-estimator {font-family: monospace;background-color: #f0f8ff;border: 1px dotted black;border-radius: 0.25em;box-sizing: border-box;margin-bottom: 0.5em;}#sk-container-id-7 div.sk-estimator:hover {background-color: #d4ebff;}#sk-container-id-7 div.sk-parallel-item::after {content: \"\";width: 100%;border-bottom: 1px solid gray;flex-grow: 1;}#sk-container-id-7 div.sk-label:hover label.sk-toggleable__label {background-color: #d4ebff;}#sk-container-id-7 div.sk-serial::before {content: \"\";position: absolute;border-left: 1px solid gray;box-sizing: border-box;top: 0;bottom: 0;left: 50%;z-index: 0;}#sk-container-id-7 div.sk-serial {display: flex;flex-direction: column;align-items: center;background-color: white;padding-right: 0.2em;padding-left: 0.2em;position: relative;}#sk-container-id-7 div.sk-item {position: relative;z-index: 1;}#sk-container-id-7 div.sk-parallel {display: flex;align-items: stretch;justify-content: center;background-color: white;position: relative;}#sk-container-id-7 div.sk-item::before, #sk-container-id-7 div.sk-parallel-item::before {content: \"\";position: absolute;border-left: 1px solid gray;box-sizing: border-box;top: 0;bottom: 0;left: 50%;z-index: -1;}#sk-container-id-7 div.sk-parallel-item {display: flex;flex-direction: column;z-index: 1;position: relative;background-color: white;}#sk-container-id-7 div.sk-parallel-item:first-child::after {align-self: flex-end;width: 50%;}#sk-container-id-7 div.sk-parallel-item:last-child::after {align-self: flex-start;width: 50%;}#sk-container-id-7 div.sk-parallel-item:only-child::after {width: 0;}#sk-container-id-7 div.sk-dashed-wrapped {border: 1px dashed gray;margin: 0 0.4em 0.5em 0.4em;box-sizing: border-box;padding-bottom: 0.4em;background-color: white;}#sk-container-id-7 div.sk-label label {font-family: monospace;font-weight: bold;display: inline-block;line-height: 1.2em;}#sk-container-id-7 div.sk-label-container {text-align: center;}#sk-container-id-7 div.sk-container {/* jupyter's `normalize.less` sets `[hidden] { display: none; }` but bootstrap.min.css set `[hidden] { display: none !important; }` so we also need the `!important` here to be able to override the default hidden behavior on the sphinx rendered scikit-learn.org. See: https://github.com/scikit-learn/scikit-learn/issues/21755 */display: inline-block !important;position: relative;}#sk-container-id-7 div.sk-text-repr-fallback {display: none;}</style><div id=\"sk-container-id-7\" class=\"sk-top-container\"><div class=\"sk-text-repr-fallback\"><pre>DecisionTreeClassifier(min_samples_leaf=10, random_state=42)</pre><b>In a Jupyter environment, please rerun this cell to show the HTML representation or trust the notebook. <br />On GitHub, the HTML representation is unable to render, please try loading this page with nbviewer.org.</b></div><div class=\"sk-container\" hidden><div class=\"sk-item\"><div class=\"sk-estimator sk-toggleable\"><input class=\"sk-toggleable__control sk-hidden--visually\" id=\"sk-estimator-id-14\" type=\"checkbox\" checked><label for=\"sk-estimator-id-14\" class=\"sk-toggleable__label sk-toggleable__label-arrow\">DecisionTreeClassifier</label><div class=\"sk-toggleable__content\"><pre>DecisionTreeClassifier(min_samples_leaf=10, random_state=42)</pre></div></div></div></div></div>"
      ],
      "text/plain": [
       "DecisionTreeClassifier(min_samples_leaf=10, random_state=42)"
      ]
     },
     "execution_count": 73,
     "metadata": {},
     "output_type": "execute_result"
    }
   ],
   "source": [
    "# Creating a Decision Tree Classifier model with specified parameters\n",
    "model = DecisionTreeClassifier(**d_tree_params)\n",
    "\n",
    "# Initializing a StandardScaler for feature scaling and a SMOTETomek sampler for resampling\n",
    "scaler = StandardScaler()\n",
    "sampler = SMOTETomek(random_state=42,\n",
    "                     smote=SMOTE(random_state=42),\n",
    "                     tomek=TomekLinks(n_jobs=-1)\n",
    "                    )\n",
    "\n",
    "# Storing the column names of the training sample data\n",
    "columns = X_train_sample.columns\n",
    "\n",
    "# Scaling the features of the training sample data\n",
    "X_train_scaled = pd.DataFrame()\n",
    "X_train_scaled[columns] = scaler.fit_transform(X_train_sample[columns])\n",
    "\n",
    "# Resampling the scaled training data using the sampler and then inverting the scaling\n",
    "X_train_resampled, y_train_resampled = sampler_method.fit_resample(X_train_scaled, y_train_sample)\n",
    "X_train_resampled[columns] = scaler.inverse_transform(X_train_resampled)\n",
    "A_train_resampled = X_train_resampled['SEX'].copy()\n",
    "\n",
    "# Fitting the model on the resampled training data\n",
    "model.fit(X_train_resampled.drop(['SEX'], axis=1), y_train_resampled)\n",
    "Y_pred = model.predict(X_train_resampled.drop(['SEX'], axis=1))\n",
    "y_val_pred = model.predict_proba(X_val.drop(['SEX'], axis=1)[:, 1]\n",
    "val_roc = roc_auc_score(y_val, y_val_pred)\n",
    "\n",
    "# Printing the ROC AUC score on the validation set\n",
    "print(f\"Validation roc auc : {val_roc}\")\n",
    "\n",
    "# Displaying the model\n",
    "model"
   ]
  },
  {
   "cell_type": "code",
   "execution_count": 74,
   "id": "e6a5bd67-257a-4d01-99d9-bbada2c3262d",
   "metadata": {},
   "outputs": [
    {
     "name": "stdout",
     "output_type": "stream",
     "text": [
      "Roc: 0.8258396009334518\n",
      "        balanced_accuracy  false_positive_rate  false_negative_rate\n",
      "SEX                                                                \n",
      "female           0.788349             0.146540             0.276762\n",
      "male             0.694428             0.224335             0.386809\n",
      "\n",
      " *diff*\n",
      "balanced_accuracy      0.093921\n",
      "false_positive_rate    0.077795\n",
      "false_negative_rate    0.110047\n",
      "dtype: float64\n",
      "\n",
      " *final_metrics*\n",
      "balanced_accuracy      0.749763\n",
      "false_positive_rate    0.177188\n",
      "false_negative_rate    0.323286\n",
      "dtype: float64\n",
      "\n",
      " *equalized_odds*\n",
      "0.11004686707343747\n",
      "\n",
      " *demographic_parity_ratio*\n",
      "0.8545544530463497\n"
     ]
    }
   ],
   "source": [
    "# Calculating the ROC and fairness metrics\n",
    "y_pred_proba = model.predict_proba(X_test.drop(['SEX'], axis=1))[:, 1]\n",
    "y_pred = model.predict(X_test.drop(['SEX'], axis=1))\n",
    "print(f\"Roc: {roc_auc_score(y_test, y_pred_proba)}\")\n",
    "calculate_fairness_metrics(y_test, y_pred, A_test)"
   ]
  },
  {
   "cell_type": "code",
   "execution_count": 75,
   "id": "3a87f800-4a60-4c06-942e-e980e45bb23d",
   "metadata": {},
   "outputs": [],
   "source": [
    "# Creating a SHAP explainer for the model\n",
    "explainer = shap.Explainer(model)\n",
    "\n",
    "# Extracting column names from the resampled training data excluding the 'SEX' column\n",
    "columns = X_train_resampled.drop(['SEX'], axis=1).columns\n",
    "\n",
    "# Calculating SHAP values for the resampled training data\n",
    "shap_values = explainer.shap_values(X_train_resampled[columns])"
   ]
  },
  {
   "cell_type": "code",
   "execution_count": 76,
   "id": "cee39f80-8fb2-46d9-83ec-2adb3201ede0",
   "metadata": {},
   "outputs": [],
   "source": [
    "# Creating a list of tuples containing SHAP impact values, index, true labels, predicted labels, Sex and additional information\n",
    "shapley_impact_false_negative = [(i, get_shapley_impact(s), y, p, a) \n",
    "                                for s, i, y, p, a\n",
    "                                in zip(shap_values[1], X_train_resampled.index, y_train_resampled, Y_pred, A_train_resampled)\n",
    "                                 if y == 1 and p == 0 and a == 1]"
   ]
  },
  {
   "cell_type": "code",
   "execution_count": 77,
   "id": "f21d1285-6332-439e-bca7-db5ff6bb135c",
   "metadata": {},
   "outputs": [],
   "source": [
    "# Creating a list of tuples containing SHAP impact values, index, true labels, predicted labels, and additional information\n",
    "shapley_impact_true_negative = [(i, get_shapley_impact(s), y, p, a) \n",
    "                                for s, i, y, p, a\n",
    "                                in zip(shap_values[0], X_train_resampled.index, y_train_resampled, Y_pred, A_train_resampled)\n",
    "                                 if y == 0 and p == 0 and a == 1]"
   ]
  },
  {
   "cell_type": "code",
   "execution_count": 78,
   "id": "22b6f6d9-a9e0-4d63-b554-63bd425729be",
   "metadata": {},
   "outputs": [],
   "source": [
    "# Sorting the list of tuples based on the SHAP impact values in descending order\n",
    "shapley_impact_false_negative_sorted = sorted([i for i in shapley_impact_false_negative if i[1] is not None], key=lambda x: x[1], reverse=True)"
   ]
  },
  {
   "cell_type": "code",
   "execution_count": 79,
   "id": "9fd6a91f-5495-48e4-9812-3ab079cb25a9",
   "metadata": {},
   "outputs": [],
   "source": [
    "# Sorting the list of tuples based on the SHAP impact values in descending order\n",
    "shapley_impact_true_negative_sorted = sorted([i for i in shapley_impact_true_negative if i[1] is not None], key=lambda x: x[1], reverse=True)"
   ]
  },
  {
   "cell_type": "code",
   "execution_count": 80,
   "id": "9916eb3e-0987-4933-9b78-e7e1fa0a24db",
   "metadata": {},
   "outputs": [],
   "source": [
    "# Extracting data points to eliminate based on the top 100 false negatives' SHAP impact values\n",
    "data_points_to_eliminate = [i[0] for i in shapley_impact_false_negative_sorted[0:100]]\n",
    "\n",
    "# Extracting data points to add based on the top 100 true negatives' SHAP impact values\n",
    "data_points_to_add = [i[0] for i in shapley_impact_true_negative_sorted[0:100]\n",
    "\n",
    "# Adding data points to the training set\n",
    "X_train_added = X_train_resampled[columns].iloc[data_points_to_add].sample(frac=0.5, replace=True, random_state=42, axis=0)\n",
    "y_train_added = y_train_resampled.iloc[data_points_to_add].sample(frac=0.5, replace=True, random_state=42, axis=0)\n",
    "\n",
    "# Removing data points to eliminate from the training set\n",
    "X_train_reduced = X_train_resampled[columns].drop(data_points_to_eliminate)\n",
    "y_train_reduced = y_train_resampled.drop(data_points_to_eliminate)\n",
    "\n",
    "# Combining the reduced and added data points to form the final training set\n",
    "X_train_final = pd.concat([X_train_reduced, X_train_added], axis=0, ignore_index=True)\n",
    "y_train_final = pd.concat([y_train_reduced, y_train_added], axis=0, ignore_index=True)"
   ]
  },
  {
   "cell_type": "code",
   "execution_count": 81,
   "id": "8ccbfdbf-07cf-4c75-9a0b-f71677138cb7",
   "metadata": {},
   "outputs": [
    {
     "name": "stdout",
     "output_type": "stream",
     "text": [
      "Roc: 0.8262453372973797\n",
      "        balanced_accuracy  false_positive_rate  false_negative_rate\n",
      "SEX                                                                \n",
      "female           0.785845             0.143715             0.284595\n",
      "male             0.706405             0.219989             0.367201\n",
      "\n",
      " *diff*\n",
      "balanced_accuracy      0.079440\n",
      "false_positive_rate    0.076274\n",
      "false_negative_rate    0.082606\n",
      "dtype: float64\n",
      "\n",
      " *final_metrics*\n",
      "balanced_accuracy      0.753359\n",
      "false_positive_rate    0.173764\n",
      "false_negative_rate    0.319518\n",
      "dtype: float64\n",
      "\n",
      " *equalized_odds*\n",
      "0.08260612576385884\n",
      "\n",
      " *demographic_parity_ratio*\n",
      "0.8388834440186068\n"
     ]
    }
   ],
   "source": [
    "# Creating a Decision Tree Classifier with specified parameters\n",
    "estimator = DecisionTreeClassifier(**d_tree_params)\n",
    "# Fitting the model on the training data\n",
    "model = estimator.fit(X_train_final, y_train_final)\n",
    "\n",
    "# Getting predicted probabilities for the positive class\n",
    "y_pred_proba = model.predict_proba(X_test.drop(['SEX'], axis=1))[:, 1]\n",
    "# Getting the predicted labels\n",
    "y_pred = model.predict(X_test.drop(['SEX'], axis=1)\n",
    "\n",
    "# Calculating and printing the ROC AUC score\n",
    "print(f\"Roc: {roc_auc_score(y_test, y_pred_proba)}\")\n",
    "# Calculating fairness metrics\n",
    "calculate_fairness_metrics(y_test, y_pred, A_test)"
   ]
  },
  {
   "cell_type": "code",
   "execution_count": 82,
   "id": "43ed8282-ae17-481b-a04b-4ea1547d748c",
   "metadata": {},
   "outputs": [
    {
     "data": {
      "text/plain": [
       "array([0.05, 0.1 , 0.15, 0.2 , 0.25, 0.3 , 0.35, 0.4 , 0.45, 0.5 ])"
      ]
     },
     "execution_count": 82,
     "metadata": {},
     "output_type": "execute_result"
    }
   ],
   "source": [
    "# Generating an array of percentages ranging from 0.05 to 0.5 with 10 equally spaced points\n",
    "perc_points_to_eliminate = np.linspace(0.05, 0.5, 10)\n",
    "perc_points_to_eliminate"
   ]
  },
  {
   "cell_type": "code",
   "execution_count": 83,
   "id": "0465e108-1e8e-4ca5-bef7-5b77f0308ff1",
   "metadata": {},
   "outputs": [],
   "source": [
    "# Getting the number of false negative and true negative examples\n",
    "fn_examples = len(shapley_impact_false_negative)\n",
    "tn_examples = len(shapley_impact_true_negative)\n",
    "\n",
    "# Creating a Decision Tree Classifier with specified parameters\n",
    "model = DecisionTreeClassifier(**d_tree_params)\n",
    "\n",
    "data = []\n",
    "# Looping over different percentages to eliminate from false negatives\n",
    "for fnp in perc_points_to_eliminate:\n",
    "    # Getting data points to eliminate based on Shapley impact for false negatives\n",
    "    data_points_to_eliminate = [idx[0] for idx in shapley_impact_false_negative_sorted[0:(round(fn_examples*fnp))]\n",
    "    \n",
    "    # Looping over different percentages to eliminate from true negatives\n",
    "    for tnp in perc_points_to_eliminate:\n",
    "        # Getting data points to add based on Shapley impact for true negatives\n",
    "        data_points_to_add = [idx[0] for idx in shapley_impact_true_negative_sorted[0:(round(tn_examples*tnp))]\n",
    "        \n",
    "        # Adding random samples of data from data points to add to training set\n",
    "        X_train_added = X_train_resampled[columns].iloc[data_points_to_add].sample(frac=0.5, replace=True, random_state=42, axis=0)\n",
    "        y_train_added = y_train_resampled.iloc[data_points_to_add].sample(frac=0.5, replace=True, random_state=42, axis=0)\n",
    "\n",
    "        # Removing data points to eliminate from training set\n",
    "        X_train_reduced = X_train_resampled[columns].drop(data_points_to_eliminate)\n",
    "        y_train_reduced = y_train_resampled.drop(data_points_to_eliminate)\n",
    "\n",
    "        # Combining reduced and added data points to create final training set\n",
    "        X_train_final = pd.concat([X_train_reduced, X_train_added], axis=0, ignore_index=True)\n",
    "        y_train_final = pd.concat([y_train_reduced, y_train_added], axis=0, ignore_index=True)\n",
    "        \n",
    "        # Fitting the model on the final training set\n",
    "        model.fit(X_train_final, y_train_final)\n",
    "\n",
    "        # Making predictions on the test set\n",
    "        y_pred = model.predict(X_test.drop(['SEX'], axis=1))\n",
    "        \n",
    "        # Calculating false positive rate and false negative rate\n",
    "        fpr = false_positive_rate(y_test, y_pred)\n",
    "        fnr = false_negative_rate(y_test, y_pred)\n",
    "\n",
    "        # Calculating Equalized Odds Difference after mitigation\n",
    "        equalized_odds_mitigated = equalized_odds_difference(y_test, y_pred, sensitive_features=A_test)\n",
    "        \n",
    "        # Calculating Demographic Parity Ratio after mitigation\n",
    "        demographic_parity_ratio_mitigated = demographic_parity_ratio(y_test, y_pred, sensitive_features=A_test)\n",
    "  \n",
    "        # Appending the results to the data list\n",
    "        data.append((fnp, tnp, fpr, fnr, equalized_odds_mitigated, demographic_parity_ratio_mitigated))"
   ]
  },
  {
   "cell_type": "code",
   "execution_count": 84,
   "id": "bb81d10a-aba9-48b1-9e5e-775a9a6e145b",
   "metadata": {},
   "outputs": [
    {
     "data": {
      "text/html": [
       "<div>\n",
       "<style scoped>\n",
       "    .dataframe tbody tr th:only-of-type {\n",
       "        vertical-align: middle;\n",
       "    }\n",
       "\n",
       "    .dataframe tbody tr th {\n",
       "        vertical-align: top;\n",
       "    }\n",
       "\n",
       "    .dataframe thead th {\n",
       "        text-align: right;\n",
       "    }\n",
       "</style>\n",
       "<table border=\"1\" class=\"dataframe\">\n",
       "  <thead>\n",
       "    <tr style=\"text-align: right;\">\n",
       "      <th></th>\n",
       "      <th>perc_false_negative_removed</th>\n",
       "      <th>perc_true_negative_added</th>\n",
       "      <th>false_positive_rate</th>\n",
       "      <th>false_negative_rate</th>\n",
       "      <th>equalized_odds_mitigated</th>\n",
       "      <th>demographic_parity_ratio_mitigated</th>\n",
       "    </tr>\n",
       "  </thead>\n",
       "  <tbody>\n",
       "    <tr>\n",
       "      <th>45</th>\n",
       "      <td>0.25</td>\n",
       "      <td>0.30</td>\n",
       "      <td>0.165846</td>\n",
       "      <td>0.343632</td>\n",
       "      <td>0.074799</td>\n",
       "      <td>0.854371</td>\n",
       "    </tr>\n",
       "    <tr>\n",
       "      <th>44</th>\n",
       "      <td>0.25</td>\n",
       "      <td>0.25</td>\n",
       "      <td>0.166916</td>\n",
       "      <td>0.343632</td>\n",
       "      <td>0.077887</td>\n",
       "      <td>0.850584</td>\n",
       "    </tr>\n",
       "    <tr>\n",
       "      <th>34</th>\n",
       "      <td>0.20</td>\n",
       "      <td>0.25</td>\n",
       "      <td>0.165846</td>\n",
       "      <td>0.339864</td>\n",
       "      <td>0.081326</td>\n",
       "      <td>0.848495</td>\n",
       "    </tr>\n",
       "    <tr>\n",
       "      <th>79</th>\n",
       "      <td>0.40</td>\n",
       "      <td>0.50</td>\n",
       "      <td>0.160068</td>\n",
       "      <td>0.332329</td>\n",
       "      <td>0.082029</td>\n",
       "      <td>0.851693</td>\n",
       "    </tr>\n",
       "    <tr>\n",
       "      <th>25</th>\n",
       "      <td>0.15</td>\n",
       "      <td>0.30</td>\n",
       "      <td>0.170126</td>\n",
       "      <td>0.335343</td>\n",
       "      <td>0.082983</td>\n",
       "      <td>0.847364</td>\n",
       "    </tr>\n",
       "    <tr>\n",
       "      <th>...</th>\n",
       "      <td>...</td>\n",
       "      <td>...</td>\n",
       "      <td>...</td>\n",
       "      <td>...</td>\n",
       "      <td>...</td>\n",
       "      <td>...</td>\n",
       "    </tr>\n",
       "    <tr>\n",
       "      <th>15</th>\n",
       "      <td>0.10</td>\n",
       "      <td>0.30</td>\n",
       "      <td>0.164562</td>\n",
       "      <td>0.335343</td>\n",
       "      <td>0.113863</td>\n",
       "      <td>0.861112</td>\n",
       "    </tr>\n",
       "    <tr>\n",
       "      <th>70</th>\n",
       "      <td>0.40</td>\n",
       "      <td>0.05</td>\n",
       "      <td>0.170768</td>\n",
       "      <td>0.317257</td>\n",
       "      <td>0.114315</td>\n",
       "      <td>0.853234</td>\n",
       "    </tr>\n",
       "    <tr>\n",
       "      <th>61</th>\n",
       "      <td>0.35</td>\n",
       "      <td>0.10</td>\n",
       "      <td>0.167130</td>\n",
       "      <td>0.314996</td>\n",
       "      <td>0.115143</td>\n",
       "      <td>0.842758</td>\n",
       "    </tr>\n",
       "    <tr>\n",
       "      <th>67</th>\n",
       "      <td>0.35</td>\n",
       "      <td>0.40</td>\n",
       "      <td>0.165204</td>\n",
       "      <td>0.326300</td>\n",
       "      <td>0.120265</td>\n",
       "      <td>0.851820</td>\n",
       "    </tr>\n",
       "    <tr>\n",
       "      <th>60</th>\n",
       "      <td>0.35</td>\n",
       "      <td>0.05</td>\n",
       "      <td>0.166488</td>\n",
       "      <td>0.309721</td>\n",
       "      <td>0.121194</td>\n",
       "      <td>0.842290</td>\n",
       "    </tr>\n",
       "  </tbody>\n",
       "</table>\n",
       "<p>100 rows × 6 columns</p>\n",
       "</div>"
      ],
      "text/plain": [
       "    perc_false_negative_removed  perc_true_negative_added  \\\n",
       "45                         0.25                      0.30   \n",
       "44                         0.25                      0.25   \n",
       "34                         0.20                      0.25   \n",
       "79                         0.40                      0.50   \n",
       "25                         0.15                      0.30   \n",
       "..                          ...                       ...   \n",
       "15                         0.10                      0.30   \n",
       "70                         0.40                      0.05   \n",
       "61                         0.35                      0.10   \n",
       "67                         0.35                      0.40   \n",
       "60                         0.35                      0.05   \n",
       "\n",
       "    false_positive_rate  false_negative_rate  equalized_odds_mitigated  \\\n",
       "45             0.165846             0.343632                  0.074799   \n",
       "44             0.166916             0.343632                  0.077887   \n",
       "34             0.165846             0.339864                  0.081326   \n",
       "79             0.160068             0.332329                  0.082029   \n",
       "25             0.170126             0.335343                  0.082983   \n",
       "..                  ...                  ...                       ...   \n",
       "15             0.164562             0.335343                  0.113863   \n",
       "70             0.170768             0.317257                  0.114315   \n",
       "61             0.167130             0.314996                  0.115143   \n",
       "67             0.165204             0.326300                  0.120265   \n",
       "60             0.166488             0.309721                  0.121194   \n",
       "\n",
       "    demographic_parity_ratio_mitigated  \n",
       "45                            0.854371  \n",
       "44                            0.850584  \n",
       "34                            0.848495  \n",
       "79                            0.851693  \n",
       "25                            0.847364  \n",
       "..                                 ...  \n",
       "15                            0.861112  \n",
       "70                            0.853234  \n",
       "61                            0.842758  \n",
       "67                            0.851820  \n",
       "60                            0.842290  \n",
       "\n",
       "[100 rows x 6 columns]"
      ]
     },
     "execution_count": 84,
     "metadata": {},
     "output_type": "execute_result"
    }
   ],
   "source": [
    "# Creating a DataFrame with specified columns and data\n",
    "columns = [\"perc_false_negative_removed\",\n",
    "          \"perc_true_negative_added\",\n",
    "          \"false_positive_rate\",\n",
    "          \"false_negative_rate\",\n",
    "          \"equalized_odds_mitigated\",\n",
    "          \"demographic_parity_ratio_mitigated\"]\n",
    "\n",
    "df_shapley = pd.DataFrame(data=data, columns=columns)\n",
    "# Sorting the DataFrame by the 'equalized_odds_mitigated' column\n",
    "df_shapley.sort_values(by=\"equalized_odds_mitigated\")"
   ]
  },
  {
   "cell_type": "code",
   "execution_count": 85,
   "id": "81859b40-59be-4cb1-b0f0-26a950e2808d",
   "metadata": {},
   "outputs": [],
   "source": [
    "# Sorting the DataFrame by the 'equalized_odds_mitigated' column and getting the top values\n",
    "top_values = df_shapley.sort_values(by=\"equalized_odds_mitigated\").values[0]\n",
    "# Extracting the percentage of false negatives removed and true negatives added from the top values\n",
    "perc_false_negative_removed = top_values[0]\n",
    "perc_true_negative_added = top_values[1]"
   ]
  },
  {
   "cell_type": "code",
   "execution_count": 86,
   "id": "33d71b0c-b14d-4e93-8586-f86a5e70ec1f",
   "metadata": {},
   "outputs": [],
   "source": [
    "# Extracting column names from the resampled training data excluding the 'SEX' column\n",
    "columns = X_train_resampled.drop(['SEX'], axis=1).columns\n",
    "# Selecting data points to eliminate based on the percentage of false negatives removed\n",
    "data_points_to_eliminate = [i[0] for i in shapley_impact_false_negative_sorted[0:(round(fn_examples*perc_false_negative_removed))]]\n",
    "# Selecting data points to add based on the percentage of true negatives added\n",
    "data_points_to_add = [i[0] for i in shapley_impact_true_negative_sorted[0:(round(tn_examples*perc_true_negative_added))]\n",
    "\n",
    "# Creating a new DataFrame with added data points based on the selected indices\n",
    "X_train_added = X_train_resampled[columns].iloc[data_points_to_add].sample(frac=0.5, replace=True, random_state=42, axis=0)\n",
    "y_train_added = y_train_resampled.iloc[data_points_to_add].sample(frac=0.5, replace=True, random_state=42, axis=0)\n",
    "\n",
    "# Removing data points to eliminate from the resampled training data\n",
    "X_train_reduced = X_train_resampled[columns].drop(data_points_to_eliminate)\n",
    "y_train_reduced = y_train_resampled.drop(data_points_to_eliminate)\n",
    "\n",
    "# Combining reduced and added data to get the final training set\n",
    "X_train_final = pd.concat([X_train_reduced, X_train_added], axis=0, ignore_index=True)\n",
    "y_train_final = pd.concat([y_train_reduced, y_train_added], axis=0, ignore_index=True)"
   ]
  },
  {
   "cell_type": "code",
   "execution_count": 87,
   "id": "c4997b76-d982-4a99-a082-4b0665aad2f4",
   "metadata": {},
   "outputs": [
    {
     "name": "stdout",
     "output_type": "stream",
     "text": [
      "Roc: 0.820911097453972\n",
      "        balanced_accuracy  false_positive_rate  false_negative_rate\n",
      "SEX                                                                \n",
      "female           0.773903             0.140184             0.312010\n",
      "male             0.703934             0.205323             0.386809\n",
      "\n",
      " *diff*\n",
      "balanced_accuracy      0.069969\n",
      "false_positive_rate    0.065140\n",
      "false_negative_rate    0.074799\n",
      "dtype: float64\n",
      "\n",
      " *final_metrics*\n",
      "balanced_accuracy      0.745261\n",
      "false_positive_rate    0.165846\n",
      "false_negative_rate    0.343632\n",
      "dtype: float64\n",
      "\n",
      " *equalized_odds*\n",
      "0.07479882529798065\n",
      "\n",
      " *demographic_parity_ratio*\n",
      "0.8543712342498679\n"
     ]
    }
   ],
   "source": [
    "# Creating a Decision Tree Classifier with the specified parameters\n",
    "estimator = DecisionTreeClassifier(**d_tree_params)\n",
    "# Fitting the model on the final training data\n",
    "model = estimator.fit(X_train_final, y_train_final)\n",
    "\n",
    "# Predicting probabilities for the test data excluding the 'SEX' column\n",
    "y_pred_proba = model.predict_proba(X_test.drop(['SEX'], axis=1))[:, 1]\n",
    "# Making predictions on the test data excluding the 'SEX' column\n",
    "y_pred = model.predict(X_test.drop(['SEX'], axis=1)\n",
    "\n",
    "# Calculating and printing the ROC AUC score\n",
    "print(f\"Roc: {roc_auc_score(y_test, y_pred_proba)}\")\n",
    "# Calculating fairness metrics using the test labels, predictions, and sensitive attribute values\n",
    "calculate_fairness_metrics(y_test, y_pred, A_test)"
   ]
  }
 ],
 "metadata": {
  "kernelspec": {
   "display_name": "Python 3 (ipykernel)",
   "language": "python",
   "name": "python3"
  },
  "language_info": {
   "codemirror_mode": {
    "name": "ipython",
    "version": 3
   },
   "file_extension": ".py",
   "mimetype": "text/x-python",
   "name": "python",
   "nbconvert_exporter": "python",
   "pygments_lexer": "ipython3",
   "version": "3.9.12"
  }
 },
 "nbformat": 4,
 "nbformat_minor": 5
}
