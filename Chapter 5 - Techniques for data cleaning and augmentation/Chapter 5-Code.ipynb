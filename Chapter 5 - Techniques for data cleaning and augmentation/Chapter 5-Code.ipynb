{
 "cells": [
  {
   "cell_type": "code",
   "execution_count": 1,
   "id": "bf3b2e5c",
   "metadata": {},
   "outputs": [],
   "source": [
    "# Importing the libraries\n",
    "import pandas as pd\n",
    "import numpy as np\n",
    "import missingno as msno\n",
    "import matplotlib.pyplot as plt"
   ]
  },
  {
   "cell_type": "code",
   "execution_count": 2,
   "id": "3d2ac6f3",
   "metadata": {},
   "outputs": [
    {
     "data": {
      "text/html": [
       "<div>\n",
       "<style scoped>\n",
       "    .dataframe tbody tr th:only-of-type {\n",
       "        vertical-align: middle;\n",
       "    }\n",
       "\n",
       "    .dataframe tbody tr th {\n",
       "        vertical-align: top;\n",
       "    }\n",
       "\n",
       "    .dataframe thead th {\n",
       "        text-align: right;\n",
       "    }\n",
       "</style>\n",
       "<table border=\"1\" class=\"dataframe\">\n",
       "  <thead>\n",
       "    <tr style=\"text-align: right;\">\n",
       "      <th></th>\n",
       "      <th>0</th>\n",
       "      <th>1</th>\n",
       "      <th>2</th>\n",
       "      <th>3</th>\n",
       "      <th>4</th>\n",
       "    </tr>\n",
       "  </thead>\n",
       "  <tbody>\n",
       "    <tr>\n",
       "      <th>Loan_ID</th>\n",
       "      <td>LP001002</td>\n",
       "      <td>LP001003</td>\n",
       "      <td>LP001005</td>\n",
       "      <td>LP001006</td>\n",
       "      <td>LP001008</td>\n",
       "    </tr>\n",
       "    <tr>\n",
       "      <th>Gender</th>\n",
       "      <td>Male</td>\n",
       "      <td>Male</td>\n",
       "      <td>Male</td>\n",
       "      <td>Male</td>\n",
       "      <td>Male</td>\n",
       "    </tr>\n",
       "    <tr>\n",
       "      <th>Married</th>\n",
       "      <td>No</td>\n",
       "      <td>Yes</td>\n",
       "      <td>Yes</td>\n",
       "      <td>Yes</td>\n",
       "      <td>No</td>\n",
       "    </tr>\n",
       "    <tr>\n",
       "      <th>Dependents</th>\n",
       "      <td>0</td>\n",
       "      <td>1</td>\n",
       "      <td>0</td>\n",
       "      <td>0</td>\n",
       "      <td>0</td>\n",
       "    </tr>\n",
       "    <tr>\n",
       "      <th>Education</th>\n",
       "      <td>Graduate</td>\n",
       "      <td>Graduate</td>\n",
       "      <td>Graduate</td>\n",
       "      <td>Not Graduate</td>\n",
       "      <td>Graduate</td>\n",
       "    </tr>\n",
       "    <tr>\n",
       "      <th>Self_Employed</th>\n",
       "      <td>No</td>\n",
       "      <td>No</td>\n",
       "      <td>Yes</td>\n",
       "      <td>No</td>\n",
       "      <td>No</td>\n",
       "    </tr>\n",
       "    <tr>\n",
       "      <th>ApplicantIncome</th>\n",
       "      <td>5849</td>\n",
       "      <td>4583</td>\n",
       "      <td>3000</td>\n",
       "      <td>2583</td>\n",
       "      <td>6000</td>\n",
       "    </tr>\n",
       "    <tr>\n",
       "      <th>CoapplicantIncome</th>\n",
       "      <td>0.0</td>\n",
       "      <td>1508.0</td>\n",
       "      <td>0.0</td>\n",
       "      <td>2358.0</td>\n",
       "      <td>0.0</td>\n",
       "    </tr>\n",
       "    <tr>\n",
       "      <th>LoanAmount</th>\n",
       "      <td>NaN</td>\n",
       "      <td>128.0</td>\n",
       "      <td>66.0</td>\n",
       "      <td>120.0</td>\n",
       "      <td>141.0</td>\n",
       "    </tr>\n",
       "    <tr>\n",
       "      <th>Loan_Amount_Term</th>\n",
       "      <td>360.0</td>\n",
       "      <td>360.0</td>\n",
       "      <td>360.0</td>\n",
       "      <td>360.0</td>\n",
       "      <td>360.0</td>\n",
       "    </tr>\n",
       "    <tr>\n",
       "      <th>Credit_History</th>\n",
       "      <td>1.0</td>\n",
       "      <td>1.0</td>\n",
       "      <td>1.0</td>\n",
       "      <td>1.0</td>\n",
       "      <td>1.0</td>\n",
       "    </tr>\n",
       "    <tr>\n",
       "      <th>Property_Area</th>\n",
       "      <td>Urban</td>\n",
       "      <td>Rural</td>\n",
       "      <td>Urban</td>\n",
       "      <td>Urban</td>\n",
       "      <td>Urban</td>\n",
       "    </tr>\n",
       "    <tr>\n",
       "      <th>Loan_Status</th>\n",
       "      <td>Y</td>\n",
       "      <td>N</td>\n",
       "      <td>Y</td>\n",
       "      <td>Y</td>\n",
       "      <td>Y</td>\n",
       "    </tr>\n",
       "  </tbody>\n",
       "</table>\n",
       "</div>"
      ],
      "text/plain": [
       "                          0         1         2             3         4\n",
       "Loan_ID            LP001002  LP001003  LP001005      LP001006  LP001008\n",
       "Gender                 Male      Male      Male          Male      Male\n",
       "Married                  No       Yes       Yes           Yes        No\n",
       "Dependents                0         1         0             0         0\n",
       "Education          Graduate  Graduate  Graduate  Not Graduate  Graduate\n",
       "Self_Employed            No        No       Yes            No        No\n",
       "ApplicantIncome        5849      4583      3000          2583      6000\n",
       "CoapplicantIncome       0.0    1508.0       0.0        2358.0       0.0\n",
       "LoanAmount              NaN     128.0      66.0         120.0     141.0\n",
       "Loan_Amount_Term      360.0     360.0     360.0         360.0     360.0\n",
       "Credit_History          1.0       1.0       1.0           1.0       1.0\n",
       "Property_Area         Urban     Rural     Urban         Urban     Urban\n",
       "Loan_Status               Y         N         Y             Y         Y"
      ]
     },
     "execution_count": 2,
     "metadata": {},
     "output_type": "execute_result"
    }
   ],
   "source": [
    "# Reading the dataset\n",
    "df = pd.read_csv('train_loan_prediction.csv')\n",
    "\n",
    "df.head().T"
   ]
  },
  {
   "cell_type": "markdown",
   "id": "af401048",
   "metadata": {},
   "source": [
    "# 1. Ensuring data is consistent\n",
    "We must check the names of the columns in the dataframe"
   ]
  },
  {
   "cell_type": "code",
   "execution_count": 3,
   "id": "668ea9d8",
   "metadata": {},
   "outputs": [
    {
     "name": "stdout",
     "output_type": "stream",
     "text": [
      "['Loan_ID', 'Gender', 'Married', 'Dependents', 'Education', 'Self_Employed', 'ApplicantIncome', 'CoapplicantIncome', 'LoanAmount', 'Loan_Amount_Term', 'Credit_History', 'Property_Area', 'Loan_Status']\n"
     ]
    }
   ],
   "source": [
    "column_names = [cols for cols in df]\n",
    "print(column_names)"
   ]
  },
  {
   "cell_type": "code",
   "execution_count": 4,
   "id": "f59a4e1c",
   "metadata": {},
   "outputs": [
    {
     "data": {
      "text/plain": [
       "['Gender',\n",
       " 'Married',\n",
       " 'Dependents',\n",
       " 'Education',\n",
       " 'ApplicantIncome',\n",
       " 'CoapplicantIncome',\n",
       " 'LoanAmount']"
      ]
     },
     "execution_count": 4,
     "metadata": {},
     "output_type": "execute_result"
    }
   ],
   "source": [
    "# Removing underscores\n",
    "num_underscore_present_columns = [cols for cols in column_names if '_' not in cols]\n",
    "num_underscore_present_columns"
   ]
  },
  {
   "cell_type": "code",
   "execution_count": 5,
   "id": "f7b735f8",
   "metadata": {},
   "outputs": [],
   "source": [
    "# Initialize an empty dictionary to store mappings between columns and their properties\n",
    "cols_mappings = {}\n",
    "\n",
    "# Iterate through each column name in the list of columns with underscores\n",
    "for cols in num_underscore_present_columns:\n",
    "    # Check if each character in the column name is uppercase and store the result in a list\n",
    "    uppercase_in_cols = [val.isupper() for val in cols]\n",
    "    \n",
    "    # Count the number of uppercase letters in the column name\n",
    "    num_uppercase_letters = sum(uppercase_in_cols)\n",
    "\n",
    "    # Create a dictionary for the current column name containing its properties\n",
    "    cols_mappings[cols] = {\n",
    "        \"is_uppercase_letter\": uppercase_in_cols,  # Store the list of boolean values indicating if each character is uppercase\n",
    "        \"num_uppercase_letters\": num_uppercase_letters,  # Store the total count of uppercase letters in the column name\n",
    "        \"needs_underscore\": (num_uppercase_letters > 1)  # Determine if the column needs an underscore based on the count of uppercase letters\n",
    "    }"
   ]
  },
  {
   "cell_type": "code",
   "execution_count": 6,
   "id": "88fb08f6",
   "metadata": {},
   "outputs": [
    {
     "name": "stdout",
     "output_type": "stream",
     "text": [
      "\n",
      "ApplicantIncome need the underscore at location  9\n",
      "\n",
      "CoapplicantIncome need the underscore at location  11\n",
      "\n",
      "LoanAmount need the underscore at location  4\n"
     ]
    }
   ],
   "source": [
    "for key in cols_mappings.keys():\n",
    "    if cols_mappings[key]['needs_underscore']:\n",
    "        print()\n",
    "        print(f'{key} need the underscore at location ', cols_mappings[key]['is_uppercase_letter'].index(True, 1)) "
   ]
  },
  {
   "cell_type": "code",
   "execution_count": 7,
   "id": "8ebb9a33",
   "metadata": {},
   "outputs": [
    {
     "data": {
      "text/plain": [
       "'Applicant_Income'"
      ]
     },
     "execution_count": 7,
     "metadata": {},
     "output_type": "execute_result"
    }
   ],
   "source": [
    "# Checking the result of ApplicationIncome column when we add an underscore\n",
    "'ApplicantIncome'[:9] + '_' + 'ApplicantIncome'[9:]"
   ]
  },
  {
   "cell_type": "code",
   "execution_count": 8,
   "id": "06840af8",
   "metadata": {},
   "outputs": [
    {
     "name": "stdout",
     "output_type": "stream",
     "text": [
      "ApplicantIncome will be renamed to Applicant_Income\n",
      "CoapplicantIncome will be renamed to Coapplicant_Income\n",
      "LoanAmount will be renamed to Loan_Amount\n"
     ]
    },
    {
     "data": {
      "text/plain": [
       "{'Gender': 'Gender',\n",
       " 'Married': 'Married',\n",
       " 'Dependents': 'Dependents',\n",
       " 'Education': 'Education',\n",
       " 'ApplicantIncome': 'Applicant_Income',\n",
       " 'CoapplicantIncome': 'Coapplicant_Income',\n",
       " 'LoanAmount': 'Loan_Amount'}"
      ]
     },
     "execution_count": 8,
     "metadata": {},
     "output_type": "execute_result"
    }
   ],
   "source": [
    "# Initialize an empty dictionary to store mappings between columns and their properties\n",
    "cols_mappings = {}\n",
    "\n",
    "# Iterate through each column name in the list of columns with underscores\n",
    "for cols in num_underscore_present_columns:\n",
    "    # Check if each character in the column name is uppercase and store the result in a list\n",
    "    uppercase_in_cols = [val.isupper() for val in cols]\n",
    "    \n",
    "    # Count the number of uppercase letters in the column name\n",
    "    num_uppercase_letters = sum(uppercase_in_cols)\n",
    "    \n",
    "    # Check if the number of uppercase letters is greater than 1\n",
    "    if num_uppercase_letters > 1:\n",
    "        # Find the index of the second uppercase letter, starting the search from index 1\n",
    "        underscore_index = uppercase_in_cols.index(True, 1)\n",
    "        # Insert an underscore at the identified index to split the column name\n",
    "        updated_column_name = cols[:underscore_index] + \"_\" + cols[underscore_index:]\n",
    "    else:\n",
    "        # If the number of uppercase letters is not greater than 1, no modification is needed\n",
    "        updated_column_name = cols\n",
    "\n",
    "    # Create a dictionary for the current column name containing its properties\n",
    "    cols_mappings[cols] = {\n",
    "        \"is_uppercase_letter\": uppercase_in_cols,  # Store the list of boolean values indicating if each character is uppercase\n",
    "        \"num_uppercase_letters\": num_uppercase_letters,  # Store the total count of uppercase letters in the column name\n",
    "        \"needs_underscore\": (num_uppercase_letters > 1),  # Determine if the column needs an underscore based on the count of uppercase letters\n",
    "        \"updated_column_name\": updated_column_name  # Store the updated column name after adding underscore if necessary\n",
    "    }\n",
    "    \n",
    "    # Print the renaming operation if the column needs an underscore\n",
    "    if cols_mappings[cols]['needs_underscore']:\n",
    "        print(f\"{cols} will be renamed to {cols_mappings[cols]['updated_column_name']}\")\n",
    "\n",
    "# Create a dictionary to map original column names to their updated column names\n",
    "column_mappings = {key: cols_mappings[key][\"updated_column_name\"] for key in cols_mappings.keys()}\n",
    "column_mappings\n"
   ]
  },
  {
   "cell_type": "code",
   "execution_count": 9,
   "id": "aea6b961",
   "metadata": {},
   "outputs": [
    {
     "name": "stdout",
     "output_type": "stream",
     "text": [
      "['Loan_ID', 'Gender', 'Married', 'Dependents', 'Education', 'Self_Employed', 'Applicant_Income', 'Coapplicant_Income', 'Loan_Amount', 'Loan_Amount_Term', 'Credit_History', 'Property_Area', 'Loan_Status']\n"
     ]
    }
   ],
   "source": [
    "# Updating the colum names\n",
    "df = df.rename(columns=column_mappings)\n",
    "column_names = [cols for cols in df]\n",
    "print(column_names)"
   ]
  },
  {
   "cell_type": "code",
   "execution_count": 10,
   "id": "6f0ddbe5",
   "metadata": {},
   "outputs": [
    {
     "name": "stdout",
     "output_type": "stream",
     "text": [
      "['loan_id', 'gender', 'married', 'dependents', 'education', 'self_employed', 'applicant_income', 'coapplicant_income', 'loan_amount', 'loan_amount_term', 'credit_history', 'property_area', 'loan_status']\n"
     ]
    }
   ],
   "source": [
    "print([cols.lower() for cols in df])"
   ]
  },
  {
   "cell_type": "code",
   "execution_count": 11,
   "id": "8769ce5a",
   "metadata": {},
   "outputs": [
    {
     "name": "stdout",
     "output_type": "stream",
     "text": [
      "Index(['loan_id', 'gender', 'married', 'dependents', 'education',\n",
      "       'self_employed', 'applicant_income', 'coapplicant_income',\n",
      "       'loan_amount', 'loan_amount_term', 'credit_history', 'property_area',\n",
      "       'loan_status'],\n",
      "      dtype='object')\n"
     ]
    }
   ],
   "source": [
    "# Updating the column names to lower case\n",
    "df.columns = [cols.lower() for cols in df]\n",
    "print(df.columns)"
   ]
  },
  {
   "cell_type": "code",
   "execution_count": 12,
   "id": "5b4d0c77",
   "metadata": {},
   "outputs": [
    {
     "data": {
      "text/plain": [
       "['gender',\n",
       " 'married',\n",
       " 'dependents',\n",
       " 'education',\n",
       " 'self_employed',\n",
       " 'property_area']"
      ]
     },
     "execution_count": 12,
     "metadata": {},
     "output_type": "execute_result"
    }
   ],
   "source": [
    "# Categorising columns into id column, target colum and catergorical columns\n",
    "id_col = 'loan_id'\n",
    "target = 'loan_status'\n",
    "\n",
    "cat_cols = [cols for cols in df if df[cols].dtype == 'object' and cols not in [id_col, target]]\n",
    "cat_cols"
   ]
  },
  {
   "cell_type": "code",
   "execution_count": 13,
   "id": "b50b3ae3",
   "metadata": {},
   "outputs": [
    {
     "name": "stdout",
     "output_type": "stream",
     "text": [
      "gender\n",
      "['Male' 'Female' nan]\n",
      "\n",
      "married\n",
      "['No' 'Yes' nan]\n",
      "\n",
      "dependents\n",
      "['0' '1' '2' '3+' nan]\n",
      "\n",
      "education\n",
      "['Graduate' 'Not Graduate']\n",
      "\n",
      "self_employed\n",
      "['No' 'Yes' nan]\n",
      "\n",
      "property_area\n",
      "['Urban' 'Rural' 'Semiurban']\n",
      "\n"
     ]
    }
   ],
   "source": [
    "# Checking the unique values in categorical columns\n",
    "for cols in cat_cols:\n",
    "    print(cols)\n",
    "    print(df[cols].unique())\n",
    "    print()"
   ]
  },
  {
   "cell_type": "code",
   "execution_count": 14,
   "id": "5ab059f5",
   "metadata": {},
   "outputs": [
    {
     "name": "stdout",
     "output_type": "stream",
     "text": [
      "gender\n",
      "['male' 'female' nan]\n",
      "\n",
      "married\n",
      "['no' 'yes' nan]\n",
      "\n",
      "dependents\n",
      "['0' '1' '2' '3+' nan]\n",
      "\n",
      "education\n",
      "['graduate' 'not_graduate']\n",
      "\n",
      "self_employed\n",
      "['no' 'yes' nan]\n",
      "\n",
      "property_area\n",
      "['urban' 'rural' 'semiurban']\n",
      "\n"
     ]
    }
   ],
   "source": [
    "# Creating a new dataframe df_consistent and ensuring all values are lower case, and all spaces are replaced by underscore\n",
    "df_consistent = df.copy()\n",
    "for col in cat_cols:\n",
    "\n",
    "    df_consistent[col] = df_consistent[col].apply(lambda val: val.lower() if isinstance(val, str) else val)\n",
    "\n",
    "    df_consistent[col] = df_consistent[col].apply(lambda val: val.replace(' ','_') if isinstance(val, str) else val)\n",
    "\n",
    "for cols in cat_cols:\n",
    "    print(cols)\n",
    "    print(df_consistent[cols].unique())\n",
    "    print()"
   ]
  },
  {
   "cell_type": "code",
   "execution_count": 15,
   "id": "d9da6e47",
   "metadata": {},
   "outputs": [],
   "source": [
    "# Updating the values of dependents to float where values are string\n",
    "df_consistent.dependents = df_consistent.dependents.apply(lambda val: float(val.replace('+','')) if isinstance(val, str) else float(val))"
   ]
  },
  {
   "cell_type": "code",
   "execution_count": 16,
   "id": "4b041cf1",
   "metadata": {},
   "outputs": [
    {
     "name": "stdout",
     "output_type": "stream",
     "text": [
      "gender\n",
      "[ 1.  0. nan]\n",
      "\n",
      "married\n",
      "[ 0.  1. nan]\n",
      "\n",
      "dependents\n",
      "[ 0.  1.  2.  3. nan]\n",
      "\n",
      "education\n",
      "[1 0]\n",
      "\n",
      "self_employed\n",
      "[ 0.  1. nan]\n",
      "\n",
      "property_area\n",
      "['urban' 'rural' 'semiurban']\n",
      "\n"
     ]
    }
   ],
   "source": [
    "# Mapping some categorical columns to binary\n",
    "for cols in ['married', 'self_employed']:\n",
    "    df_consistent[cols] = df_consistent[cols].map({\"yes\": 1, \"no\": 0})\n",
    "    \n",
    "df_consistent.education = df_consistent.education.map({\n",
    "    'graduate': 1,\n",
    "    'not_graduate': 0\n",
    "})\n",
    "\n",
    "\n",
    "df_consistent.gender = df_consistent.gender.map({\n",
    "    'male': 1,\n",
    "    'female': 0\n",
    "})\n",
    "\n",
    "for cols in cat_cols:\n",
    "    print(cols)\n",
    "    print(df_consistent[cols].unique())\n",
    "    print()"
   ]
  },
  {
   "cell_type": "code",
   "execution_count": 17,
   "id": "043b2e95",
   "metadata": {},
   "outputs": [],
   "source": [
    "# Created a function to automate data consistency\n",
    "def make_data_consistent(df, cat_cols) -> pd.DataFrame:\n",
    "    \"\"\"Function to make data consistent and meaningful\"\"\"\n",
    "    \n",
    "    df = df.copy()\n",
    "    \n",
    "    for col in cat_cols:\n",
    "           \n",
    "        df[col] = df[col].apply(lambda val: val.lower() if isinstance(val, str) else val)\n",
    "        df[col] = df[col].apply(lambda val: val.replace(' ','_') if isinstance(val, str) else val)\n",
    "            \n",
    "    \n",
    "    df['dependents'] = df['dependents'].apply(lambda val: float(val.replace('+','')) if isinstance(val, str) else float(val))\n",
    "\n",
    "    for cols in ['married', 'self_employed']:\n",
    "        df[cols] = df[cols].map({\"yes\": 1, \"no\": 0})\n",
    "\n",
    "    df['education'] = df['education'].map({\n",
    "        'graduate': 1,\n",
    "        'not_graduate': 0\n",
    "    })\n",
    "\n",
    "    df['gender'] = df['gender'].map({\n",
    "        'male': 1,\n",
    "        'female': 0\n",
    "    })\n",
    "    \n",
    "    \n",
    "    return df"
   ]
  },
  {
   "cell_type": "code",
   "execution_count": 18,
   "id": "6915c4b0",
   "metadata": {},
   "outputs": [
    {
     "name": "stdout",
     "output_type": "stream",
     "text": [
      "gender\n",
      "[ 1.  0. nan]\n",
      "\n",
      "married\n",
      "[ 0.  1. nan]\n",
      "\n",
      "dependents\n",
      "[ 0.  1.  2.  3. nan]\n",
      "\n",
      "education\n",
      "[1 0]\n",
      "\n",
      "self_employed\n",
      "[ 0.  1. nan]\n",
      "\n",
      "property_area\n",
      "['urban' 'rural' 'semiurban']\n",
      "\n"
     ]
    }
   ],
   "source": [
    "# Using the function to make the data consistent\n",
    "df_consistent = df.copy()\n",
    "df_consistent = make_data_consistent(df=df_consistent, cat_cols=cat_cols)\n",
    "\n",
    "for cols in cat_cols:\n",
    "    print(cols)\n",
    "    print(df_consistent[cols].unique())\n",
    "    print()"
   ]
  },
  {
   "cell_type": "markdown",
   "id": "150c43ed",
   "metadata": {},
   "source": [
    "# 2. Checking data is unique"
   ]
  },
  {
   "cell_type": "code",
   "execution_count": 19,
   "id": "e90737e4",
   "metadata": {},
   "outputs": [
    {
     "data": {
      "text/plain": [
       "(614, 614)"
      ]
     },
     "execution_count": 19,
     "metadata": {},
     "output_type": "execute_result"
    }
   ],
   "source": [
    "# Checking the chape of the data\n",
    "df.loan_id.nunique(), df.shape[0]"
   ]
  },
  {
   "cell_type": "code",
   "execution_count": 20,
   "id": "224576a2",
   "metadata": {},
   "outputs": [
    {
     "data": {
      "text/html": [
       "<div>\n",
       "<style scoped>\n",
       "    .dataframe tbody tr th:only-of-type {\n",
       "        vertical-align: middle;\n",
       "    }\n",
       "\n",
       "    .dataframe tbody tr th {\n",
       "        vertical-align: top;\n",
       "    }\n",
       "\n",
       "    .dataframe thead th {\n",
       "        text-align: right;\n",
       "    }\n",
       "</style>\n",
       "<table border=\"1\" class=\"dataframe\">\n",
       "  <thead>\n",
       "    <tr style=\"text-align: right;\">\n",
       "      <th></th>\n",
       "      <th>applicant_income</th>\n",
       "      <th>coapplicant_income</th>\n",
       "      <th>loan_amount</th>\n",
       "      <th>count</th>\n",
       "    </tr>\n",
       "  </thead>\n",
       "  <tbody>\n",
       "    <tr>\n",
       "      <th>0</th>\n",
       "      <td>4333</td>\n",
       "      <td>2451.0</td>\n",
       "      <td>110.0</td>\n",
       "      <td>2</td>\n",
       "    </tr>\n",
       "    <tr>\n",
       "      <th>1</th>\n",
       "      <td>150</td>\n",
       "      <td>1800.0</td>\n",
       "      <td>135.0</td>\n",
       "      <td>1</td>\n",
       "    </tr>\n",
       "    <tr>\n",
       "      <th>2</th>\n",
       "      <td>4887</td>\n",
       "      <td>0.0</td>\n",
       "      <td>133.0</td>\n",
       "      <td>1</td>\n",
       "    </tr>\n",
       "    <tr>\n",
       "      <th>3</th>\n",
       "      <td>4758</td>\n",
       "      <td>0.0</td>\n",
       "      <td>158.0</td>\n",
       "      <td>1</td>\n",
       "    </tr>\n",
       "    <tr>\n",
       "      <th>4</th>\n",
       "      <td>4817</td>\n",
       "      <td>923.0</td>\n",
       "      <td>120.0</td>\n",
       "      <td>1</td>\n",
       "    </tr>\n",
       "    <tr>\n",
       "      <th>...</th>\n",
       "      <td>...</td>\n",
       "      <td>...</td>\n",
       "      <td>...</td>\n",
       "      <td>...</td>\n",
       "    </tr>\n",
       "    <tr>\n",
       "      <th>586</th>\n",
       "      <td>3166</td>\n",
       "      <td>2985.0</td>\n",
       "      <td>132.0</td>\n",
       "      <td>1</td>\n",
       "    </tr>\n",
       "    <tr>\n",
       "      <th>587</th>\n",
       "      <td>3167</td>\n",
       "      <td>0.0</td>\n",
       "      <td>74.0</td>\n",
       "      <td>1</td>\n",
       "    </tr>\n",
       "    <tr>\n",
       "      <th>588</th>\n",
       "      <td>3167</td>\n",
       "      <td>2283.0</td>\n",
       "      <td>154.0</td>\n",
       "      <td>1</td>\n",
       "    </tr>\n",
       "    <tr>\n",
       "      <th>589</th>\n",
       "      <td>3167</td>\n",
       "      <td>4000.0</td>\n",
       "      <td>180.0</td>\n",
       "      <td>1</td>\n",
       "    </tr>\n",
       "    <tr>\n",
       "      <th>590</th>\n",
       "      <td>81000</td>\n",
       "      <td>0.0</td>\n",
       "      <td>360.0</td>\n",
       "      <td>1</td>\n",
       "    </tr>\n",
       "  </tbody>\n",
       "</table>\n",
       "<p>591 rows × 4 columns</p>\n",
       "</div>"
      ],
      "text/plain": [
       "     applicant_income  coapplicant_income  loan_amount  count\n",
       "0                4333              2451.0        110.0      2\n",
       "1                 150              1800.0        135.0      1\n",
       "2                4887                 0.0        133.0      1\n",
       "3                4758                 0.0        158.0      1\n",
       "4                4817               923.0        120.0      1\n",
       "..                ...                 ...          ...    ...\n",
       "586              3166              2985.0        132.0      1\n",
       "587              3167                 0.0         74.0      1\n",
       "588              3167              2283.0        154.0      1\n",
       "589              3167              4000.0        180.0      1\n",
       "590             81000                 0.0        360.0      1\n",
       "\n",
       "[591 rows x 4 columns]"
      ]
     },
     "execution_count": 20,
     "metadata": {},
     "output_type": "execute_result"
    }
   ],
   "source": [
    "# Checking for duplication amongst three columns\n",
    "df[['applicant_income', 'coapplicant_income', 'loan_amount']].value_counts().reset_index(name='count')"
   ]
  },
  {
   "cell_type": "code",
   "execution_count": 21,
   "id": "ecfe998a",
   "metadata": {},
   "outputs": [
    {
     "data": {
      "text/html": [
       "<div>\n",
       "<style scoped>\n",
       "    .dataframe tbody tr th:only-of-type {\n",
       "        vertical-align: middle;\n",
       "    }\n",
       "\n",
       "    .dataframe tbody tr th {\n",
       "        vertical-align: top;\n",
       "    }\n",
       "\n",
       "    .dataframe thead th {\n",
       "        text-align: right;\n",
       "    }\n",
       "</style>\n",
       "<table border=\"1\" class=\"dataframe\">\n",
       "  <thead>\n",
       "    <tr style=\"text-align: right;\">\n",
       "      <th></th>\n",
       "      <th>loan_id</th>\n",
       "      <th>gender</th>\n",
       "      <th>married</th>\n",
       "      <th>dependents</th>\n",
       "      <th>education</th>\n",
       "      <th>self_employed</th>\n",
       "      <th>applicant_income</th>\n",
       "      <th>coapplicant_income</th>\n",
       "      <th>loan_amount</th>\n",
       "      <th>loan_amount_term</th>\n",
       "      <th>credit_history</th>\n",
       "      <th>property_area</th>\n",
       "      <th>loan_status</th>\n",
       "    </tr>\n",
       "  </thead>\n",
       "  <tbody>\n",
       "    <tr>\n",
       "      <th>328</th>\n",
       "      <td>LP002086</td>\n",
       "      <td>Female</td>\n",
       "      <td>Yes</td>\n",
       "      <td>0</td>\n",
       "      <td>Graduate</td>\n",
       "      <td>No</td>\n",
       "      <td>4333</td>\n",
       "      <td>2451.0</td>\n",
       "      <td>110.0</td>\n",
       "      <td>360.0</td>\n",
       "      <td>1.0</td>\n",
       "      <td>Urban</td>\n",
       "      <td>N</td>\n",
       "    </tr>\n",
       "    <tr>\n",
       "      <th>469</th>\n",
       "      <td>LP002505</td>\n",
       "      <td>Male</td>\n",
       "      <td>Yes</td>\n",
       "      <td>0</td>\n",
       "      <td>Graduate</td>\n",
       "      <td>No</td>\n",
       "      <td>4333</td>\n",
       "      <td>2451.0</td>\n",
       "      <td>110.0</td>\n",
       "      <td>360.0</td>\n",
       "      <td>1.0</td>\n",
       "      <td>Urban</td>\n",
       "      <td>N</td>\n",
       "    </tr>\n",
       "  </tbody>\n",
       "</table>\n",
       "</div>"
      ],
      "text/plain": [
       "      loan_id  gender married dependents education self_employed  \\\n",
       "328  LP002086  Female     Yes          0  Graduate            No   \n",
       "469  LP002505    Male     Yes          0  Graduate            No   \n",
       "\n",
       "     applicant_income  coapplicant_income  loan_amount  loan_amount_term  \\\n",
       "328              4333              2451.0        110.0             360.0   \n",
       "469              4333              2451.0        110.0             360.0   \n",
       "\n",
       "     credit_history property_area loan_status  \n",
       "328             1.0         Urban           N  \n",
       "469             1.0         Urban           N  "
      ]
     },
     "execution_count": 21,
     "metadata": {},
     "output_type": "execute_result"
    }
   ],
   "source": [
    "# Checking the rows where duplication is noted\n",
    "df[(df.applicant_income == 4333) & (df.coapplicant_income == 2451) & (df.loan_amount == 110)]"
   ]
  },
  {
   "cell_type": "code",
   "execution_count": 22,
   "id": "a2957132",
   "metadata": {},
   "outputs": [
    {
     "data": {
      "text/plain": [
       "gender\n",
       "Male      0.813644\n",
       "Female    0.186356\n",
       "Name: proportion, dtype: float64"
      ]
     },
     "execution_count": 22,
     "metadata": {},
     "output_type": "execute_result"
    }
   ],
   "source": [
    "# Checking the distribution between male and female\n",
    "df.gender.value_counts(normalize=True)"
   ]
  },
  {
   "cell_type": "markdown",
   "id": "8754a9ae",
   "metadata": {},
   "source": [
    "# 3. Ensuring data is complete and not missing"
   ]
  },
  {
   "cell_type": "code",
   "execution_count": 23,
   "id": "e4eeabe2",
   "metadata": {},
   "outputs": [
    {
     "name": "stdout",
     "output_type": "stream",
     "text": [
      "By dropping all missing data, only 480 records will be left out of 614, a reduction by 21.824%\n"
     ]
    }
   ],
   "source": [
    "# Comparing the difference between missing data rows and total rows\n",
    "remaining_rows = df_consistent.dropna(axis=0).shape[0]\n",
    "total_records = df_consistent.shape[0]\n",
    "perc_dropped = ((total_records - remaining_rows)/total_records)*100\n",
    "\n",
    "print(\"By dropping all missing data, only {:,} records will be left out of {:,}, a reduction by {:,.3f}%\".format(remaining_rows, total_records, perc_dropped))"
   ]
  },
  {
   "cell_type": "code",
   "execution_count": 24,
   "id": "3741006a",
   "metadata": {},
   "outputs": [],
   "source": [
    "# Categorising feature columns, binary columns, categorical columns and numerical columns\n",
    "id_col = 'loan_id'\n",
    "target = 'loan_status'\n",
    "\n",
    "feature_cols = [cols for cols in df_consistent if cols not in [id_col, target]]\n",
    "binary_cols = [cols for cols in feature_cols if df_consistent[cols].nunique() == 2]\n",
    "cat_cols = [cols for cols in feature_cols if (df_consistent[cols].dtype == 'object' or df_consistent[cols].nunique() <= 15)]\n",
    "num_cols = [cols for cols in feature_cols if cols not in cat_cols]\n"
   ]
  },
  {
   "cell_type": "code",
   "execution_count": 25,
   "id": "be5697b7",
   "metadata": {},
   "outputs": [
    {
     "data": {
      "text/plain": [
       "['gender',\n",
       " 'married',\n",
       " 'dependents',\n",
       " 'education',\n",
       " 'self_employed',\n",
       " 'loan_amount_term',\n",
       " 'credit_history',\n",
       " 'property_area']"
      ]
     },
     "execution_count": 25,
     "metadata": {},
     "output_type": "execute_result"
    }
   ],
   "source": [
    "cat_cols"
   ]
  },
  {
   "cell_type": "code",
   "execution_count": 26,
   "id": "b65aea82",
   "metadata": {},
   "outputs": [
    {
     "data": {
      "text/plain": [
       "['gender', 'married', 'education', 'self_employed', 'credit_history']"
      ]
     },
     "execution_count": 26,
     "metadata": {},
     "output_type": "execute_result"
    }
   ],
   "source": [
    "binary_cols"
   ]
  },
  {
   "cell_type": "code",
   "execution_count": 27,
   "id": "81dd8057",
   "metadata": {},
   "outputs": [
    {
     "data": {
      "text/plain": [
       "['applicant_income', 'coapplicant_income', 'loan_amount']"
      ]
     },
     "execution_count": 27,
     "metadata": {},
     "output_type": "execute_result"
    }
   ],
   "source": [
    "num_cols"
   ]
  },
  {
   "cell_type": "code",
   "execution_count": 28,
   "id": "6c0d4dec",
   "metadata": {},
   "outputs": [
    {
     "name": "stdout",
     "output_type": "stream",
     "text": [
      "<class 'pandas.core.frame.DataFrame'>\n",
      "RangeIndex: 614 entries, 0 to 613\n",
      "Data columns (total 13 columns):\n",
      " #   Column              Non-Null Count  Dtype  \n",
      "---  ------              --------------  -----  \n",
      " 0   loan_id             614 non-null    object \n",
      " 1   gender              601 non-null    float64\n",
      " 2   married             611 non-null    float64\n",
      " 3   dependents          599 non-null    float64\n",
      " 4   education           614 non-null    int64  \n",
      " 5   self_employed       582 non-null    float64\n",
      " 6   applicant_income    614 non-null    int64  \n",
      " 7   coapplicant_income  614 non-null    float64\n",
      " 8   loan_amount         592 non-null    float64\n",
      " 9   loan_amount_term    600 non-null    float64\n",
      " 10  credit_history      564 non-null    float64\n",
      " 11  property_area       614 non-null    object \n",
      " 12  loan_status         614 non-null    object \n",
      "dtypes: float64(8), int64(2), object(3)\n",
      "memory usage: 62.5+ KB\n"
     ]
    }
   ],
   "source": [
    "df_consistent.info()"
   ]
  },
  {
   "cell_type": "code",
   "execution_count": 29,
   "id": "34ec8365",
   "metadata": {},
   "outputs": [
    {
     "data": {
      "text/plain": [
       "loan_id                0\n",
       "gender                13\n",
       "married                3\n",
       "dependents            15\n",
       "education              0\n",
       "self_employed         32\n",
       "applicant_income       0\n",
       "coapplicant_income     0\n",
       "loan_amount           22\n",
       "loan_amount_term      14\n",
       "credit_history        50\n",
       "property_area          0\n",
       "loan_status            0\n",
       "dtype: int64"
      ]
     },
     "execution_count": 29,
     "metadata": {},
     "output_type": "execute_result"
    }
   ],
   "source": [
    "# Printing the number of rows missing\n",
    "df_consistent.isnull().sum()"
   ]
  },
  {
   "cell_type": "code",
   "execution_count": 30,
   "id": "e66fbd21",
   "metadata": {},
   "outputs": [
    {
     "data": {
      "text/html": [
       "<div>\n",
       "<style scoped>\n",
       "    .dataframe tbody tr th:only-of-type {\n",
       "        vertical-align: middle;\n",
       "    }\n",
       "\n",
       "    .dataframe tbody tr th {\n",
       "        vertical-align: top;\n",
       "    }\n",
       "\n",
       "    .dataframe thead th {\n",
       "        text-align: right;\n",
       "    }\n",
       "</style>\n",
       "<table border=\"1\" class=\"dataframe\">\n",
       "  <thead>\n",
       "    <tr style=\"text-align: right;\">\n",
       "      <th></th>\n",
       "      <th>columm_name</th>\n",
       "      <th>perc_missing</th>\n",
       "    </tr>\n",
       "  </thead>\n",
       "  <tbody>\n",
       "    <tr>\n",
       "      <th>9</th>\n",
       "      <td>credit_history</td>\n",
       "      <td>8.143</td>\n",
       "    </tr>\n",
       "    <tr>\n",
       "      <th>4</th>\n",
       "      <td>self_employed</td>\n",
       "      <td>5.212</td>\n",
       "    </tr>\n",
       "    <tr>\n",
       "      <th>7</th>\n",
       "      <td>loan_amount</td>\n",
       "      <td>3.583</td>\n",
       "    </tr>\n",
       "    <tr>\n",
       "      <th>2</th>\n",
       "      <td>dependents</td>\n",
       "      <td>2.443</td>\n",
       "    </tr>\n",
       "    <tr>\n",
       "      <th>8</th>\n",
       "      <td>loan_amount_term</td>\n",
       "      <td>2.280</td>\n",
       "    </tr>\n",
       "    <tr>\n",
       "      <th>0</th>\n",
       "      <td>gender</td>\n",
       "      <td>2.117</td>\n",
       "    </tr>\n",
       "    <tr>\n",
       "      <th>1</th>\n",
       "      <td>married</td>\n",
       "      <td>0.489</td>\n",
       "    </tr>\n",
       "    <tr>\n",
       "      <th>3</th>\n",
       "      <td>education</td>\n",
       "      <td>0.000</td>\n",
       "    </tr>\n",
       "    <tr>\n",
       "      <th>5</th>\n",
       "      <td>applicant_income</td>\n",
       "      <td>0.000</td>\n",
       "    </tr>\n",
       "    <tr>\n",
       "      <th>6</th>\n",
       "      <td>coapplicant_income</td>\n",
       "      <td>0.000</td>\n",
       "    </tr>\n",
       "    <tr>\n",
       "      <th>10</th>\n",
       "      <td>property_area</td>\n",
       "      <td>0.000</td>\n",
       "    </tr>\n",
       "  </tbody>\n",
       "</table>\n",
       "</div>"
      ],
      "text/plain": [
       "           columm_name  perc_missing\n",
       "9       credit_history         8.143\n",
       "4        self_employed         5.212\n",
       "7          loan_amount         3.583\n",
       "2           dependents         2.443\n",
       "8     loan_amount_term         2.280\n",
       "0               gender         2.117\n",
       "1              married         0.489\n",
       "3            education         0.000\n",
       "5     applicant_income         0.000\n",
       "6   coapplicant_income         0.000\n",
       "10       property_area         0.000"
      ]
     },
     "execution_count": 30,
     "metadata": {},
     "output_type": "execute_result"
    }
   ],
   "source": [
    "# Creating the function that takes a dataframe and calculates missing rows percentage for each column\n",
    "def missing_data_percentage(df: pd.DataFrame):\n",
    "    \"\"\"Function to print percentage of missing values\"\"\"\n",
    "    \n",
    "    df = df.copy()\n",
    "    \n",
    "    missing_data = df.isnull().sum()\n",
    "    total_records = df.shape[0]\n",
    "    \n",
    "    perc_missing = round((missing_data/total_records)*100, 3)\n",
    "    \n",
    "    missing_df = pd.DataFrame(data={'columm_name':perc_missing.index, 'perc_missing':perc_missing.values})\n",
    "    \n",
    "    return missing_df\n",
    "\n",
    "\n",
    "missing_data_percentage(df_consistent[feature_cols]).sort_values(by='perc_missing', ascending=False)"
   ]
  },
  {
   "cell_type": "code",
   "execution_count": 31,
   "id": "4048196f",
   "metadata": {},
   "outputs": [
    {
     "data": {
      "text/plain": [
       "<Axes: >"
      ]
     },
     "execution_count": 31,
     "metadata": {},
     "output_type": "execute_result"
    },
    {
     "data": {
      "image/png": "[encoded data removed]",
      "text/plain": [
       "<Figure size 3500x1500 with 2 Axes>"
      ]
     },
     "metadata": {},
     "output_type": "display_data"
    }
   ],
   "source": [
    "# Generating the matrix plot\n",
    "msno.matrix(df_consistent[feature_cols], figsize=(35, 15))"
   ]
  },
  {
   "cell_type": "code",
   "execution_count": 32,
   "id": "244f3a63",
   "metadata": {},
   "outputs": [
    {
     "data": {
      "text/plain": [
       "<Axes: >"
      ]
     },
     "execution_count": 32,
     "metadata": {},
     "output_type": "execute_result"
    },
    {
     "data": {
      "image/png": "[encoded data removed]",
      "text/plain": [
       "<Figure size 2000x1200 with 2 Axes>"
      ]
     },
     "metadata": {},
     "output_type": "display_data"
    }
   ],
   "source": [
    "# Create a heatmap to show the correlation of missing values in the selected feature columns of df_consistent with labels indicating the percentage of missing values.\n",
    "msno.heatmap(df_consistent[feature_cols], labels=True)"
   ]
  },
  {
   "cell_type": "code",
   "execution_count": 33,
   "id": "56a0b1db",
   "metadata": {},
   "outputs": [],
   "source": [
    "# Extracting the columns that have missing values\n",
    "missing_cols = [cols for cols in feature_cols if df_consistent[cols].isnull().sum() > 0]"
   ]
  },
  {
   "cell_type": "code",
   "execution_count": 34,
   "id": "d72b6461",
   "metadata": {},
   "outputs": [
    {
     "data": {
      "text/plain": [
       "<Axes: >"
      ]
     },
     "execution_count": 34,
     "metadata": {},
     "output_type": "execute_result"
    },
    {
     "data": {
      "image/png": "[encoded data removed]",
      "text/plain": [
       "<Figure size 2500x1000 with 1 Axes>"
      ]
     },
     "metadata": {},
     "output_type": "display_data"
    }
   ],
   "source": [
    "# Generate a dendrogram to display the hierarchical clustering of missing values in the specified columns of the df_consistent DataFrame.\n",
    "msno.dendrogram(df_consistent[missing_cols])"
   ]
  },
  {
   "cell_type": "code",
   "execution_count": 35,
   "id": "c8a1bdd9",
   "metadata": {},
   "outputs": [
    {
     "data": {
      "image/png": "[encoded data removed]",
      "text/plain": [
       "<Figure size 640x480 with 1 Axes>"
      ]
     },
     "metadata": {},
     "output_type": "display_data"
    },
    {
     "data": {
      "image/png": "[encoded data removed]",
      "text/plain": [
       "<Figure size 640x480 with 1 Axes>"
      ]
     },
     "metadata": {},
     "output_type": "display_data"
    },
    {
     "data": {
      "image/png": "[encoded data removed]",
      "text/plain": [
       "<Figure size 640x480 with 1 Axes>"
      ]
     },
     "metadata": {},
     "output_type": "display_data"
    },
    {
     "data": {
      "image/png": "[encoded data removed]",
      "text/plain": [
       "<Figure size 640x480 with 1 Axes>"
      ]
     },
     "metadata": {},
     "output_type": "display_data"
    },
    {
     "data": {
      "image/png": "[encoded data removed]",
      "text/plain": [
       "<Figure size 640x480 with 1 Axes>"
      ]
     },
     "metadata": {},
     "output_type": "display_data"
    },
    {
     "data": {
      "image/png": "[encoded data removed]",
      "text/plain": [
       "<Figure size 640x480 with 1 Axes>"
      ]
     },
     "metadata": {},
     "output_type": "display_data"
    }
   ],
   "source": [
    "# Identify categorical columns with missing values, plot their association with the target outcome variable.\n",
    "\n",
    "cat_missing = [cols for cols in cat_cols if df_consistent[cols].isnull().sum() > 0]\n",
    "\n",
    "def cat_missing_association_with_outcome(data, missing_data_column, outcome):\n",
    "    \"\"\"Function to plot missing association of categorical varibles with outcome\"\"\"\n",
    "    \n",
    "    df = data.copy()\n",
    "    df[f\"{missing_data_column}_is_missing\"] = df[missing_data_column].isnull().astype(int)\n",
    "    df.groupby([outcome]).agg({f\"{missing_data_column}_is_missing\": 'mean'}).plot.bar()\n",
    "    \n",
    "for cols in cat_missing:\n",
    "    cat_missing_association_with_outcome(df_consistent, cols, target)"
   ]
  },
  {
   "cell_type": "code",
   "execution_count": 36,
   "id": "5ade7d10",
   "metadata": {},
   "outputs": [
    {
     "data": {
      "image/png": "[encoded data removed]",
      "text/plain": [
       "<Figure size 640x480 with 1 Axes>"
      ]
     },
     "metadata": {},
     "output_type": "display_data"
    }
   ],
   "source": [
    "# Identify numerical columns with missing values, plot their association with the target outcome variable.\n",
    "\n",
    "num_missing = [cols for cols in num_cols if df_consistent[cols].isnull().sum() > 0]\n",
    "\n",
    "def num_missing_association_with_outcome(data, missing_data_column, outcome):\n",
    "    \"\"\"Function to plot missing association of categorical varibles with outcome\"\"\"\n",
    "    \n",
    "    df = data.copy()\n",
    "    df[f\"{missing_data_column}_is_missing\"] = df[missing_data_column].isnull().astype(int)\n",
    "    df.groupby([outcome]).agg({f\"{missing_data_column}_is_missing\": 'mean'}).plot.bar()\n",
    "\n",
    "\n",
    "for cols in num_missing:\n",
    "    num_missing_association_with_outcome(df, cols, target)"
   ]
  },
  {
   "cell_type": "code",
   "execution_count": 37,
   "id": "4eae6316",
   "metadata": {},
   "outputs": [
    {
     "data": {
      "text/plain": [
       "<Axes: ylabel='Density'>"
      ]
     },
     "execution_count": 37,
     "metadata": {},
     "output_type": "execute_result"
    },
    {
     "data": {
      "image/png": "[encoded data removed]",
      "text/plain": [
       "<Figure size 900x700 with 1 Axes>"
      ]
     },
     "metadata": {},
     "output_type": "display_data"
    }
   ],
   "source": [
    "# Plotting kde plots\n",
    "df_consistent.loan_amount.plot.kde(color='orange', label='loan_amount', legend=True)\n",
    "df_consistent.loan_amount.fillna(value=df.loan_amount.median()).plot.kde(color='b', label='loan_amount_imputed', alpha=0.5, figsize=(9,7), legend=True)"
   ]
  },
  {
   "cell_type": "code",
   "execution_count": 38,
   "id": "42602619",
   "metadata": {},
   "outputs": [
    {
     "data": {
      "text/plain": [
       "84.11"
      ]
     },
     "execution_count": 38,
     "metadata": {},
     "output_type": "execute_result"
    }
   ],
   "source": [
    "# Calculate the standard deviation of the 'loan_amount' column in the 'df_consistent' DataFrame rounded to 2 decimal places\n",
    "round(df_consistent.loan_amount.std(), 2)\n",
    "\n",
    "# Calculate the standard deviation of the 'loan_amount' column after filling missing values with the median of the column and round to 2 decimal places\n",
    "round(df_consistent.loan_amount.fillna(value=df_consistent.loan_amount.median()).std(), 2)"
   ]
  },
  {
   "cell_type": "code",
   "execution_count": 39,
   "id": "1b0e7bdd",
   "metadata": {},
   "outputs": [
    {
     "data": {
      "text/html": [
       "<div>\n",
       "<style scoped>\n",
       "    .dataframe tbody tr th:only-of-type {\n",
       "        vertical-align: middle;\n",
       "    }\n",
       "\n",
       "    .dataframe tbody tr th {\n",
       "        vertical-align: top;\n",
       "    }\n",
       "\n",
       "    .dataframe thead th {\n",
       "        text-align: right;\n",
       "    }\n",
       "</style>\n",
       "<table border=\"1\" class=\"dataframe\">\n",
       "  <thead>\n",
       "    <tr style=\"text-align: right;\">\n",
       "      <th></th>\n",
       "      <th>applicant_income</th>\n",
       "      <th>coapplicant_income</th>\n",
       "      <th>loan_amount</th>\n",
       "    </tr>\n",
       "  </thead>\n",
       "  <tbody>\n",
       "    <tr>\n",
       "      <th>applicant_income</th>\n",
       "      <td>1.000000</td>\n",
       "      <td>-0.116605</td>\n",
       "      <td>0.570909</td>\n",
       "    </tr>\n",
       "    <tr>\n",
       "      <th>coapplicant_income</th>\n",
       "      <td>-0.116605</td>\n",
       "      <td>1.000000</td>\n",
       "      <td>0.188619</td>\n",
       "    </tr>\n",
       "    <tr>\n",
       "      <th>loan_amount</th>\n",
       "      <td>0.570909</td>\n",
       "      <td>0.188619</td>\n",
       "      <td>1.000000</td>\n",
       "    </tr>\n",
       "  </tbody>\n",
       "</table>\n",
       "</div>"
      ],
      "text/plain": [
       "                    applicant_income  coapplicant_income  loan_amount\n",
       "applicant_income            1.000000           -0.116605     0.570909\n",
       "coapplicant_income         -0.116605            1.000000     0.188619\n",
       "loan_amount                 0.570909            0.188619     1.000000"
      ]
     },
     "execution_count": 39,
     "metadata": {},
     "output_type": "execute_result"
    }
   ],
   "source": [
    "# Getting correlation of numerical columns\n",
    "df_consistent[num_cols].corr()"
   ]
  },
  {
   "cell_type": "code",
   "execution_count": 40,
   "id": "97281f33",
   "metadata": {},
   "outputs": [],
   "source": [
    "# Identify rows where 'loan_amount' is null in the 'df_consistent' DataFrame\n",
    "observation = df_consistent[df_consistent.loan_amount.isnull()]\n",
    "\n",
    "# Initialize a list to store imputed values\n",
    "imputed_values = []\n",
    "\n",
    "# Iterate over the rows with missing 'loan_amount' values\n",
    "for idx in observation.index:\n",
    "    seed = int(observation.loc[idx,'applicant_income'])\n",
    "    # Sample a random value from non-null 'loan_amount' values using the applicant's income as the random seed\n",
    "    imputed_value = df_consistent['loan_amount'].dropna().sample(1, random_state=seed)\n",
    "    imputed_values.append(imputed_value)\n",
    "\n",
    "# Fill the missing 'loan_amount' values with the randomly imputed values\n",
    "df_consistent.loc[df_consistent['loan_amount'].isnull(),'loan_amount_random_imputed'] = imputed_values\n",
    "\n",
    "# For rows where 'loan_amount' is not null, copy the original 'loan_amount' values to the imputed column\n",
    "df_consistent.loc[df_consistent['loan_amount'].notnull(),'loan_amount_random_imputed'] = df_consistent[df_consistent['loan_amount'].notnull()]['loan_amount'].values"
   ]
  },
  {
   "cell_type": "code",
   "execution_count": 41,
   "id": "d43575e6",
   "metadata": {},
   "outputs": [
    {
     "data": {
      "text/plain": [
       "<Axes: ylabel='Density'>"
      ]
     },
     "execution_count": 41,
     "metadata": {},
     "output_type": "execute_result"
    },
    {
     "data": {
      "image/png": "[encoded data removed]",
      "text/plain": [
       "<Figure size 900x700 with 1 Axes>"
      ]
     },
     "metadata": {},
     "output_type": "display_data"
    }
   ],
   "source": [
    "# Plotting and comparing kde plots\n",
    "df_consistent.loan_amount.plot.kde(color='orange', label='loan_amount', legend=True, linewidth=2)\n",
    "df_consistent.loan_amount_random_imputed.plot.kde(color='g', label='loan_amount_random_imputed', legend=True, linewidth=2)\n",
    "df_consistent.loan_amount.fillna(value=df_consistent.loan_amount.median()).plot.kde(color='b', label='loan_amount_median_imputed', linewidth=1, alpha=0.5, figsize=(9,7), legend=True)"
   ]
  },
  {
   "cell_type": "code",
   "execution_count": 42,
   "id": "95e79d2c",
   "metadata": {},
   "outputs": [
    {
     "data": {
      "text/plain": [
       "(85.59, 85.57, 84.11)"
      ]
     },
     "execution_count": 42,
     "metadata": {},
     "output_type": "execute_result"
    }
   ],
   "source": [
    "# Comparing standard deviations\n",
    "round(df_consistent.loan_amount.std(),2), round(df_consistent.loan_amount_random_imputed.std(),2), round(df_consistent.loan_amount.fillna(value=df_consistent.loan_amount.median()).std(),2)"
   ]
  },
  {
   "cell_type": "code",
   "execution_count": 43,
   "id": "e7367e96",
   "metadata": {},
   "outputs": [
    {
     "data": {
      "text/html": [
       "<div>\n",
       "<style scoped>\n",
       "    .dataframe tbody tr th:only-of-type {\n",
       "        vertical-align: middle;\n",
       "    }\n",
       "\n",
       "    .dataframe tbody tr th {\n",
       "        vertical-align: top;\n",
       "    }\n",
       "\n",
       "    .dataframe thead th {\n",
       "        text-align: right;\n",
       "    }\n",
       "</style>\n",
       "<table border=\"1\" class=\"dataframe\">\n",
       "  <thead>\n",
       "    <tr style=\"text-align: right;\">\n",
       "      <th></th>\n",
       "      <th>loan_amount</th>\n",
       "      <th>loan_amount_median_imputed</th>\n",
       "      <th>loan_amount_random_imputed</th>\n",
       "      <th>applicant_income</th>\n",
       "    </tr>\n",
       "  </thead>\n",
       "  <tbody>\n",
       "    <tr>\n",
       "      <th>loan_amount</th>\n",
       "      <td>1.000000</td>\n",
       "      <td>1.000000</td>\n",
       "      <td>1.000000</td>\n",
       "      <td>0.570909</td>\n",
       "    </tr>\n",
       "    <tr>\n",
       "      <th>loan_amount_median_imputed</th>\n",
       "      <td>1.000000</td>\n",
       "      <td>1.000000</td>\n",
       "      <td>0.979281</td>\n",
       "      <td>0.565181</td>\n",
       "    </tr>\n",
       "    <tr>\n",
       "      <th>loan_amount_random_imputed</th>\n",
       "      <td>1.000000</td>\n",
       "      <td>0.979281</td>\n",
       "      <td>1.000000</td>\n",
       "      <td>0.561845</td>\n",
       "    </tr>\n",
       "    <tr>\n",
       "      <th>applicant_income</th>\n",
       "      <td>0.570909</td>\n",
       "      <td>0.565181</td>\n",
       "      <td>0.561845</td>\n",
       "      <td>1.000000</td>\n",
       "    </tr>\n",
       "  </tbody>\n",
       "</table>\n",
       "</div>"
      ],
      "text/plain": [
       "                            loan_amount  loan_amount_median_imputed  \\\n",
       "loan_amount                    1.000000                    1.000000   \n",
       "loan_amount_median_imputed     1.000000                    1.000000   \n",
       "loan_amount_random_imputed     1.000000                    0.979281   \n",
       "applicant_income               0.570909                    0.565181   \n",
       "\n",
       "                            loan_amount_random_imputed  applicant_income  \n",
       "loan_amount                                   1.000000          0.570909  \n",
       "loan_amount_median_imputed                    0.979281          0.565181  \n",
       "loan_amount_random_imputed                    1.000000          0.561845  \n",
       "applicant_income                              0.561845          1.000000  "
      ]
     },
     "execution_count": 43,
     "metadata": {},
     "output_type": "execute_result"
    }
   ],
   "source": [
    "# Adding the median imputed column and checking the correlation\n",
    "df_consistent['loan_amount_median_imputed'] = df_consistent['loan_amount'].fillna(value=df_consistent['loan_amount'].median())\n",
    "df_consistent[['loan_amount', 'loan_amount_median_imputed','loan_amount_random_imputed', 'applicant_income']].corr()"
   ]
  },
  {
   "cell_type": "code",
   "execution_count": 44,
   "id": "b8ff4886",
   "metadata": {},
   "outputs": [
    {
     "data": {
      "text/plain": [
       "credit_history\n",
       "1.0    0.842199\n",
       "0.0    0.157801\n",
       "Name: proportion, dtype: float64"
      ]
     },
     "execution_count": 44,
     "metadata": {},
     "output_type": "execute_result"
    }
   ],
   "source": [
    "# Checking credit history distribution without imputation\n",
    "df_consistent.credit_history.value_counts(normalize=True)"
   ]
  },
  {
   "cell_type": "code",
   "execution_count": 45,
   "id": "ef575383",
   "metadata": {},
   "outputs": [
    {
     "data": {
      "text/plain": [
       "credit_history\n",
       "1.0    0.855049\n",
       "0.0    0.144951\n",
       "Name: proportion, dtype: float64"
      ]
     },
     "execution_count": 45,
     "metadata": {},
     "output_type": "execute_result"
    }
   ],
   "source": [
    "# Checking credit history distribution with imputation\n",
    "df_consistent.credit_history.fillna(value=df_consistent.credit_history.mode()[0]).value_counts(normalize=True)"
   ]
  },
  {
   "cell_type": "code",
   "execution_count": 46,
   "id": "2317a834",
   "metadata": {},
   "outputs": [],
   "source": [
    "# Importing libraries for KNN Imputation\n",
    "from sklearn.impute import KNNImputer\n",
    "from feature_engine.wrappers import SklearnTransformerWrapper\n",
    "from sklearn.preprocessing import StandardScaler"
   ]
  },
  {
   "cell_type": "code",
   "execution_count": 47,
   "id": "47ee4a87",
   "metadata": {},
   "outputs": [],
   "source": [
    "# This code creates a list of column names in the DataFrame 'df_consistent' that have more than 15 unique values, excluding specific columns like 'id_col' and 'target', and excluding columns that end with 'imputed'.\n",
    "num_cols = [cols for cols in df_consistent if df_consistent[cols].nunique() > 15 and cols not in [id_col, target] and not cols.endswith('imputed')]"
   ]
  },
  {
   "cell_type": "code",
   "execution_count": 48,
   "id": "9e9ec4c2",
   "metadata": {},
   "outputs": [
    {
     "data": {
      "text/html": [
       "<div>\n",
       "<style scoped>\n",
       "    .dataframe tbody tr th:only-of-type {\n",
       "        vertical-align: middle;\n",
       "    }\n",
       "\n",
       "    .dataframe tbody tr th {\n",
       "        vertical-align: top;\n",
       "    }\n",
       "\n",
       "    .dataframe thead th {\n",
       "        text-align: right;\n",
       "    }\n",
       "</style>\n",
       "<table border=\"1\" class=\"dataframe\">\n",
       "  <thead>\n",
       "    <tr style=\"text-align: right;\">\n",
       "      <th></th>\n",
       "      <th>applicant_income</th>\n",
       "      <th>coapplicant_income</th>\n",
       "      <th>loan_amount</th>\n",
       "    </tr>\n",
       "  </thead>\n",
       "  <tbody>\n",
       "    <tr>\n",
       "      <th>0</th>\n",
       "      <td>5849</td>\n",
       "      <td>0.0</td>\n",
       "      <td>NaN</td>\n",
       "    </tr>\n",
       "    <tr>\n",
       "      <th>1</th>\n",
       "      <td>4583</td>\n",
       "      <td>1508.0</td>\n",
       "      <td>128.0</td>\n",
       "    </tr>\n",
       "    <tr>\n",
       "      <th>2</th>\n",
       "      <td>3000</td>\n",
       "      <td>0.0</td>\n",
       "      <td>66.0</td>\n",
       "    </tr>\n",
       "    <tr>\n",
       "      <th>3</th>\n",
       "      <td>2583</td>\n",
       "      <td>2358.0</td>\n",
       "      <td>120.0</td>\n",
       "    </tr>\n",
       "    <tr>\n",
       "      <th>4</th>\n",
       "      <td>6000</td>\n",
       "      <td>0.0</td>\n",
       "      <td>141.0</td>\n",
       "    </tr>\n",
       "  </tbody>\n",
       "</table>\n",
       "</div>"
      ],
      "text/plain": [
       "   applicant_income  coapplicant_income  loan_amount\n",
       "0              5849                 0.0          NaN\n",
       "1              4583              1508.0        128.0\n",
       "2              3000                 0.0         66.0\n",
       "3              2583              2358.0        120.0\n",
       "4              6000                 0.0        141.0"
      ]
     },
     "execution_count": 48,
     "metadata": {},
     "output_type": "execute_result"
    }
   ],
   "source": [
    "# This code creates a new DataFrame 'df_num' by selecting only the columns specified in the 'num_cols' list from the DataFrame 'df_consistent' and then displays the first few rows of the new DataFrame.\n",
    "df_num = df_consistent[num_cols].copy()\n",
    "df_num.head()"
   ]
  },
  {
   "cell_type": "code",
   "execution_count": 49,
   "id": "566194a3",
   "metadata": {},
   "outputs": [],
   "source": [
    "def scale_data(df, scaler, columns):\n",
    "    \"\"\"Function to scale the data\"\"\"\n",
    "    \n",
    "    # Create a copy of the input DataFrame\n",
    "    df_scaled = df.copy()\n",
    "    \n",
    "    # Check if specific columns are specified for scaling\n",
    "    if columns:\n",
    "        # Scale only the specified columns using the scaler object\n",
    "        df_scaled[columns] = scaler.fit_transform(df_scaled[columns])\n",
    "    else:\n",
    "        # If no columns are specified, scale all columns in the DataFrame\n",
    "        columns = [cols for cols in df_scaled]\n",
    "        df_scaled[columns] = scaler.fit_transform(df_scaled[columns])\n",
    "    \n",
    "    # Return the scaled DataFrame and the scaler object\n",
    "    return df_scaled, scaler"
   ]
  },
  {
   "cell_type": "code",
   "execution_count": 50,
   "id": "8949124d",
   "metadata": {},
   "outputs": [],
   "source": [
    "# Create a StandardScaler object\n",
    "scaler = StandardScaler()\n",
    "\n",
    "# Scale the numerical columns in DataFrame df_num using the scaler object\n",
    "# The scaled DataFrame and the scaler object are returned\n",
    "df_scaled, scaler = scale_data(df_num, scaler=scaler, columns=num_cols)"
   ]
  },
  {
   "cell_type": "code",
   "execution_count": 51,
   "id": "190b932f",
   "metadata": {},
   "outputs": [],
   "source": [
    "# Create a SklearnTransformerWrapper object for KNNImputer\n",
    "knn_imputer = SklearnTransformerWrapper(\n",
    "    transformer=KNNImputer(n_neighbors=10, weights='distance'),\n",
    "    variables=num_cols\n",
    ")"
   ]
  },
  {
   "cell_type": "code",
   "execution_count": 52,
   "id": "29304a2c",
   "metadata": {},
   "outputs": [],
   "source": [
    "# Imputing the dataframe using the knn imputer\n",
    "df_imputed = knn_imputer.fit_transform(df_scaled)"
   ]
  },
  {
   "cell_type": "code",
   "execution_count": 53,
   "id": "afebb557",
   "metadata": {},
   "outputs": [
    {
     "data": {
      "text/html": [
       "<div>\n",
       "<style scoped>\n",
       "    .dataframe tbody tr th:only-of-type {\n",
       "        vertical-align: middle;\n",
       "    }\n",
       "\n",
       "    .dataframe tbody tr th {\n",
       "        vertical-align: top;\n",
       "    }\n",
       "\n",
       "    .dataframe thead th {\n",
       "        text-align: right;\n",
       "    }\n",
       "</style>\n",
       "<table border=\"1\" class=\"dataframe\">\n",
       "  <thead>\n",
       "    <tr style=\"text-align: right;\">\n",
       "      <th></th>\n",
       "      <th>applicant_income</th>\n",
       "      <th>coapplicant_income</th>\n",
       "      <th>loan_amount</th>\n",
       "    </tr>\n",
       "  </thead>\n",
       "  <tbody>\n",
       "    <tr>\n",
       "      <th>0</th>\n",
       "      <td>5849.0</td>\n",
       "      <td>0.0</td>\n",
       "      <td>149.666345</td>\n",
       "    </tr>\n",
       "    <tr>\n",
       "      <th>1</th>\n",
       "      <td>4583.0</td>\n",
       "      <td>1508.0</td>\n",
       "      <td>128.000000</td>\n",
       "    </tr>\n",
       "    <tr>\n",
       "      <th>2</th>\n",
       "      <td>3000.0</td>\n",
       "      <td>0.0</td>\n",
       "      <td>66.000000</td>\n",
       "    </tr>\n",
       "    <tr>\n",
       "      <th>3</th>\n",
       "      <td>2583.0</td>\n",
       "      <td>2358.0</td>\n",
       "      <td>120.000000</td>\n",
       "    </tr>\n",
       "    <tr>\n",
       "      <th>4</th>\n",
       "      <td>6000.0</td>\n",
       "      <td>0.0</td>\n",
       "      <td>141.000000</td>\n",
       "    </tr>\n",
       "  </tbody>\n",
       "</table>\n",
       "</div>"
      ],
      "text/plain": [
       "   applicant_income  coapplicant_income  loan_amount\n",
       "0            5849.0                 0.0   149.666345\n",
       "1            4583.0              1508.0   128.000000\n",
       "2            3000.0                 0.0    66.000000\n",
       "3            2583.0              2358.0   120.000000\n",
       "4            6000.0                 0.0   141.000000"
      ]
     },
     "execution_count": 53,
     "metadata": {},
     "output_type": "execute_result"
    }
   ],
   "source": [
    "# Created the dataframe and viewing first few rows\n",
    "df_imputed = pd.DataFrame(columns=num_cols, data=scaler.inverse_transform(df_imputed))\n",
    "df_imputed.head()"
   ]
  },
  {
   "cell_type": "code",
   "execution_count": 54,
   "id": "44f76307",
   "metadata": {},
   "outputs": [
    {
     "data": {
      "text/plain": [
       "<Axes: ylabel='Density'>"
      ]
     },
     "execution_count": 54,
     "metadata": {},
     "output_type": "execute_result"
    },
    {
     "data": {
      "image/png": "[encoded data removed]",
      "text/plain": [
       "<Figure size 900x700 with 1 Axes>"
      ]
     },
     "metadata": {},
     "output_type": "display_data"
    }
   ],
   "source": [
    "# Created the kde plot and comparing with loan amount\n",
    "df_imputed['loan_amount'].plot.kde(color='orange', label='loan_amount_knn_imputed',linewidth=2, legend=True)\n",
    "df_consistent['loan_amount'].plot.kde(color='b', label='loan_amount', legend=True, linewidth=2, figsize=(9,7), alpha=0.5)"
   ]
  },
  {
   "cell_type": "code",
   "execution_count": 55,
   "id": "dd4d9a44",
   "metadata": {},
   "outputs": [
    {
     "data": {
      "text/plain": [
       "(85.59, 85.57, 84.11, 85.59)"
      ]
     },
     "execution_count": 55,
     "metadata": {},
     "output_type": "execute_result"
    }
   ],
   "source": [
    "# Calculating standard deviation of all loan amounts\n",
    "round(df_consistent.loan_amount.std(),2), round(df_consistent.loan_amount_random_imputed.std(),2), round(df_consistent.loan_amount_median_imputed.std(),2), round(df_imputed.loan_amount.std(),2)"
   ]
  },
  {
   "cell_type": "code",
   "execution_count": 56,
   "id": "bf535d01",
   "metadata": {},
   "outputs": [
    {
     "data": {
      "text/html": [
       "<div>\n",
       "<style scoped>\n",
       "    .dataframe tbody tr th:only-of-type {\n",
       "        vertical-align: middle;\n",
       "    }\n",
       "\n",
       "    .dataframe tbody tr th {\n",
       "        vertical-align: top;\n",
       "    }\n",
       "\n",
       "    .dataframe thead th {\n",
       "        text-align: right;\n",
       "    }\n",
       "</style>\n",
       "<table border=\"1\" class=\"dataframe\">\n",
       "  <thead>\n",
       "    <tr style=\"text-align: right;\">\n",
       "      <th></th>\n",
       "      <th>loan_amount</th>\n",
       "      <th>loan_amount_median_imputed</th>\n",
       "      <th>loan_amount_random_imputed</th>\n",
       "      <th>loan_amount_knn_imputed</th>\n",
       "      <th>applicant_income</th>\n",
       "    </tr>\n",
       "  </thead>\n",
       "  <tbody>\n",
       "    <tr>\n",
       "      <th>loan_amount</th>\n",
       "      <td>1.000000</td>\n",
       "      <td>1.000000</td>\n",
       "      <td>1.000000</td>\n",
       "      <td>1.000000</td>\n",
       "      <td>0.570909</td>\n",
       "    </tr>\n",
       "    <tr>\n",
       "      <th>loan_amount_median_imputed</th>\n",
       "      <td>1.000000</td>\n",
       "      <td>1.000000</td>\n",
       "      <td>0.979281</td>\n",
       "      <td>0.981185</td>\n",
       "      <td>0.565181</td>\n",
       "    </tr>\n",
       "    <tr>\n",
       "      <th>loan_amount_random_imputed</th>\n",
       "      <td>1.000000</td>\n",
       "      <td>0.979281</td>\n",
       "      <td>1.000000</td>\n",
       "      <td>0.970700</td>\n",
       "      <td>0.561845</td>\n",
       "    </tr>\n",
       "    <tr>\n",
       "      <th>loan_amount_knn_imputed</th>\n",
       "      <td>1.000000</td>\n",
       "      <td>0.981185</td>\n",
       "      <td>0.970700</td>\n",
       "      <td>1.000000</td>\n",
       "      <td>0.578718</td>\n",
       "    </tr>\n",
       "    <tr>\n",
       "      <th>applicant_income</th>\n",
       "      <td>0.570909</td>\n",
       "      <td>0.565181</td>\n",
       "      <td>0.561845</td>\n",
       "      <td>0.578718</td>\n",
       "      <td>1.000000</td>\n",
       "    </tr>\n",
       "  </tbody>\n",
       "</table>\n",
       "</div>"
      ],
      "text/plain": [
       "                            loan_amount  loan_amount_median_imputed  \\\n",
       "loan_amount                    1.000000                    1.000000   \n",
       "loan_amount_median_imputed     1.000000                    1.000000   \n",
       "loan_amount_random_imputed     1.000000                    0.979281   \n",
       "loan_amount_knn_imputed        1.000000                    0.981185   \n",
       "applicant_income               0.570909                    0.565181   \n",
       "\n",
       "                            loan_amount_random_imputed  \\\n",
       "loan_amount                                   1.000000   \n",
       "loan_amount_median_imputed                    0.979281   \n",
       "loan_amount_random_imputed                    1.000000   \n",
       "loan_amount_knn_imputed                       0.970700   \n",
       "applicant_income                              0.561845   \n",
       "\n",
       "                            loan_amount_knn_imputed  applicant_income  \n",
       "loan_amount                                1.000000          0.570909  \n",
       "loan_amount_median_imputed                 0.981185          0.565181  \n",
       "loan_amount_random_imputed                 0.970700          0.561845  \n",
       "loan_amount_knn_imputed                    1.000000          0.578718  \n",
       "applicant_income                           0.578718          1.000000  "
      ]
     },
     "execution_count": 56,
     "metadata": {},
     "output_type": "execute_result"
    }
   ],
   "source": [
    "# Adding the new column and running correlation with all other methods\n",
    "df_consistent['loan_amount_knn_imputed'] = df_imputed.loan_amount\n",
    "df_consistent[['loan_amount', 'loan_amount_median_imputed','loan_amount_random_imputed', 'loan_amount_knn_imputed', 'applicant_income']].corr()"
   ]
  },
  {
   "cell_type": "code",
   "execution_count": 57,
   "id": "8e4938a8",
   "metadata": {},
   "outputs": [],
   "source": [
    "# Importing the libraries to run MICE implementation which is replication of MissForest in R\n",
    "from sklearn.ensemble import ExtraTreesRegressor, ExtraTreesClassifier\n",
    "from sklearn.experimental import enable_iterative_imputer\n",
    "from sklearn.impute import IterativeImputer\n",
    "from feature_engine.encoding import OneHotEncoder"
   ]
  },
  {
   "cell_type": "code",
   "execution_count": 58,
   "id": "633424cc",
   "metadata": {},
   "outputs": [
    {
     "data": {
      "text/plain": [
       "['property_area']"
      ]
     },
     "execution_count": 58,
     "metadata": {},
     "output_type": "execute_result"
    }
   ],
   "source": [
    "# Extracting the categorical columns that will be one hot encoded\n",
    "ohe_cols = [cols for cols in cat_cols if df_consistent[cols].dtype == 'object']\n",
    "ohe_cols"
   ]
  },
  {
   "cell_type": "code",
   "execution_count": 59,
   "id": "c7545043",
   "metadata": {},
   "outputs": [],
   "source": [
    "# Created the new dataframe and running one hot encoded\n",
    "df_ohe_encoded = df_consistent.copy()\n",
    "ohe = OneHotEncoder(variables=ohe_cols)\n",
    "df_ohe_encoded = ohe.fit_transform(df_ohe_encoded)"
   ]
  },
  {
   "cell_type": "code",
   "execution_count": 60,
   "id": "526f7af2",
   "metadata": {
    "scrolled": true
   },
   "outputs": [
    {
     "data": {
      "text/html": [
       "<div>\n",
       "<style scoped>\n",
       "    .dataframe tbody tr th:only-of-type {\n",
       "        vertical-align: middle;\n",
       "    }\n",
       "\n",
       "    .dataframe tbody tr th {\n",
       "        vertical-align: top;\n",
       "    }\n",
       "\n",
       "    .dataframe thead th {\n",
       "        text-align: right;\n",
       "    }\n",
       "</style>\n",
       "<table border=\"1\" class=\"dataframe\">\n",
       "  <thead>\n",
       "    <tr style=\"text-align: right;\">\n",
       "      <th></th>\n",
       "      <th>property_area_urban</th>\n",
       "      <th>property_area_rural</th>\n",
       "      <th>property_area_semiurban</th>\n",
       "    </tr>\n",
       "  </thead>\n",
       "  <tbody>\n",
       "    <tr>\n",
       "      <th>0</th>\n",
       "      <td>1</td>\n",
       "      <td>0</td>\n",
       "      <td>0</td>\n",
       "    </tr>\n",
       "    <tr>\n",
       "      <th>1</th>\n",
       "      <td>0</td>\n",
       "      <td>1</td>\n",
       "      <td>0</td>\n",
       "    </tr>\n",
       "    <tr>\n",
       "      <th>2</th>\n",
       "      <td>1</td>\n",
       "      <td>0</td>\n",
       "      <td>0</td>\n",
       "    </tr>\n",
       "    <tr>\n",
       "      <th>3</th>\n",
       "      <td>1</td>\n",
       "      <td>0</td>\n",
       "      <td>0</td>\n",
       "    </tr>\n",
       "    <tr>\n",
       "      <th>4</th>\n",
       "      <td>1</td>\n",
       "      <td>0</td>\n",
       "      <td>0</td>\n",
       "    </tr>\n",
       "  </tbody>\n",
       "</table>\n",
       "</div>"
      ],
      "text/plain": [
       "   property_area_urban  property_area_rural  property_area_semiurban\n",
       "0                    1                    0                        0\n",
       "1                    0                    1                        0\n",
       "2                    1                    0                        0\n",
       "3                    1                    0                        0\n",
       "4                    1                    0                        0"
      ]
     },
     "execution_count": 60,
     "metadata": {},
     "output_type": "execute_result"
    }
   ],
   "source": [
    "# Checking all columns related to property area\n",
    "df_ohe_encoded[[cols for cols in df_ohe_encoded if 'property_area' in cols]].head()"
   ]
  },
  {
   "cell_type": "code",
   "execution_count": 61,
   "id": "fdd17b97",
   "metadata": {},
   "outputs": [],
   "source": [
    "# Select categorical columns from df_ohe_encoded where the number of unique values is less than or equal to 15\n",
    "# and the column is not in the list [id_col, target]\n",
    "cat_cols = [cols for cols in df_ohe_encoded if df_ohe_encoded[cols].nunique() <= 15 and cols not in [id_col, target]]"
   ]
  },
  {
   "cell_type": "code",
   "execution_count": 62,
   "id": "50899fcf",
   "metadata": {},
   "outputs": [
    {
     "data": {
      "text/plain": [
       "['gender',\n",
       " 'married',\n",
       " 'dependents',\n",
       " 'education',\n",
       " 'self_employed',\n",
       " 'loan_amount_term',\n",
       " 'credit_history',\n",
       " 'property_area_urban',\n",
       " 'property_area_rural',\n",
       " 'property_area_semiurban']"
      ]
     },
     "execution_count": 62,
     "metadata": {},
     "output_type": "execute_result"
    }
   ],
   "source": [
    "cat_cols"
   ]
  },
  {
   "cell_type": "code",
   "execution_count": 63,
   "id": "d5894e9d",
   "metadata": {},
   "outputs": [],
   "source": [
    "# Create an IterativeImputer object using ExtraTreesClassifier as the estimator\n",
    "miss_forest_classifier = IterativeImputer(estimator=ExtraTreesClassifier(n_estimators=100, \n",
    "                                                                        random_state=1,\n",
    "                                                                        bootstrap=True, \n",
    "                                                                        n_jobs=-1),\n",
    "                           max_iter=10,\n",
    "                           random_state=1,\n",
    "                           add_indicator=True,\n",
    "                           initial_strategy='median')\n",
    "\n",
    "# Impute missing values in categorical columns using the miss_forest_classifier\n",
    "df_cat_imputed = miss_forest_classifier.fit_transform(df_ohe_encoded[cat_cols])"
   ]
  },
  {
   "cell_type": "code",
   "execution_count": 64,
   "id": "c4ff3d01",
   "metadata": {},
   "outputs": [
    {
     "data": {
      "text/html": [
       "<div>\n",
       "<style scoped>\n",
       "    .dataframe tbody tr th:only-of-type {\n",
       "        vertical-align: middle;\n",
       "    }\n",
       "\n",
       "    .dataframe tbody tr th {\n",
       "        vertical-align: top;\n",
       "    }\n",
       "\n",
       "    .dataframe thead th {\n",
       "        text-align: right;\n",
       "    }\n",
       "</style>\n",
       "<table border=\"1\" class=\"dataframe\">\n",
       "  <thead>\n",
       "    <tr style=\"text-align: right;\">\n",
       "      <th></th>\n",
       "      <th>gender</th>\n",
       "      <th>married</th>\n",
       "      <th>dependents</th>\n",
       "      <th>education</th>\n",
       "      <th>self_employed</th>\n",
       "      <th>loan_amount_term</th>\n",
       "      <th>credit_history</th>\n",
       "      <th>property_area_urban</th>\n",
       "      <th>property_area_rural</th>\n",
       "      <th>property_area_semiurban</th>\n",
       "      <th>missingindicator_gender</th>\n",
       "      <th>missingindicator_married</th>\n",
       "      <th>missingindicator_dependents</th>\n",
       "      <th>missingindicator_self_employed</th>\n",
       "      <th>missingindicator_loan_amount_term</th>\n",
       "      <th>missingindicator_credit_history</th>\n",
       "    </tr>\n",
       "  </thead>\n",
       "  <tbody>\n",
       "    <tr>\n",
       "      <th>0</th>\n",
       "      <td>1.0</td>\n",
       "      <td>0.0</td>\n",
       "      <td>0.0</td>\n",
       "      <td>1.0</td>\n",
       "      <td>0.0</td>\n",
       "      <td>360.0</td>\n",
       "      <td>1.0</td>\n",
       "      <td>1.0</td>\n",
       "      <td>0.0</td>\n",
       "      <td>0.0</td>\n",
       "      <td>0.0</td>\n",
       "      <td>0.0</td>\n",
       "      <td>0.0</td>\n",
       "      <td>0.0</td>\n",
       "      <td>0.0</td>\n",
       "      <td>0.0</td>\n",
       "    </tr>\n",
       "    <tr>\n",
       "      <th>1</th>\n",
       "      <td>1.0</td>\n",
       "      <td>1.0</td>\n",
       "      <td>1.0</td>\n",
       "      <td>1.0</td>\n",
       "      <td>0.0</td>\n",
       "      <td>360.0</td>\n",
       "      <td>1.0</td>\n",
       "      <td>0.0</td>\n",
       "      <td>1.0</td>\n",
       "      <td>0.0</td>\n",
       "      <td>0.0</td>\n",
       "      <td>0.0</td>\n",
       "      <td>0.0</td>\n",
       "      <td>0.0</td>\n",
       "      <td>0.0</td>\n",
       "      <td>0.0</td>\n",
       "    </tr>\n",
       "    <tr>\n",
       "      <th>2</th>\n",
       "      <td>1.0</td>\n",
       "      <td>1.0</td>\n",
       "      <td>0.0</td>\n",
       "      <td>1.0</td>\n",
       "      <td>1.0</td>\n",
       "      <td>360.0</td>\n",
       "      <td>1.0</td>\n",
       "      <td>1.0</td>\n",
       "      <td>0.0</td>\n",
       "      <td>0.0</td>\n",
       "      <td>0.0</td>\n",
       "      <td>0.0</td>\n",
       "      <td>0.0</td>\n",
       "      <td>0.0</td>\n",
       "      <td>0.0</td>\n",
       "      <td>0.0</td>\n",
       "    </tr>\n",
       "    <tr>\n",
       "      <th>3</th>\n",
       "      <td>1.0</td>\n",
       "      <td>1.0</td>\n",
       "      <td>0.0</td>\n",
       "      <td>0.0</td>\n",
       "      <td>0.0</td>\n",
       "      <td>360.0</td>\n",
       "      <td>1.0</td>\n",
       "      <td>1.0</td>\n",
       "      <td>0.0</td>\n",
       "      <td>0.0</td>\n",
       "      <td>0.0</td>\n",
       "      <td>0.0</td>\n",
       "      <td>0.0</td>\n",
       "      <td>0.0</td>\n",
       "      <td>0.0</td>\n",
       "      <td>0.0</td>\n",
       "    </tr>\n",
       "    <tr>\n",
       "      <th>4</th>\n",
       "      <td>1.0</td>\n",
       "      <td>0.0</td>\n",
       "      <td>0.0</td>\n",
       "      <td>1.0</td>\n",
       "      <td>0.0</td>\n",
       "      <td>360.0</td>\n",
       "      <td>1.0</td>\n",
       "      <td>1.0</td>\n",
       "      <td>0.0</td>\n",
       "      <td>0.0</td>\n",
       "      <td>0.0</td>\n",
       "      <td>0.0</td>\n",
       "      <td>0.0</td>\n",
       "      <td>0.0</td>\n",
       "      <td>0.0</td>\n",
       "      <td>0.0</td>\n",
       "    </tr>\n",
       "  </tbody>\n",
       "</table>\n",
       "</div>"
      ],
      "text/plain": [
       "   gender  married  dependents  education  self_employed  loan_amount_term  \\\n",
       "0     1.0      0.0         0.0        1.0            0.0             360.0   \n",
       "1     1.0      1.0         1.0        1.0            0.0             360.0   \n",
       "2     1.0      1.0         0.0        1.0            1.0             360.0   \n",
       "3     1.0      1.0         0.0        0.0            0.0             360.0   \n",
       "4     1.0      0.0         0.0        1.0            0.0             360.0   \n",
       "\n",
       "   credit_history  property_area_urban  property_area_rural  \\\n",
       "0             1.0                  1.0                  0.0   \n",
       "1             1.0                  0.0                  1.0   \n",
       "2             1.0                  1.0                  0.0   \n",
       "3             1.0                  1.0                  0.0   \n",
       "4             1.0                  1.0                  0.0   \n",
       "\n",
       "   property_area_semiurban  missingindicator_gender  missingindicator_married  \\\n",
       "0                      0.0                      0.0                       0.0   \n",
       "1                      0.0                      0.0                       0.0   \n",
       "2                      0.0                      0.0                       0.0   \n",
       "3                      0.0                      0.0                       0.0   \n",
       "4                      0.0                      0.0                       0.0   \n",
       "\n",
       "   missingindicator_dependents  missingindicator_self_employed  \\\n",
       "0                          0.0                             0.0   \n",
       "1                          0.0                             0.0   \n",
       "2                          0.0                             0.0   \n",
       "3                          0.0                             0.0   \n",
       "4                          0.0                             0.0   \n",
       "\n",
       "   missingindicator_loan_amount_term  missingindicator_credit_history  \n",
       "0                                0.0                              0.0  \n",
       "1                                0.0                              0.0  \n",
       "2                                0.0                              0.0  \n",
       "3                                0.0                              0.0  \n",
       "4                                0.0                              0.0  "
      ]
     },
     "execution_count": 64,
     "metadata": {},
     "output_type": "execute_result"
    }
   ],
   "source": [
    "# Imputing the categorical columns using MICE implementation\n",
    "df_cat_imputed = pd.DataFrame(columns=miss_forest_classifier.get_feature_names_out(), \n",
    "                               data=df_cat_imputed, \n",
    "                               index=df_ohe_encoded.index)\n",
    "df_cat_imputed.head()"
   ]
  },
  {
   "cell_type": "code",
   "execution_count": 65,
   "id": "78b3c7e9",
   "metadata": {},
   "outputs": [
    {
     "name": "stdout",
     "output_type": "stream",
     "text": [
      "gender\n",
      "[1. 0.]\n",
      "\n",
      "married\n",
      "[0. 1.]\n",
      "\n",
      "dependents\n",
      "[0. 1. 2. 3.]\n",
      "\n",
      "education\n",
      "[1. 0.]\n",
      "\n",
      "self_employed\n",
      "[0. 1.]\n",
      "\n",
      "loan_amount_term\n",
      "[360. 120. 240. 180.  60. 300. 480.  36.  84.  12.]\n",
      "\n",
      "credit_history\n",
      "[1. 0.]\n",
      "\n",
      "property_area_urban\n",
      "[1. 0.]\n",
      "\n",
      "property_area_rural\n",
      "[0. 1.]\n",
      "\n",
      "property_area_semiurban\n",
      "[0. 1.]\n",
      "\n"
     ]
    }
   ],
   "source": [
    "# Checking if all columns are imputed and there are no NaNs\n",
    "for cols in cat_cols:\n",
    "    print(cols)\n",
    "    print(df_cat_imputed[cols].unique())\n",
    "    print()"
   ]
  },
  {
   "cell_type": "code",
   "execution_count": 66,
   "id": "ad69684e",
   "metadata": {},
   "outputs": [],
   "source": [
    "# Select numerical columns from df_consistent that are not in df_cat_imputed, not in [id_col, target] + ohe_cols,\n",
    "# and do not end with \"imputed\"\n",
    "num_cols = [cols for cols in df_consistent if cols not in df_cat_imputed and cols not in [id_col, target] + ohe_cols \n",
    "            and not cols.endswith(\"imputed\")]\n",
    "\n",
    "# Combine numerical columns from df_consistent and imputed categorical columns df_cat_imputed\n",
    "df_combined = pd.concat([df_consistent[num_cols], df_cat_imputed], axis=1)\n",
    "\n",
    "# Create a list of feature columns from df_combined\n",
    "feature_cols = [cols for cols in df_combined]"
   ]
  },
  {
   "cell_type": "code",
   "execution_count": 67,
   "id": "8d1fc14e",
   "metadata": {},
   "outputs": [
    {
     "data": {
      "text/plain": [
       "['applicant_income',\n",
       " 'coapplicant_income',\n",
       " 'loan_amount',\n",
       " 'gender',\n",
       " 'married',\n",
       " 'dependents',\n",
       " 'education',\n",
       " 'self_employed',\n",
       " 'loan_amount_term',\n",
       " 'credit_history',\n",
       " 'property_area_urban',\n",
       " 'property_area_rural',\n",
       " 'property_area_semiurban',\n",
       " 'missingindicator_gender',\n",
       " 'missingindicator_married',\n",
       " 'missingindicator_dependents',\n",
       " 'missingindicator_self_employed',\n",
       " 'missingindicator_loan_amount_term',\n",
       " 'missingindicator_credit_history']"
      ]
     },
     "execution_count": 67,
     "metadata": {},
     "output_type": "execute_result"
    }
   ],
   "source": [
    "feature_cols"
   ]
  },
  {
   "cell_type": "code",
   "execution_count": 68,
   "id": "0e413902",
   "metadata": {},
   "outputs": [],
   "source": [
    "# Create an IterativeImputer object using ExtraTreesRegressor as the estimator\n",
    "miss_forest_regressor = IterativeImputer(estimator=ExtraTreesRegressor(n_estimators=100, \n",
    "                                                                       random_state=1, \n",
    "                                                                       bootstrap=True, \n",
    "                                                                       n_jobs=-1),\n",
    "                           max_iter=10,\n",
    "                           random_state=1,\n",
    "                           add_indicator=True,\n",
    "                           initial_strategy='median')\n",
    "\n",
    "# Impute missing values in df_combined using the miss_forest_regressor\n",
    "df_imputed = miss_forest_regressor.fit_transform(df_combined[feature_cols])"
   ]
  },
  {
   "cell_type": "code",
   "execution_count": 69,
   "id": "a76a6590",
   "metadata": {},
   "outputs": [],
   "source": [
    "# Create a DataFrame using the imputed data with column names from the miss_forest_regressor\n",
    "df_imputed = pd.DataFrame(data=df_imputed, \n",
    "                           columns=miss_forest_regressor.get_feature_names_out(),\n",
    "                           index=df_combined.index)"
   ]
  },
  {
   "cell_type": "code",
   "execution_count": 70,
   "id": "31586252",
   "metadata": {},
   "outputs": [
    {
     "data": {
      "text/plain": [
       "applicant_income                     0\n",
       "coapplicant_income                   0\n",
       "loan_amount                          0\n",
       "gender                               0\n",
       "married                              0\n",
       "dependents                           0\n",
       "education                            0\n",
       "self_employed                        0\n",
       "loan_amount_term                     0\n",
       "credit_history                       0\n",
       "property_area_urban                  0\n",
       "property_area_rural                  0\n",
       "property_area_semiurban              0\n",
       "missingindicator_gender              0\n",
       "missingindicator_married             0\n",
       "missingindicator_dependents          0\n",
       "missingindicator_self_employed       0\n",
       "missingindicator_loan_amount_term    0\n",
       "missingindicator_credit_history      0\n",
       "missingindicator_loan_amount         0\n",
       "dtype: int64"
      ]
     },
     "execution_count": 70,
     "metadata": {},
     "output_type": "execute_result"
    }
   ],
   "source": [
    "# Ensuring all columns are imputed and no missing values are left\n",
    "df_imputed.isnull().sum()"
   ]
  },
  {
   "cell_type": "code",
   "execution_count": 71,
   "id": "ea90b37a",
   "metadata": {},
   "outputs": [
    {
     "data": {
      "text/plain": [
       "<Axes: ylabel='Density'>"
      ]
     },
     "execution_count": 71,
     "metadata": {},
     "output_type": "execute_result"
    },
    {
     "data": {
      "image/png": "[encoded data removed]",
      "text/plain": [
       "<Figure size 900x700 with 1 Axes>"
      ]
     },
     "metadata": {},
     "output_type": "display_data"
    }
   ],
   "source": [
    "# Running the kde plot and comparing MICE implementation imputation with loan amount \n",
    "df_imputed['loan_amount'].plot.kde(color='orange', label='loan_amount_miss_forest_imputed',linewidth=2, legend=True)\n",
    "df_consistent['loan_amount'].plot.kde(color='b', label='loan_amount', legend=True, linewidth=2, figsize=(9,7), alpha=0.5)"
   ]
  },
  {
   "cell_type": "code",
   "execution_count": 72,
   "id": "ec8fffdd",
   "metadata": {},
   "outputs": [
    {
     "data": {
      "text/plain": [
       "(85.59, 85.57, 84.11, 85.41)"
      ]
     },
     "execution_count": 72,
     "metadata": {},
     "output_type": "execute_result"
    }
   ],
   "source": [
    "# Comparing standard deviations\n",
    "round(df_consistent.loan_amount.std(),2), round(df_consistent.loan_amount_random_imputed.std(),2), round(df_consistent.loan_amount_median_imputed.std(),2), round(df_imputed.loan_amount.std(),2)"
   ]
  },
  {
   "cell_type": "code",
   "execution_count": 73,
   "id": "3f15dd92",
   "metadata": {
    "scrolled": true
   },
   "outputs": [
    {
     "data": {
      "text/html": [
       "<div>\n",
       "<style scoped>\n",
       "    .dataframe tbody tr th:only-of-type {\n",
       "        vertical-align: middle;\n",
       "    }\n",
       "\n",
       "    .dataframe tbody tr th {\n",
       "        vertical-align: top;\n",
       "    }\n",
       "\n",
       "    .dataframe thead th {\n",
       "        text-align: right;\n",
       "    }\n",
       "</style>\n",
       "<table border=\"1\" class=\"dataframe\">\n",
       "  <thead>\n",
       "    <tr style=\"text-align: right;\">\n",
       "      <th></th>\n",
       "      <th>loan_amount</th>\n",
       "      <th>loan_amount_median_imputed</th>\n",
       "      <th>loan_amount_random_imputed</th>\n",
       "      <th>loan_amount_miss_forest_imputed</th>\n",
       "      <th>applicant_income</th>\n",
       "    </tr>\n",
       "  </thead>\n",
       "  <tbody>\n",
       "    <tr>\n",
       "      <th>loan_amount</th>\n",
       "      <td>1.000000</td>\n",
       "      <td>1.000000</td>\n",
       "      <td>1.000000</td>\n",
       "      <td>1.000000</td>\n",
       "      <td>0.570909</td>\n",
       "    </tr>\n",
       "    <tr>\n",
       "      <th>loan_amount_median_imputed</th>\n",
       "      <td>1.000000</td>\n",
       "      <td>1.000000</td>\n",
       "      <td>0.979281</td>\n",
       "      <td>0.982379</td>\n",
       "      <td>0.565181</td>\n",
       "    </tr>\n",
       "    <tr>\n",
       "      <th>loan_amount_random_imputed</th>\n",
       "      <td>1.000000</td>\n",
       "      <td>0.979281</td>\n",
       "      <td>1.000000</td>\n",
       "      <td>0.972310</td>\n",
       "      <td>0.561845</td>\n",
       "    </tr>\n",
       "    <tr>\n",
       "      <th>loan_amount_miss_forest_imputed</th>\n",
       "      <td>1.000000</td>\n",
       "      <td>0.982379</td>\n",
       "      <td>0.972310</td>\n",
       "      <td>1.000000</td>\n",
       "      <td>0.579011</td>\n",
       "    </tr>\n",
       "    <tr>\n",
       "      <th>applicant_income</th>\n",
       "      <td>0.570909</td>\n",
       "      <td>0.565181</td>\n",
       "      <td>0.561845</td>\n",
       "      <td>0.579011</td>\n",
       "      <td>1.000000</td>\n",
       "    </tr>\n",
       "  </tbody>\n",
       "</table>\n",
       "</div>"
      ],
      "text/plain": [
       "                                 loan_amount  loan_amount_median_imputed  \\\n",
       "loan_amount                         1.000000                    1.000000   \n",
       "loan_amount_median_imputed          1.000000                    1.000000   \n",
       "loan_amount_random_imputed          1.000000                    0.979281   \n",
       "loan_amount_miss_forest_imputed     1.000000                    0.982379   \n",
       "applicant_income                    0.570909                    0.565181   \n",
       "\n",
       "                                 loan_amount_random_imputed  \\\n",
       "loan_amount                                        1.000000   \n",
       "loan_amount_median_imputed                         0.979281   \n",
       "loan_amount_random_imputed                         1.000000   \n",
       "loan_amount_miss_forest_imputed                    0.972310   \n",
       "applicant_income                                   0.561845   \n",
       "\n",
       "                                 loan_amount_miss_forest_imputed  \\\n",
       "loan_amount                                             1.000000   \n",
       "loan_amount_median_imputed                              0.982379   \n",
       "loan_amount_random_imputed                              0.972310   \n",
       "loan_amount_miss_forest_imputed                         1.000000   \n",
       "applicant_income                                        0.579011   \n",
       "\n",
       "                                 applicant_income  \n",
       "loan_amount                              0.570909  \n",
       "loan_amount_median_imputed               0.565181  \n",
       "loan_amount_random_imputed               0.561845  \n",
       "loan_amount_miss_forest_imputed          0.579011  \n",
       "applicant_income                         1.000000  "
      ]
     },
     "execution_count": 73,
     "metadata": {},
     "output_type": "execute_result"
    }
   ],
   "source": [
    "# Running correlation of MICE imputation with loan amount and applicant_income\n",
    "df_consistent['loan_amount_miss_forest_imputed'] = df_imputed.loan_amount\n",
    "df_consistent[['loan_amount', 'loan_amount_median_imputed','loan_amount_random_imputed', 'loan_amount_miss_forest_imputed', 'applicant_income']].corr()"
   ]
  },
  {
   "cell_type": "code",
   "execution_count": 74,
   "id": "0bb94e4e",
   "metadata": {},
   "outputs": [],
   "source": [
    "# Dropping all columns that end with imputed\n",
    "df_consistent.drop([cols for cols in df_consistent if cols.endswith('imputed')], axis=1, inplace=True)"
   ]
  },
  {
   "cell_type": "code",
   "execution_count": 75,
   "id": "58d7e014",
   "metadata": {},
   "outputs": [],
   "source": [
    "# Now putting it all together and importing the libraries to create a pipeline for imputation\n",
    "from sklearn.model_selection import train_test_split, GridSearchCV\n",
    "from sklearn.metrics import roc_auc_score, accuracy_score, confusion_matrix, ConfusionMatrixDisplay\n",
    "from typing import List\n",
    "from sklearn.tree import DecisionTreeClassifier\n",
    "from sklearn.preprocessing import StandardScaler\n",
    "from sklearn.pipeline import Pipeline\n",
    "from sklearn.compose import ColumnTransformer\n",
    "from sklearn.impute import SimpleImputer"
   ]
  },
  {
   "cell_type": "code",
   "execution_count": 76,
   "id": "1e2fb82a",
   "metadata": {},
   "outputs": [],
   "source": [
    "# Define the feature columns excluding the target and id columns\n",
    "feature_cols = [cols for cols in df_consistent if cols not in [target, id_col]]\n",
    "\n",
    "# Split the data into training and testing sets, with features and target values, using train_test_split\n",
    "X_train, X_test, y_train, y_test = train_test_split(df_consistent[feature_cols],\n",
    "                                                    df_consistent[target].map({'Y':1, 'N':0}), \n",
    "                                                    test_size=0.1, \n",
    "                                                    random_state=1, \n",
    "                                                    stratify=df_consistent[target].map({'Y':1, 'N':0}))"
   ]
  },
  {
   "cell_type": "code",
   "execution_count": 77,
   "id": "c694a8de",
   "metadata": {},
   "outputs": [
    {
     "data": {
      "text/plain": [
       "['gender',\n",
       " 'married',\n",
       " 'dependents',\n",
       " 'education',\n",
       " 'self_employed',\n",
       " 'applicant_income',\n",
       " 'coapplicant_income',\n",
       " 'loan_amount',\n",
       " 'loan_amount_term',\n",
       " 'credit_history',\n",
       " 'property_area']"
      ]
     },
     "execution_count": 77,
     "metadata": {},
     "output_type": "execute_result"
    }
   ],
   "source": [
    "feature_cols"
   ]
  },
  {
   "cell_type": "code",
   "execution_count": 78,
   "id": "4cd4d241",
   "metadata": {},
   "outputs": [],
   "source": [
    "# Identify categorical columns with 15 or fewer unique values\n",
    "cat_cols = [cols for cols in X_train if X_train[cols].nunique() <= 15]\n",
    "\n",
    "# Identify numerical columns not included in the categorical columns\n",
    "num_cols = [cols for cols in X_train if cols not in cat_cols]"
   ]
  },
  {
   "cell_type": "code",
   "execution_count": 79,
   "id": "f77259a7",
   "metadata": {},
   "outputs": [],
   "source": [
    "def miss_forest_categorical_transformer():\n",
    "    \"\"\"Function to define a categorical pipeline that includes one-hot encoding and Missing Forest imputation\"\"\"\n",
    "    \n",
    "    # Define the categorical transformer pipeline\n",
    "    cat_transformer = Pipeline(\n",
    "        steps=[\n",
    "            (\"one_hot_encoding\", \n",
    "             OneHotEncoder(variables=ohe_cols)\n",
    "            ),\n",
    "\n",
    "            (\"miss_forest_classifier\",\n",
    "             IterativeImputer(\n",
    "                estimator=ExtraTreesClassifier(n_estimators=100,\n",
    "                                              random_state=1,\n",
    "                                              bootstrap=True, \n",
    "                                              n_jobs=-1),\n",
    "                max_iter=10,\n",
    "                random_state=1,\n",
    "                initial_strategy='median',\n",
    "                add_indicator=True)\n",
    "            )\n",
    "        ]\n",
    "    )\n",
    "    \n",
    "    return cat_transformer"
   ]
  },
  {
   "cell_type": "code",
   "execution_count": 80,
   "id": "3618fdca",
   "metadata": {},
   "outputs": [],
   "source": [
    "def miss_forest_numerical_transformer():\n",
    "    \"\"\"Function to define a numerical pipeline that includes Missing Forest imputation\"\"\"\n",
    "    \n",
    "    # Define the numerical transformer pipeline\n",
    "    num_transformer = Pipeline(\n",
    "        steps=[\n",
    "            (\"miss_forest\", \n",
    "             IterativeImputer(\n",
    "                estimator=ExtraTreesRegressor(n_estimators=100,\n",
    "                                              random_state=1,\n",
    "                                              bootstrap=True, \n",
    "                                              n_jobs=-1),\n",
    "                max_iter=10,\n",
    "                random_state=1,\n",
    "                initial_strategy='median',\n",
    "                add_indicator=True)\n",
    "            )\n",
    "        ]\n",
    "    )\n",
    "    \n",
    "    return num_transformer"
   ]
  },
  {
   "cell_type": "code",
   "execution_count": 81,
   "id": "47641bcc",
   "metadata": {},
   "outputs": [],
   "source": [
    "# Create categorical and numerical transformers\n",
    "cat_transformer = miss_forest_categorical_transformer()\n",
    "num_transformer = miss_forest_numerical_transformer()\n",
    "\n",
    "# Impute missing values in categorical features\n",
    "X_train_cat_imputed = cat_transformer.fit_transform(X_train[cat_cols])\n",
    "X_test_cat_imputed = cat_transformer.transform(X_test[cat_cols])\n",
    "\n",
    "# Create DataFrames for imputed categorical features\n",
    "X_train_cat_imputed_df = pd.DataFrame(data=X_train_cat_imputed, \n",
    "                                      columns=cat_transformer.get_feature_names_out(),\n",
    "                                      index=X_train.index) \n",
    "\n",
    "X_test_cat_imputed_df = pd.DataFrame(data=X_test_cat_imputed, \n",
    "                                     columns=cat_transformer.get_feature_names_out(),\n",
    "                                     index=X_test.index)\n",
    "\n",
    "# Combine imputed categorical features with numerical features\n",
    "X_train_cat_imputed_df = pd.concat([X_train_cat_imputed_df, X_train[num_cols]], axis=1)\n",
    "X_test_cat_imputed_df = pd.concat([X_test_cat_imputed_df, X_test[num_cols]], axis=1)\n",
    "\n",
    "# Impute missing values in numerical features\n",
    "X_train_imputed = num_transformer.fit_transform(X_train_cat_imputed_df)\n",
    "X_test_imputed = num_transformer.transform(X_test_cat_imputed_df)\n",
    "\n",
    "# Create DataFrames for imputed numerical features\n",
    "X_train_transformed = pd.DataFrame(data=X_train_imputed, \n",
    "                                   columns=num_transformer.get_feature_names_out(),\n",
    "                                   index=X_train.index)\n",
    "\n",
    "X_test_transformed = pd.DataFrame(data=X_test_imputed, \n",
    "                                  columns=num_transformer.get_feature_names_out(),\n",
    "                                  index=X_test.index)"
   ]
  },
  {
   "cell_type": "code",
   "execution_count": 82,
   "id": "7c7f0c04",
   "metadata": {},
   "outputs": [
    {
     "data": {
      "text/html": [
       "<div>\n",
       "<style scoped>\n",
       "    .dataframe tbody tr th:only-of-type {\n",
       "        vertical-align: middle;\n",
       "    }\n",
       "\n",
       "    .dataframe tbody tr th {\n",
       "        vertical-align: top;\n",
       "    }\n",
       "\n",
       "    .dataframe thead th {\n",
       "        text-align: right;\n",
       "    }\n",
       "</style>\n",
       "<table border=\"1\" class=\"dataframe\">\n",
       "  <thead>\n",
       "    <tr style=\"text-align: right;\">\n",
       "      <th></th>\n",
       "      <th>gender</th>\n",
       "      <th>married</th>\n",
       "      <th>dependents</th>\n",
       "      <th>education</th>\n",
       "      <th>self_employed</th>\n",
       "      <th>loan_amount_term</th>\n",
       "      <th>credit_history</th>\n",
       "      <th>property_area_rural</th>\n",
       "      <th>property_area_urban</th>\n",
       "      <th>property_area_semiurban</th>\n",
       "      <th>missingindicator_gender</th>\n",
       "      <th>missingindicator_married</th>\n",
       "      <th>missingindicator_dependents</th>\n",
       "      <th>missingindicator_self_employed</th>\n",
       "      <th>missingindicator_loan_amount_term</th>\n",
       "      <th>missingindicator_credit_history</th>\n",
       "      <th>applicant_income</th>\n",
       "      <th>coapplicant_income</th>\n",
       "      <th>loan_amount</th>\n",
       "      <th>missingindicator_loan_amount</th>\n",
       "    </tr>\n",
       "  </thead>\n",
       "  <tbody>\n",
       "    <tr>\n",
       "      <th>364</th>\n",
       "      <td>1.0</td>\n",
       "      <td>0.0</td>\n",
       "      <td>0.0</td>\n",
       "      <td>1.0</td>\n",
       "      <td>1.0</td>\n",
       "      <td>360.0</td>\n",
       "      <td>1.0</td>\n",
       "      <td>1.0</td>\n",
       "      <td>0.0</td>\n",
       "      <td>0.0</td>\n",
       "      <td>0.0</td>\n",
       "      <td>0.0</td>\n",
       "      <td>0.0</td>\n",
       "      <td>0.0</td>\n",
       "      <td>0.0</td>\n",
       "      <td>0.0</td>\n",
       "      <td>6822.0</td>\n",
       "      <td>0.0</td>\n",
       "      <td>141.0</td>\n",
       "      <td>0.0</td>\n",
       "    </tr>\n",
       "    <tr>\n",
       "      <th>112</th>\n",
       "      <td>1.0</td>\n",
       "      <td>1.0</td>\n",
       "      <td>0.0</td>\n",
       "      <td>0.0</td>\n",
       "      <td>0.0</td>\n",
       "      <td>360.0</td>\n",
       "      <td>0.0</td>\n",
       "      <td>1.0</td>\n",
       "      <td>0.0</td>\n",
       "      <td>0.0</td>\n",
       "      <td>0.0</td>\n",
       "      <td>0.0</td>\n",
       "      <td>0.0</td>\n",
       "      <td>0.0</td>\n",
       "      <td>1.0</td>\n",
       "      <td>0.0</td>\n",
       "      <td>3572.0</td>\n",
       "      <td>4114.0</td>\n",
       "      <td>152.0</td>\n",
       "      <td>0.0</td>\n",
       "    </tr>\n",
       "    <tr>\n",
       "      <th>260</th>\n",
       "      <td>1.0</td>\n",
       "      <td>1.0</td>\n",
       "      <td>1.0</td>\n",
       "      <td>1.0</td>\n",
       "      <td>0.0</td>\n",
       "      <td>360.0</td>\n",
       "      <td>1.0</td>\n",
       "      <td>0.0</td>\n",
       "      <td>1.0</td>\n",
       "      <td>0.0</td>\n",
       "      <td>0.0</td>\n",
       "      <td>0.0</td>\n",
       "      <td>0.0</td>\n",
       "      <td>0.0</td>\n",
       "      <td>0.0</td>\n",
       "      <td>1.0</td>\n",
       "      <td>6083.0</td>\n",
       "      <td>4250.0</td>\n",
       "      <td>330.0</td>\n",
       "      <td>0.0</td>\n",
       "    </tr>\n",
       "    <tr>\n",
       "      <th>139</th>\n",
       "      <td>1.0</td>\n",
       "      <td>1.0</td>\n",
       "      <td>2.0</td>\n",
       "      <td>0.0</td>\n",
       "      <td>0.0</td>\n",
       "      <td>360.0</td>\n",
       "      <td>1.0</td>\n",
       "      <td>1.0</td>\n",
       "      <td>0.0</td>\n",
       "      <td>0.0</td>\n",
       "      <td>0.0</td>\n",
       "      <td>0.0</td>\n",
       "      <td>0.0</td>\n",
       "      <td>0.0</td>\n",
       "      <td>0.0</td>\n",
       "      <td>0.0</td>\n",
       "      <td>4200.0</td>\n",
       "      <td>1430.0</td>\n",
       "      <td>129.0</td>\n",
       "      <td>0.0</td>\n",
       "    </tr>\n",
       "    <tr>\n",
       "      <th>186</th>\n",
       "      <td>1.0</td>\n",
       "      <td>1.0</td>\n",
       "      <td>1.0</td>\n",
       "      <td>1.0</td>\n",
       "      <td>1.0</td>\n",
       "      <td>300.0</td>\n",
       "      <td>0.0</td>\n",
       "      <td>1.0</td>\n",
       "      <td>0.0</td>\n",
       "      <td>0.0</td>\n",
       "      <td>0.0</td>\n",
       "      <td>0.0</td>\n",
       "      <td>0.0</td>\n",
       "      <td>0.0</td>\n",
       "      <td>0.0</td>\n",
       "      <td>0.0</td>\n",
       "      <td>2178.0</td>\n",
       "      <td>0.0</td>\n",
       "      <td>66.0</td>\n",
       "      <td>0.0</td>\n",
       "    </tr>\n",
       "  </tbody>\n",
       "</table>\n",
       "</div>"
      ],
      "text/plain": [
       "     gender  married  dependents  education  self_employed  loan_amount_term  \\\n",
       "364     1.0      0.0         0.0        1.0            1.0             360.0   \n",
       "112     1.0      1.0         0.0        0.0            0.0             360.0   \n",
       "260     1.0      1.0         1.0        1.0            0.0             360.0   \n",
       "139     1.0      1.0         2.0        0.0            0.0             360.0   \n",
       "186     1.0      1.0         1.0        1.0            1.0             300.0   \n",
       "\n",
       "     credit_history  property_area_rural  property_area_urban  \\\n",
       "364             1.0                  1.0                  0.0   \n",
       "112             0.0                  1.0                  0.0   \n",
       "260             1.0                  0.0                  1.0   \n",
       "139             1.0                  1.0                  0.0   \n",
       "186             0.0                  1.0                  0.0   \n",
       "\n",
       "     property_area_semiurban  missingindicator_gender  \\\n",
       "364                      0.0                      0.0   \n",
       "112                      0.0                      0.0   \n",
       "260                      0.0                      0.0   \n",
       "139                      0.0                      0.0   \n",
       "186                      0.0                      0.0   \n",
       "\n",
       "     missingindicator_married  missingindicator_dependents  \\\n",
       "364                       0.0                          0.0   \n",
       "112                       0.0                          0.0   \n",
       "260                       0.0                          0.0   \n",
       "139                       0.0                          0.0   \n",
       "186                       0.0                          0.0   \n",
       "\n",
       "     missingindicator_self_employed  missingindicator_loan_amount_term  \\\n",
       "364                             0.0                                0.0   \n",
       "112                             0.0                                1.0   \n",
       "260                             0.0                                0.0   \n",
       "139                             0.0                                0.0   \n",
       "186                             0.0                                0.0   \n",
       "\n",
       "     missingindicator_credit_history  applicant_income  coapplicant_income  \\\n",
       "364                              0.0            6822.0                 0.0   \n",
       "112                              0.0            3572.0              4114.0   \n",
       "260                              1.0            6083.0              4250.0   \n",
       "139                              0.0            4200.0              1430.0   \n",
       "186                              0.0            2178.0                 0.0   \n",
       "\n",
       "     loan_amount  missingindicator_loan_amount  \n",
       "364        141.0                           0.0  \n",
       "112        152.0                           0.0  \n",
       "260        330.0                           0.0  \n",
       "139        129.0                           0.0  \n",
       "186         66.0                           0.0  "
      ]
     },
     "execution_count": 82,
     "metadata": {},
     "output_type": "execute_result"
    }
   ],
   "source": [
    "X_train_transformed.head()"
   ]
  },
  {
   "cell_type": "code",
   "execution_count": 83,
   "id": "c11e5be8",
   "metadata": {},
   "outputs": [
    {
     "data": {
      "text/html": [
       "<div>\n",
       "<style scoped>\n",
       "    .dataframe tbody tr th:only-of-type {\n",
       "        vertical-align: middle;\n",
       "    }\n",
       "\n",
       "    .dataframe tbody tr th {\n",
       "        vertical-align: top;\n",
       "    }\n",
       "\n",
       "    .dataframe thead th {\n",
       "        text-align: right;\n",
       "    }\n",
       "</style>\n",
       "<table border=\"1\" class=\"dataframe\">\n",
       "  <thead>\n",
       "    <tr style=\"text-align: right;\">\n",
       "      <th></th>\n",
       "      <th>gender</th>\n",
       "      <th>married</th>\n",
       "      <th>dependents</th>\n",
       "      <th>education</th>\n",
       "      <th>self_employed</th>\n",
       "      <th>loan_amount_term</th>\n",
       "      <th>credit_history</th>\n",
       "      <th>property_area_rural</th>\n",
       "      <th>property_area_urban</th>\n",
       "      <th>property_area_semiurban</th>\n",
       "      <th>missingindicator_gender</th>\n",
       "      <th>missingindicator_married</th>\n",
       "      <th>missingindicator_dependents</th>\n",
       "      <th>missingindicator_self_employed</th>\n",
       "      <th>missingindicator_loan_amount_term</th>\n",
       "      <th>missingindicator_credit_history</th>\n",
       "      <th>applicant_income</th>\n",
       "      <th>coapplicant_income</th>\n",
       "      <th>loan_amount</th>\n",
       "      <th>missingindicator_loan_amount</th>\n",
       "    </tr>\n",
       "  </thead>\n",
       "  <tbody>\n",
       "    <tr>\n",
       "      <th>451</th>\n",
       "      <td>1.0</td>\n",
       "      <td>1.0</td>\n",
       "      <td>2.0</td>\n",
       "      <td>0.0</td>\n",
       "      <td>0.0</td>\n",
       "      <td>300.0</td>\n",
       "      <td>1.0</td>\n",
       "      <td>0.0</td>\n",
       "      <td>1.0</td>\n",
       "      <td>0.0</td>\n",
       "      <td>0.0</td>\n",
       "      <td>0.0</td>\n",
       "      <td>0.0</td>\n",
       "      <td>0.0</td>\n",
       "      <td>0.0</td>\n",
       "      <td>1.0</td>\n",
       "      <td>1958.0</td>\n",
       "      <td>1456.0</td>\n",
       "      <td>60.0</td>\n",
       "      <td>0.0</td>\n",
       "    </tr>\n",
       "    <tr>\n",
       "      <th>323</th>\n",
       "      <td>0.0</td>\n",
       "      <td>0.0</td>\n",
       "      <td>0.0</td>\n",
       "      <td>1.0</td>\n",
       "      <td>0.0</td>\n",
       "      <td>360.0</td>\n",
       "      <td>1.0</td>\n",
       "      <td>1.0</td>\n",
       "      <td>0.0</td>\n",
       "      <td>0.0</td>\n",
       "      <td>0.0</td>\n",
       "      <td>0.0</td>\n",
       "      <td>0.0</td>\n",
       "      <td>0.0</td>\n",
       "      <td>0.0</td>\n",
       "      <td>1.0</td>\n",
       "      <td>3166.0</td>\n",
       "      <td>2985.0</td>\n",
       "      <td>132.0</td>\n",
       "      <td>0.0</td>\n",
       "    </tr>\n",
       "    <tr>\n",
       "      <th>330</th>\n",
       "      <td>1.0</td>\n",
       "      <td>0.0</td>\n",
       "      <td>1.0</td>\n",
       "      <td>1.0</td>\n",
       "      <td>0.0</td>\n",
       "      <td>360.0</td>\n",
       "      <td>1.0</td>\n",
       "      <td>0.0</td>\n",
       "      <td>1.0</td>\n",
       "      <td>0.0</td>\n",
       "      <td>0.0</td>\n",
       "      <td>0.0</td>\n",
       "      <td>0.0</td>\n",
       "      <td>0.0</td>\n",
       "      <td>0.0</td>\n",
       "      <td>0.0</td>\n",
       "      <td>4384.0</td>\n",
       "      <td>1793.0</td>\n",
       "      <td>117.0</td>\n",
       "      <td>0.0</td>\n",
       "    </tr>\n",
       "    <tr>\n",
       "      <th>414</th>\n",
       "      <td>0.0</td>\n",
       "      <td>1.0</td>\n",
       "      <td>0.0</td>\n",
       "      <td>0.0</td>\n",
       "      <td>0.0</td>\n",
       "      <td>360.0</td>\n",
       "      <td>0.0</td>\n",
       "      <td>0.0</td>\n",
       "      <td>0.0</td>\n",
       "      <td>1.0</td>\n",
       "      <td>0.0</td>\n",
       "      <td>0.0</td>\n",
       "      <td>0.0</td>\n",
       "      <td>0.0</td>\n",
       "      <td>0.0</td>\n",
       "      <td>0.0</td>\n",
       "      <td>2149.0</td>\n",
       "      <td>3237.0</td>\n",
       "      <td>178.0</td>\n",
       "      <td>0.0</td>\n",
       "    </tr>\n",
       "    <tr>\n",
       "      <th>530</th>\n",
       "      <td>1.0</td>\n",
       "      <td>1.0</td>\n",
       "      <td>0.0</td>\n",
       "      <td>1.0</td>\n",
       "      <td>0.0</td>\n",
       "      <td>360.0</td>\n",
       "      <td>1.0</td>\n",
       "      <td>1.0</td>\n",
       "      <td>0.0</td>\n",
       "      <td>0.0</td>\n",
       "      <td>0.0</td>\n",
       "      <td>0.0</td>\n",
       "      <td>0.0</td>\n",
       "      <td>0.0</td>\n",
       "      <td>0.0</td>\n",
       "      <td>1.0</td>\n",
       "      <td>1025.0</td>\n",
       "      <td>5500.0</td>\n",
       "      <td>216.0</td>\n",
       "      <td>0.0</td>\n",
       "    </tr>\n",
       "  </tbody>\n",
       "</table>\n",
       "</div>"
      ],
      "text/plain": [
       "     gender  married  dependents  education  self_employed  loan_amount_term  \\\n",
       "451     1.0      1.0         2.0        0.0            0.0             300.0   \n",
       "323     0.0      0.0         0.0        1.0            0.0             360.0   \n",
       "330     1.0      0.0         1.0        1.0            0.0             360.0   \n",
       "414     0.0      1.0         0.0        0.0            0.0             360.0   \n",
       "530     1.0      1.0         0.0        1.0            0.0             360.0   \n",
       "\n",
       "     credit_history  property_area_rural  property_area_urban  \\\n",
       "451             1.0                  0.0                  1.0   \n",
       "323             1.0                  1.0                  0.0   \n",
       "330             1.0                  0.0                  1.0   \n",
       "414             0.0                  0.0                  0.0   \n",
       "530             1.0                  1.0                  0.0   \n",
       "\n",
       "     property_area_semiurban  missingindicator_gender  \\\n",
       "451                      0.0                      0.0   \n",
       "323                      0.0                      0.0   \n",
       "330                      0.0                      0.0   \n",
       "414                      1.0                      0.0   \n",
       "530                      0.0                      0.0   \n",
       "\n",
       "     missingindicator_married  missingindicator_dependents  \\\n",
       "451                       0.0                          0.0   \n",
       "323                       0.0                          0.0   \n",
       "330                       0.0                          0.0   \n",
       "414                       0.0                          0.0   \n",
       "530                       0.0                          0.0   \n",
       "\n",
       "     missingindicator_self_employed  missingindicator_loan_amount_term  \\\n",
       "451                             0.0                                0.0   \n",
       "323                             0.0                                0.0   \n",
       "330                             0.0                                0.0   \n",
       "414                             0.0                                0.0   \n",
       "530                             0.0                                0.0   \n",
       "\n",
       "     missingindicator_credit_history  applicant_income  coapplicant_income  \\\n",
       "451                              1.0            1958.0              1456.0   \n",
       "323                              1.0            3166.0              2985.0   \n",
       "330                              0.0            4384.0              1793.0   \n",
       "414                              0.0            2149.0              3237.0   \n",
       "530                              1.0            1025.0              5500.0   \n",
       "\n",
       "     loan_amount  missingindicator_loan_amount  \n",
       "451         60.0                           0.0  \n",
       "323        132.0                           0.0  \n",
       "330        117.0                           0.0  \n",
       "414        178.0                           0.0  \n",
       "530        216.0                           0.0  "
      ]
     },
     "execution_count": 83,
     "metadata": {},
     "output_type": "execute_result"
    }
   ],
   "source": [
    "X_test_transformed.head()"
   ]
  },
  {
   "cell_type": "code",
   "execution_count": 84,
   "id": "e72ac38d",
   "metadata": {},
   "outputs": [
    {
     "data": {
      "text/plain": [
       "(0.6865942028985508, 0.6935483870967742)"
      ]
     },
     "execution_count": 84,
     "metadata": {},
     "output_type": "execute_result"
    }
   ],
   "source": [
    "# Comparing percentage of cre\n",
    "y_train.mean(), y_test.mean()"
   ]
  },
  {
   "cell_type": "code",
   "execution_count": 85,
   "id": "309c3f08",
   "metadata": {},
   "outputs": [],
   "source": [
    "# Define the parameter grid for DecisionTreeClassifier hyperparameters\n",
    "d_param_grid = {\n",
    "    'max_features': [None, 'sqrt', 'log2'],\n",
    "    'max_depth': [4, 5, 6, 7, 8, 10, 20],\n",
    "    'min_samples_leaf': [1, 3, 5, 8, 10, 12, 15],\n",
    "    'min_samples_split': [2, 6, 10, 16, 20, 24, 30],\n",
    "    'criterion': ['gini', 'entropy'],\n",
    "    'random_state': [1], \n",
    "    'class_weight': ['balanced']\n",
    "}\n",
    "\n",
    "# Instantiate a DecisionTreeClassifier\n",
    "d_clf = DecisionTreeClassifier()"
   ]
  },
  {
   "cell_type": "code",
   "execution_count": 86,
   "id": "a7f38b74",
   "metadata": {},
   "outputs": [],
   "source": [
    "def train_custom_classifier(X_train, y_train, X_test, y_test, clf, params):\n",
    "    \"\"\"\n",
    "    Function to train the decision tree classifier and return some metrics\n",
    "    \n",
    "    Parameters:\n",
    "    X_train: Training data features\n",
    "    y_train: Training data labels\n",
    "    X_test: Testing data features\n",
    "    y_test: Testing data labels\n",
    "    clf: Classifier object\n",
    "    params: Parameters for the classifier\n",
    "    \n",
    "    Returns:\n",
    "    model: Trained classifier model\n",
    "    testing_predictions: Predictions on the testing data\n",
    "    training_roc_auc: ROC AUC score on the training data\n",
    "    testing_roc_auc: ROC AUC score on the testing data\n",
    "    training_acc: Accuracy score on the training data\n",
    "    testing_acc: Accuracy score on the testing data\n",
    "    \"\"\"\n",
    "\n",
    "    # Perform GridSearchCV to find the best hyperparameters\n",
    "    d_clf_cv = GridSearchCV(estimator=d_clf, param_grid=d_param_grid, cv=10, scoring='roc_auc')\n",
    "    d_clf_cv.fit(X_train, y_train)\n",
    "\n",
    "    print(\"Decision tree optimized\")\n",
    "\n",
    "    # Get the best hyperparameters\n",
    "    d_best_params = d_clf_cv.best_params_\n",
    "\n",
    "    print(f\"Getting the best params which are {d_best_params}\")\n",
    "\n",
    "    # Create a model with the best parameters and fit it on the training data\n",
    "    model = DecisionTreeClassifier(**d_best_params)\n",
    "    model.fit(X_train, y_train)\n",
    "\n",
    "    # Get predicted probabilities for training and testing data\n",
    "    training_predictions_prob = model.predict_proba(X_train)\n",
    "    testing_predictions_prob = model.predict_proba(X_test)\n",
    "\n",
    "    # Get predicted labels for training and testing data\n",
    "    training_predictions = model.predict(X_train)\n",
    "    testing_predictions = model.predict(X_test)\n",
    "\n",
    "    # Calculate ROC AUC scores and accuracy scores\n",
    "    training_roc_auc = roc_auc_score(y_train, training_predictions_prob[:,1])\n",
    "    testing_roc_auc = roc_auc_score(y_test, testing_predictions_prob[:,1])\n",
    "\n",
    "    training_acc = accuracy_score(y_train, training_predictions)\n",
    "    testing_acc = accuracy_score(y_test, testing_predictions)\n",
    "\n",
    "    print(f\"Training roc is {training_roc_auc}, and testing roc is {testing_roc_auc} \\n \\\n",
    "            training accuracy is {training_acc}, testing_acc as {testing_acc}\")\n",
    "    \n",
    "    return model, testing_predictions, training_roc_auc, testing_roc_auc, training_acc, testing_acc"
   ]
  },
  {
   "cell_type": "code",
   "execution_count": 87,
   "id": "e2802521",
   "metadata": {},
   "outputs": [
    {
     "name": "stdout",
     "output_type": "stream",
     "text": [
      "Decision tree optimized\n",
      "Getting the best params which are {'class_weight': 'balanced', 'criterion': 'entropy', 'max_depth': 8, 'max_features': None, 'min_samples_leaf': 1, 'min_samples_split': 30, 'random_state': 1}\n",
      "Training roc is 0.8763326063416048, and testing roc is 0.7858017135862914 \n",
      "             training accuracy is 0.8152173913043478, testing_acc as 0.7903225806451613\n"
     ]
    }
   ],
   "source": [
    "# Train a custom classifier using the specified parameters and data\n",
    "model, test_predictions, train_roc, test_roc, train_acc, test_acc = train_custom_classifier(\n",
    "    X_train=X_train_transformed, \n",
    "    y_train=y_train, \n",
    "    X_test=X_test_transformed, \n",
    "    y_test=y_test, \n",
    "    clf=d_clf, \n",
    "    params=d_param_grid\n",
    ")"
   ]
  },
  {
   "cell_type": "code",
   "execution_count": 88,
   "id": "3f9ed986",
   "metadata": {},
   "outputs": [
    {
     "data": {
      "text/plain": [
       "<sklearn.metrics._plot.confusion_matrix.ConfusionMatrixDisplay at 0x138b82ac0>"
      ]
     },
     "execution_count": 88,
     "metadata": {},
     "output_type": "execute_result"
    },
    {
     "data": {
      "image/png": "[encoded data removed]",
      "text/plain": [
       "<Figure size 640x480 with 2 Axes>"
      ]
     },
     "metadata": {},
     "output_type": "display_data"
    }
   ],
   "source": [
    "# Displaying confusion matrix\n",
    "cm = confusion_matrix(y_test, test_predictions, labels=model.classes_, normalize='true')\n",
    "disp = ConfusionMatrixDisplay(confusion_matrix=cm, display_labels=model.classes_)\n",
    "disp.plot()"
   ]
  },
  {
   "cell_type": "code",
   "execution_count": 89,
   "id": "85e1edee",
   "metadata": {},
   "outputs": [],
   "source": [
    "# Define a pipeline for one-hot encoding categorical variables\n",
    "cat_transformer = Pipeline(\n",
    "    steps=[\n",
    "        (\"one_hot_encoding\", \n",
    "         OneHotEncoder(variables=ohe_cols)\n",
    "        )\n",
    "    ]\n",
    ")\n",
    "\n",
    "# Define a pipeline for imputing missing values with median and adding indicator columns\n",
    "impute_transformer = Pipeline(\n",
    "    steps=[\n",
    "        (\"simple_imputer\", \n",
    "         SimpleImputer(strategy='median',\n",
    "                       add_indicator=True)\n",
    "        )\n",
    "    ]\n",
    ")\n",
    "\n",
    "# Apply one-hot encoding to training and testing data\n",
    "X_train_ohe = cat_transformer.fit_transform(X_train)\n",
    "X_test_ohe = cat_transformer.transform(X_test)\n",
    "\n",
    "# Impute missing values and add indicator columns to training and testing data\n",
    "X_train_imputed = impute_transformer.fit_transform(X_train_ohe)\n",
    "X_test_imputed = impute_transformer.transform(X_test_ohe)\n",
    "\n",
    "# Create DataFrames from the transformed data with appropriate column names and indices\n",
    "X_train_transformed = pd.DataFrame(data=X_train_imputed, \n",
    "                                   columns=impute_transformer.get_feature_names_out(),\n",
    "                                   index=X_train.index)\n",
    "\n",
    "X_test_transformed = pd.DataFrame(data=X_test_imputed, \n",
    "                                  columns=impute_transformer.get_feature_names_out(),\n",
    "                                  index=X_test.index)"
   ]
  },
  {
   "cell_type": "code",
   "execution_count": 90,
   "id": "e2be38a7",
   "metadata": {},
   "outputs": [
    {
     "name": "stdout",
     "output_type": "stream",
     "text": [
      "Decision tree optimized\n",
      "Getting the best params which are {'class_weight': 'balanced', 'criterion': 'entropy', 'max_depth': 10, 'max_features': None, 'min_samples_leaf': 5, 'min_samples_split': 16, 'random_state': 1}\n",
      "Training roc is 0.9018942455808563, and testing roc is 0.7270501835985312 \n",
      "             training accuracy is 0.7771739130434783, testing_acc as 0.6612903225806451\n"
     ]
    }
   ],
   "source": [
    "# Train a custom classifier using the specified training and testing data, classifier, and parameter grid\n",
    "model, test_predictions, train_roc, test_roc, train_acc, test_acc = train_custom_classifier(\n",
    "    X_train=X_train_transformed, \n",
    "    y_train=y_train, \n",
    "    X_test=X_test_transformed, \n",
    "    y_test=y_test, \n",
    "    clf=d_clf, \n",
    "    params=d_param_grid\n",
    ")"
   ]
  },
  {
   "cell_type": "code",
   "execution_count": 91,
   "id": "f107e10d",
   "metadata": {},
   "outputs": [
    {
     "data": {
      "text/plain": [
       "<sklearn.metrics._plot.confusion_matrix.ConfusionMatrixDisplay at 0x13433d550>"
      ]
     },
     "execution_count": 91,
     "metadata": {},
     "output_type": "execute_result"
    },
    {
     "data": {
      "image/png": "[encoded data removed]",
      "text/plain": [
       "<Figure size 640x480 with 2 Axes>"
      ]
     },
     "metadata": {},
     "output_type": "display_data"
    }
   ],
   "source": [
    "# Confusion matrix\n",
    "cm = confusion_matrix(y_test, test_predictions, labels=model.classes_, normalize='true')\n",
    "disp = ConfusionMatrixDisplay(confusion_matrix=cm, display_labels=model.classes_)\n",
    "disp.plot()"
   ]
  },
  {
   "cell_type": "code",
   "execution_count": 92,
   "id": "b4953b0e",
   "metadata": {},
   "outputs": [
    {
     "data": {
      "text/plain": [
       "array([0.1, 0.2, 0.3, 0.4, 0.5, 0.6, 0.7, 0.8, 0.9, 1. ])"
      ]
     },
     "execution_count": 92,
     "metadata": {},
     "output_type": "execute_result"
    }
   ],
   "source": [
    "# Generate an array of data cutoff points using linspace function\n",
    "data_cutoff_points = np.linspace(start=0.1, stop=1, num=10)\n",
    "\n",
    "# Display the data cutoff points array\n",
    "data_cutoff_points"
   ]
  },
  {
   "cell_type": "code",
   "execution_count": 93,
   "id": "51bc5f9b",
   "metadata": {},
   "outputs": [
    {
     "name": "stdout",
     "output_type": "stream",
     "text": [
      "Model will be trained on 55 rows out of 552\n",
      "Decision tree optimized\n",
      "Getting the best params which are {'class_weight': 'balanced', 'criterion': 'entropy', 'max_depth': 6, 'max_features': 'sqrt', 'min_samples_leaf': 1, 'min_samples_split': 6, 'random_state': 1}\n",
      "Training roc is 0.9094427244582044, and testing roc is 0.5917992656058751 \n",
      "             training accuracy is 0.7454545454545455, testing_acc as 0.5806451612903226\n",
      "Model will be trained on 110 rows out of 552\n",
      "Decision tree optimized\n",
      "Getting the best params which are {'class_weight': 'balanced', 'criterion': 'entropy', 'max_depth': 6, 'max_features': None, 'min_samples_leaf': 1, 'min_samples_split': 20, 'random_state': 1}\n",
      "Training roc is 0.901702786377709, and testing roc is 0.7552019583843328 \n",
      "             training accuracy is 0.7272727272727273, testing_acc as 0.6290322580645161\n",
      "Model will be trained on 165 rows out of 552\n",
      "Decision tree optimized\n",
      "Getting the best params which are {'class_weight': 'balanced', 'criterion': 'gini', 'max_depth': 10, 'max_features': None, 'min_samples_leaf': 1, 'min_samples_split': 30, 'random_state': 1}\n",
      "Training roc is 0.8986555479918311, and testing roc is 0.7099143206854346 \n",
      "             training accuracy is 0.7696969696969697, testing_acc as 0.5967741935483871\n",
      "Model will be trained on 220 rows out of 552\n",
      "Decision tree optimized\n",
      "Getting the best params which are {'class_weight': 'balanced', 'criterion': 'gini', 'max_depth': 4, 'max_features': None, 'min_samples_leaf': 3, 'min_samples_split': 2, 'random_state': 1}\n",
      "Training roc is 0.8207601497264613, and testing roc is 0.8084455324357405 \n",
      "             training accuracy is 0.8318181818181818, testing_acc as 0.8064516129032258\n",
      "Model will be trained on 276 rows out of 552\n",
      "Decision tree optimized\n",
      "Getting the best params which are {'class_weight': 'balanced', 'criterion': 'entropy', 'max_depth': 5, 'max_features': None, 'min_samples_leaf': 5, 'min_samples_split': 30, 'random_state': 1}\n",
      "Training roc is 0.8728942407103326, and testing roc is 0.7906976744186047 \n",
      "             training accuracy is 0.822463768115942, testing_acc as 0.7419354838709677\n",
      "Model will be trained on 331 rows out of 552\n",
      "Decision tree optimized\n",
      "Getting the best params which are {'class_weight': 'balanced', 'criterion': 'gini', 'max_depth': 8, 'max_features': None, 'min_samples_leaf': 5, 'min_samples_split': 16, 'random_state': 1}\n",
      "Training roc is 0.9344501863774991, and testing roc is 0.7753977968176254 \n",
      "             training accuracy is 0.8368580060422961, testing_acc as 0.7419354838709677\n",
      "Model will be trained on 386 rows out of 552\n",
      "Decision tree optimized\n",
      "Getting the best params which are {'class_weight': 'balanced', 'criterion': 'gini', 'max_depth': 10, 'max_features': None, 'min_samples_leaf': 10, 'min_samples_split': 24, 'random_state': 1}\n",
      "Training roc is 0.8977545610478714, and testing roc is 0.7197062423500612 \n",
      "             training accuracy is 0.7849740932642487, testing_acc as 0.6612903225806451\n",
      "Model will be trained on 441 rows out of 552\n",
      "Decision tree optimized\n",
      "Getting the best params which are {'class_weight': 'balanced', 'criterion': 'gini', 'max_depth': 7, 'max_features': None, 'min_samples_leaf': 8, 'min_samples_split': 24, 'random_state': 1}\n",
      "Training roc is 0.8910412780408475, and testing roc is 0.7613219094247246 \n",
      "             training accuracy is 0.8095238095238095, testing_acc as 0.7419354838709677\n",
      "Model will be trained on 496 rows out of 552\n",
      "Decision tree optimized\n",
      "Getting the best params which are {'class_weight': 'balanced', 'criterion': 'entropy', 'max_depth': 8, 'max_features': None, 'min_samples_leaf': 5, 'min_samples_split': 30, 'random_state': 1}\n",
      "Training roc is 0.89052123734746, and testing roc is 0.7558139534883721 \n",
      "             training accuracy is 0.8185483870967742, testing_acc as 0.7741935483870968\n",
      "Model will be trained on 552 rows out of 552\n",
      "Decision tree optimized\n",
      "Getting the best params which are {'class_weight': 'balanced', 'criterion': 'entropy', 'max_depth': 8, 'max_features': None, 'min_samples_leaf': 1, 'min_samples_split': 30, 'random_state': 1}\n",
      "Training roc is 0.8763326063416048, and testing roc is 0.7858017135862914 \n",
      "             training accuracy is 0.8152173913043478, testing_acc as 0.7903225806451613\n"
     ]
    }
   ],
   "source": [
    "# Initialize an empty list to store scores\n",
    "scores = []\n",
    "\n",
    "# Iterate through each cutoff point in the data_cutoff_points array\n",
    "for cutoff in data_cutoff_points:\n",
    "    # Split the training data based on the cutoff value\n",
    "    if cutoff < 1.0:\n",
    "        X_train_subset, X_train_rem, y_train_subset, y_train_rem = train_test_split(X_train, \n",
    "                                                                                y_train, \n",
    "                                                                                random_state=1, \n",
    "                                                                                train_size=cutoff, \n",
    "                                                                                stratify=y_train)\n",
    "    else:\n",
    "        X_train_subset = X_train.copy()\n",
    "        y_train_subset = y_train.copy()\n",
    "    \n",
    "    # Display the number of rows the model will be trained on\n",
    "    print(f\"Model will be trained on {X_train_subset.shape[0]} rows out of {X_train.shape[0]}\")\n",
    "    \n",
    "    # Apply missing forest imputation for categorical and numerical features\n",
    "    cat_transformer = miss_forest_categorical_transformer()\n",
    "    num_transformer = miss_forest_numerical_transformer()\n",
    "    \n",
    "    X_train_cat_imputed = cat_transformer.fit_transform(X_train_subset[cat_cols])\n",
    "    X_test_cat_imputed = cat_transformer.transform(X_test[cat_cols])\n",
    "\n",
    "    X_train_cat_imputed_df = pd.DataFrame(data=X_train_cat_imputed, \n",
    "                                          columns=cat_transformer.get_feature_names_out(),\n",
    "                                          index=X_train_subset.index)\n",
    "\n",
    "    X_test_cat_imputed_df = pd.DataFrame(data=X_test_cat_imputed, \n",
    "                                         columns=cat_transformer.get_feature_names_out(),\n",
    "                                         index=X_test.index)\n",
    "\n",
    "    X_train_cat_imputed_df = pd.concat([X_train_cat_imputed_df, X_train_subset[num_cols]], axis=1)\n",
    "    X_test_cat_imputed_df = pd.concat([X_test_cat_imputed_df, X_test[num_cols]], axis=1)\n",
    "\n",
    "    X_train_imputed = num_transformer.fit_transform(X_train_cat_imputed_df)\n",
    "    X_test_imputed = num_transformer.transform(X_test_cat_imputed_df)\n",
    "\n",
    "    X_train_transformed = pd.DataFrame(data=X_train_imputed, \n",
    "                                       columns=num_transformer.get_feature_names_out(),\n",
    "                                       index=X_train_subset.index)\n",
    "\n",
    "    X_test_transformed = pd.DataFrame(data=X_test_imputed, \n",
    "                                      columns=num_transformer.get_feature_names_out(),\n",
    "                                      index=X_test.index)\n",
    "    \n",
    "    # Train a custom classifier on the transformed data\n",
    "    model, test_predictions, train_roc, test_roc, train_acc, test_acc = train_custom_classifier(\n",
    "        X_train=X_train_transformed, \n",
    "        y_train=y_train_subset, \n",
    "        X_test=X_test_transformed, \n",
    "        y_test=y_test, \n",
    "        clf=d_clf, \n",
    "        params=d_param_grid)\n",
    "    \n",
    "    # Append the scores to the list\n",
    "    scores.append((cutoff, train_roc, test_roc, train_acc, test_acc))"
   ]
  },
  {
   "cell_type": "code",
   "execution_count": 94,
   "id": "293d3e56",
   "metadata": {},
   "outputs": [],
   "source": [
    "# Creating a dataframe to show error analysis results\n",
    "df = pd.DataFrame(data=scores, columns=['data_size', 'training_roc', 'testing_roc', \"training_acc\", \"testing_acc\"])"
   ]
  },
  {
   "cell_type": "code",
   "execution_count": 95,
   "id": "db3e044c",
   "metadata": {},
   "outputs": [
    {
     "data": {
      "text/plain": [
       "<matplotlib.legend.Legend at 0x138b1aac0>"
      ]
     },
     "execution_count": 95,
     "metadata": {},
     "output_type": "execute_result"
    },
    {
     "data": {
      "image/png": "[encoded data removed]",
      "text/plain": [
       "<Figure size 640x480 with 1 Axes>"
      ]
     },
     "metadata": {},
     "output_type": "display_data"
    }
   ],
   "source": [
    "# Plotting ROC for error analysis\n",
    "plt.plot(df.data_size, df.training_roc, label='training_roc')\n",
    "plt.plot(df.data_size, df.testing_roc, label='testing_roc')\n",
    "plt.xlabel(\"Data Size\")\n",
    "plt.ylabel(\"ROC\")\n",
    "plt.title(\"Error Analysis\")\n",
    "plt.legend()"
   ]
  },
  {
   "cell_type": "code",
   "execution_count": 96,
   "id": "53dc89be",
   "metadata": {},
   "outputs": [
    {
     "data": {
      "text/plain": [
       "<matplotlib.legend.Legend at 0x138bef9a0>"
      ]
     },
     "execution_count": 96,
     "metadata": {},
     "output_type": "execute_result"
    },
    {
     "data": {
      "image/png": "[encoded data removed]",
      "text/plain": [
       "<Figure size 640x480 with 1 Axes>"
      ]
     },
     "metadata": {},
     "output_type": "display_data"
    }
   ],
   "source": [
    "# Plotting Accuracy for error analysis\n",
    "plt.plot(df.data_size, df.training_acc, label='training_acc')\n",
    "plt.plot(df.data_size, df.testing_acc, label='testing_acc')\n",
    "plt.xlabel(\"Data Size\")\n",
    "plt.ylabel(\"Accuracy\")\n",
    "plt.title(\"Error Analysis\")\n",
    "plt.legend()"
   ]
  },
  {
   "cell_type": "code",
   "execution_count": 97,
   "id": "33f9e726",
   "metadata": {},
   "outputs": [],
   "source": [
    "# Define a list of income variables\n",
    "income_variables = ['applicant_income', 'coapplicant_income']\n",
    "\n",
    "# Define a list for the loan amount variable\n",
    "loan_variable = ['loan_amount']\n",
    "\n",
    "# Define a list for the loan term variable\n",
    "loan_term_variable = ['loan_amount_term']"
   ]
  },
  {
   "cell_type": "code",
   "execution_count": 98,
   "id": "9ae8c0a5",
   "metadata": {},
   "outputs": [],
   "source": [
    "# Importing libraries for feature engineering\n",
    "from feature_engine.creation.math_features import MathFeatures\n",
    "from feature_engine.creation.relative_features import RelativeFeatures\n",
    "from sklearn.base import BaseEstimator, TransformerMixin\n",
    "from feature_engine.selection import DropFeatures"
   ]
  },
  {
   "cell_type": "code",
   "execution_count": 99,
   "id": "cd3e45e8",
   "metadata": {},
   "outputs": [],
   "source": [
    "# Custom transformer that multiplies columns with a value\n",
    "class MultiplyColumns(BaseEstimator, TransformerMixin):\n",
    "    \"\"\"Custom pipeline class to multiply columns passed in a dataframe with a specified value\"\"\"\n",
    "    \n",
    "    def __init__(self, multiply_by=1, variables=None):\n",
    "        self.multiply_by = multiply_by  # Value to multiply the columns by\n",
    "        self.variables = variables  # List of columns to be multiplied\n",
    "    \n",
    "    def fit(self, X, y=None):\n",
    "        # Fit method, nothing to be done here\n",
    "        return self\n",
    "    \n",
    "    def transform(self, X, y=None):\n",
    "        # Transform method to multiply selected columns by the specified value\n",
    "        if self.variables:\n",
    "            X[self.variables] = X[self.variables] * self.multiply_by\n",
    "        return X"
   ]
  },
  {
   "cell_type": "code",
   "execution_count": 100,
   "id": "d58e2030",
   "metadata": {},
   "outputs": [],
   "source": [
    "# Define transformers for categorical and numerical missing value imputation\n",
    "cat_transformer = miss_forest_categorical_transformer()\n",
    "num_transformer = miss_forest_numerical_transformer()\n",
    "\n",
    "# Define a feature transformation pipeline\n",
    "feature_transformer = Pipeline(\n",
    "    steps=[\n",
    "        (\"multiply_by_thousand\",\n",
    "         MultiplyColumns(\n",
    "             multiply_by=1000,\n",
    "             variables=loan_variable\n",
    "         )\n",
    "        ),\n",
    "        (\"add_columns\",\n",
    "         MathFeatures(\n",
    "             variables=income_variables,\n",
    "             func='sum'\n",
    "         )   \n",
    "        ),\n",
    "        (\"income_to_loan_ratio\",\n",
    "         RelativeFeatures(variables=[f\"sum_{income_variables[0]}_{income_variables[1]}\"],\n",
    "                          reference=loan_variable,\n",
    "                          func=[\"div\"]\n",
    "                         )\n",
    "        ),\n",
    "        (\"emi\",\n",
    "         RelativeFeatures(variables=loan_variable,\n",
    "                          reference=loan_term_variable,\n",
    "                          func=[\"div\"])\n",
    "        ),\n",
    "        (\"drop_features\",\n",
    "         DropFeatures(features_to_drop=income_variables)\n",
    "        )\n",
    "    ]\n",
    ")\n",
    "\n",
    "# Transform categorical features in the training and test sets\n",
    "X_train_cat_imputed = cat_transformer.fit_transform(X_train[cat_cols])\n",
    "X_test_cat_imputed = cat_transformer.transform(X_test[cat_cols])\n",
    "\n",
    "# Create dataframes with transformed categorical features\n",
    "X_train_cat_imputed_df = pd.DataFrame(data=X_train_cat_imputed, \n",
    "                                      columns=cat_transformer.get_feature_names_out(),\n",
    "                                      index=X_train.index) \n",
    "\n",
    "X_test_cat_imputed_df = pd.DataFrame(data=X_test_cat_imputed, \n",
    "                                     columns=cat_transformer.get_feature_names_out(),\n",
    "                                     index=X_test.index)\n",
    "\n",
    "# Concatenate numerical features with transformed categorical features\n",
    "X_train_cat_imputed_df = pd.concat([X_train_cat_imputed_df, X_train[num_cols]], axis=1)\n",
    "X_test_cat_imputed_df = pd.concat([X_test_cat_imputed_df, X_test[num_cols]], axis=1)\n",
    "\n",
    "# Impute missing values in numerical features for training and test sets\n",
    "X_train_imputed = num_transformer.fit_transform(X_train_cat_imputed_df)\n",
    "X_test_imputed = num_transformer.transform(X_test_cat_imputed_df)\n",
    "\n",
    "# Create dataframes with imputed numerical features\n",
    "X_train_imputed_df = pd.DataFrame(data=X_train_imputed, \n",
    "                                   columns=num_transformer.get_feature_names_out(),\n",
    "                                   index=X_train.index)\n",
    "\n",
    "X_test_imputed_df = pd.DataFrame(data=X_test_imputed, \n",
    "                                  columns=num_transformer.get_feature_names_out(),\n",
    "                                  index=X_test.index)\n",
    "\n",
    "# Transform features using the defined feature transformation pipeline\n",
    "X_train_transformed = feature_transformer.fit_transform(X_train_imputed_df)\n",
    "X_test_transformed = feature_transformer.transform(X_test_imputed_df)"
   ]
  },
  {
   "cell_type": "code",
   "execution_count": 101,
   "id": "79e3c63b",
   "metadata": {},
   "outputs": [
    {
     "name": "stdout",
     "output_type": "stream",
     "text": [
      "Decision tree optimized\n",
      "Getting the best params which are {'class_weight': 'balanced', 'criterion': 'entropy', 'max_depth': 7, 'max_features': None, 'min_samples_leaf': 8, 'min_samples_split': 24, 'random_state': 1}\n",
      "Training roc is 0.8465996614150411, and testing roc is 0.8188494492044063 \n",
      "             training accuracy is 0.8206521739130435, testing_acc as 0.8225806451612904\n"
     ]
    }
   ],
   "source": [
    "# Train a custom classifier model using the provided data and parameters\n",
    "model, test_predictions, train_roc, test_roc, train_acc, test_acc = train_custom_classifier(\n",
    "    X_train=X_train_transformed,  # Transformed training data\n",
    "    y_train=y_train,  # Training labels\n",
    "    X_test=X_test_transformed,  # Transformed test data\n",
    "    y_test=y_test,  # Test labels\n",
    "    clf=d_clf,  # Classifier model\n",
    "    params=d_param_grid  # Parameters for the classifier\n",
    ")"
   ]
  },
  {
   "cell_type": "code",
   "execution_count": 102,
   "id": "67d962f9",
   "metadata": {},
   "outputs": [
    {
     "data": {
      "text/plain": [
       "<sklearn.metrics._plot.confusion_matrix.ConfusionMatrixDisplay at 0x1394cbee0>"
      ]
     },
     "execution_count": 102,
     "metadata": {},
     "output_type": "execute_result"
    },
    {
     "data": {
      "image/png": "[encoded data removed]",
      "text/plain": [
       "<Figure size 640x480 with 2 Axes>"
      ]
     },
     "metadata": {},
     "output_type": "display_data"
    }
   ],
   "source": [
    "# Displaying the confusion matrix\n",
    "cm = confusion_matrix(y_test, test_predictions, labels=model.classes_, normalize='true')\n",
    "disp = ConfusionMatrixDisplay(confusion_matrix=cm, display_labels=model.classes_)\n",
    "disp.plot()"
   ]
  },
  {
   "cell_type": "markdown",
   "id": "078d45d3-fc20-4f3e-b5c8-74058ec60d71",
   "metadata": {},
   "source": [
    "# 4. Ensuring data is valid"
   ]
  },
  {
   "cell_type": "code",
   "execution_count": 103,
   "id": "8a6e4373",
   "metadata": {},
   "outputs": [],
   "source": [
    "# Creating new random dataset\n",
    "np.random.seed(1)\n",
    "data = {\n",
    "    \"id\": np.linspace(start=1, stop=10, num=10, dtype=int),\n",
    "    \"population\" : np.random.randint(low=1000, high=100000, size=10),\n",
    "    \"property_area\": [\"urban\"]*4 + [\"semi_urban\"]*5 + [\"rural\"]*1\n",
    "}\n",
    "\n",
    "df = pd.DataFrame(data=data)"
   ]
  },
  {
   "cell_type": "code",
   "execution_count": 104,
   "id": "245aaab4",
   "metadata": {},
   "outputs": [
    {
     "data": {
      "text/html": [
       "<div>\n",
       "<style scoped>\n",
       "    .dataframe tbody tr th:only-of-type {\n",
       "        vertical-align: middle;\n",
       "    }\n",
       "\n",
       "    .dataframe tbody tr th {\n",
       "        vertical-align: top;\n",
       "    }\n",
       "\n",
       "    .dataframe thead th {\n",
       "        text-align: right;\n",
       "    }\n",
       "</style>\n",
       "<table border=\"1\" class=\"dataframe\">\n",
       "  <thead>\n",
       "    <tr style=\"text-align: right;\">\n",
       "      <th></th>\n",
       "      <th>id</th>\n",
       "      <th>population</th>\n",
       "      <th>property_area</th>\n",
       "    </tr>\n",
       "  </thead>\n",
       "  <tbody>\n",
       "    <tr>\n",
       "      <th>0</th>\n",
       "      <td>1</td>\n",
       "      <td>99539</td>\n",
       "      <td>urban</td>\n",
       "    </tr>\n",
       "    <tr>\n",
       "      <th>1</th>\n",
       "      <td>2</td>\n",
       "      <td>78708</td>\n",
       "      <td>urban</td>\n",
       "    </tr>\n",
       "    <tr>\n",
       "      <th>2</th>\n",
       "      <td>3</td>\n",
       "      <td>6192</td>\n",
       "      <td>urban</td>\n",
       "    </tr>\n",
       "    <tr>\n",
       "      <th>3</th>\n",
       "      <td>4</td>\n",
       "      <td>99047</td>\n",
       "      <td>urban</td>\n",
       "    </tr>\n",
       "    <tr>\n",
       "      <th>4</th>\n",
       "      <td>5</td>\n",
       "      <td>51057</td>\n",
       "      <td>semi_urban</td>\n",
       "    </tr>\n",
       "  </tbody>\n",
       "</table>\n",
       "</div>"
      ],
      "text/plain": [
       "   id  population property_area\n",
       "0   1       99539         urban\n",
       "1   2       78708         urban\n",
       "2   3        6192         urban\n",
       "3   4       99047         urban\n",
       "4   5       51057    semi_urban"
      ]
     },
     "execution_count": 104,
     "metadata": {},
     "output_type": "execute_result"
    }
   ],
   "source": [
    "# Checking first few values\n",
    "df.head()"
   ]
  },
  {
   "cell_type": "code",
   "execution_count": 105,
   "id": "8c33afb3",
   "metadata": {},
   "outputs": [
    {
     "data": {
      "text/plain": [
       "property_area\n",
       "semi_urban    0.5\n",
       "urban         0.4\n",
       "rural         0.1\n",
       "Name: proportion, dtype: float64"
      ]
     },
     "execution_count": 105,
     "metadata": {},
     "output_type": "execute_result"
    }
   ],
   "source": [
    "# Checking the distribution of property_area\n",
    "df.property_area.value_counts(normalize=True)"
   ]
  },
  {
   "cell_type": "code",
   "execution_count": 106,
   "id": "402ddd32",
   "metadata": {},
   "outputs": [
    {
     "data": {
      "text/plain": [
       "0    False\n",
       "1    False\n",
       "2    False\n",
       "3    False\n",
       "4     True\n",
       "5     True\n",
       "6     True\n",
       "7     True\n",
       "8     True\n",
       "9    False\n",
       "Name: property_area, dtype: bool"
      ]
     },
     "execution_count": 106,
     "metadata": {},
     "output_type": "execute_result"
    }
   ],
   "source": [
    "# Printing each row where values are in rural and urban, doing a boolean check\n",
    "df.property_area.isin(['rural', 'urban']) == False"
   ]
  },
  {
   "cell_type": "code",
   "execution_count": 107,
   "id": "b3d4c1fb",
   "metadata": {},
   "outputs": [
    {
     "data": {
      "text/plain": [
       "0.5"
      ]
     },
     "execution_count": 107,
     "metadata": {},
     "output_type": "execute_result"
    }
   ],
   "source": [
    "# Comparing against the total where number of values are in valid set\n",
    "sum(df.property_area.isin(['rural', 'urban']) == False) / df.shape[0]"
   ]
  },
  {
   "cell_type": "markdown",
   "id": "6c1de8d3-1ef4-4b2b-af85-3bcf8fd22540",
   "metadata": {},
   "source": [
    "# 5. Ensuring data is accurate"
   ]
  },
  {
   "cell_type": "code",
   "execution_count": 108,
   "id": "2adda1ad",
   "metadata": {},
   "outputs": [],
   "source": [
    "# Create a new column 'true_property_area' based on the 'population' column\n",
    "df['true_property_area'] = df.population.apply(lambda value: 'rural' if value <= 20000 else 'urban')"
   ]
  },
  {
   "cell_type": "code",
   "execution_count": 109,
   "id": "7ca0c5f8",
   "metadata": {},
   "outputs": [
    {
     "data": {
      "text/html": [
       "<div>\n",
       "<style scoped>\n",
       "    .dataframe tbody tr th:only-of-type {\n",
       "        vertical-align: middle;\n",
       "    }\n",
       "\n",
       "    .dataframe tbody tr th {\n",
       "        vertical-align: top;\n",
       "    }\n",
       "\n",
       "    .dataframe thead th {\n",
       "        text-align: right;\n",
       "    }\n",
       "</style>\n",
       "<table border=\"1\" class=\"dataframe\">\n",
       "  <thead>\n",
       "    <tr style=\"text-align: right;\">\n",
       "      <th></th>\n",
       "      <th>true_property_area</th>\n",
       "      <th>property_area</th>\n",
       "      <th>population</th>\n",
       "    </tr>\n",
       "  </thead>\n",
       "  <tbody>\n",
       "    <tr>\n",
       "      <th>0</th>\n",
       "      <td>urban</td>\n",
       "      <td>urban</td>\n",
       "      <td>99539</td>\n",
       "    </tr>\n",
       "    <tr>\n",
       "      <th>1</th>\n",
       "      <td>urban</td>\n",
       "      <td>urban</td>\n",
       "      <td>78708</td>\n",
       "    </tr>\n",
       "    <tr>\n",
       "      <th>2</th>\n",
       "      <td>rural</td>\n",
       "      <td>urban</td>\n",
       "      <td>6192</td>\n",
       "    </tr>\n",
       "    <tr>\n",
       "      <th>3</th>\n",
       "      <td>urban</td>\n",
       "      <td>urban</td>\n",
       "      <td>99047</td>\n",
       "    </tr>\n",
       "    <tr>\n",
       "      <th>4</th>\n",
       "      <td>urban</td>\n",
       "      <td>semi_urban</td>\n",
       "      <td>51057</td>\n",
       "    </tr>\n",
       "    <tr>\n",
       "      <th>5</th>\n",
       "      <td>urban</td>\n",
       "      <td>semi_urban</td>\n",
       "      <td>74349</td>\n",
       "    </tr>\n",
       "    <tr>\n",
       "      <th>6</th>\n",
       "      <td>urban</td>\n",
       "      <td>semi_urban</td>\n",
       "      <td>22440</td>\n",
       "    </tr>\n",
       "    <tr>\n",
       "      <th>7</th>\n",
       "      <td>urban</td>\n",
       "      <td>semi_urban</td>\n",
       "      <td>99448</td>\n",
       "    </tr>\n",
       "    <tr>\n",
       "      <th>8</th>\n",
       "      <td>urban</td>\n",
       "      <td>semi_urban</td>\n",
       "      <td>21609</td>\n",
       "    </tr>\n",
       "    <tr>\n",
       "      <th>9</th>\n",
       "      <td>urban</td>\n",
       "      <td>rural</td>\n",
       "      <td>50100</td>\n",
       "    </tr>\n",
       "  </tbody>\n",
       "</table>\n",
       "</div>"
      ],
      "text/plain": [
       "  true_property_area property_area  population\n",
       "0              urban         urban       99539\n",
       "1              urban         urban       78708\n",
       "2              rural         urban        6192\n",
       "3              urban         urban       99047\n",
       "4              urban    semi_urban       51057\n",
       "5              urban    semi_urban       74349\n",
       "6              urban    semi_urban       22440\n",
       "7              urban    semi_urban       99448\n",
       "8              urban    semi_urban       21609\n",
       "9              urban         rural       50100"
      ]
     },
     "execution_count": 109,
     "metadata": {},
     "output_type": "execute_result"
    }
   ],
   "source": [
    "df[['true_property_area', 'property_area', 'population']]"
   ]
  },
  {
   "cell_type": "code",
   "execution_count": 110,
   "id": "3c0212a9",
   "metadata": {},
   "outputs": [
    {
     "data": {
      "text/plain": [
       "0.3"
      ]
     },
     "execution_count": 110,
     "metadata": {},
     "output_type": "execute_result"
    }
   ],
   "source": [
    "# Calculating the accuracy score\n",
    "sum(df.property_area == df.true_property_area) / df.shape[0]"
   ]
  },
  {
   "cell_type": "code",
   "execution_count": 111,
   "id": "029ad7ae",
   "metadata": {},
   "outputs": [
    {
     "data": {
      "text/plain": [
       "0.3"
      ]
     },
     "execution_count": 111,
     "metadata": {},
     "output_type": "execute_result"
    }
   ],
   "source": [
    "# Using the accuracy score for validation\n",
    "accuracy_score(y_pred=df.property_area, y_true=df.true_property_area)"
   ]
  },
  {
   "cell_type": "markdown",
   "id": "6df5a1e4-9fbd-4ad9-8133-0ae7161567c3",
   "metadata": {},
   "source": [
    "# 6. Ensuring data is fresh"
   ]
  },
  {
   "cell_type": "code",
   "execution_count": 112,
   "id": "f3e72cbd",
   "metadata": {},
   "outputs": [],
   "source": [
    "# Importing libraries\n",
    "from datetime import datetime, timedelta\n",
    "import warnings"
   ]
  },
  {
   "cell_type": "code",
   "execution_count": 113,
   "id": "10fb2f34",
   "metadata": {},
   "outputs": [],
   "source": [
    "numdays = 100\n",
    "base = datetime.today() \n",
    "\n",
    "# Generate a list of dates by subtracting days from today's date\n",
    "date_list = [base - timedelta(days=day) for day in range(numdays)]"
   ]
  },
  {
   "cell_type": "code",
   "execution_count": 114,
   "id": "d9943ef5",
   "metadata": {},
   "outputs": [
    {
     "data": {
      "text/plain": [
       "['2024-02-21',\n",
       " '2024-02-20',\n",
       " '2024-02-19',\n",
       " '2024-02-18',\n",
       " '2024-02-17',\n",
       " '2024-02-16',\n",
       " '2024-02-15',\n",
       " '2024-02-14',\n",
       " '2024-02-13',\n",
       " '2024-02-12']"
      ]
     },
     "execution_count": 114,
     "metadata": {},
     "output_type": "execute_result"
    }
   ],
   "source": [
    "# Printing the first 10 dates\n",
    "[date.date().strftime('%Y-%m-%d') for date in date_list[0:10]]"
   ]
  },
  {
   "cell_type": "code",
   "execution_count": 115,
   "id": "821553e7",
   "metadata": {},
   "outputs": [],
   "source": [
    "# Generating the new dataset\n",
    "np.random.seed(1) \n",
    "\n",
    "# Create a dictionary 'data' with columns 'id', 'population', 'property_area', and 'date_loaded'\n",
    "data = {\n",
    "    \"id\": np.linspace(start=1, stop=100, num=100, dtype=int),\n",
    "    \"population\" : np.random.randint(low=1000, high=100000, size=100),\n",
    "    \"property_area\": [\"urban\"]*40 + [\"semi_urban\"]*50 + [\"rural\"]*10,\n",
    "    \"date_loaded\": date_list\n",
    "}\n",
    "\n",
    "# Create a DataFrame 'df' using the data dictionary\n",
    "df = pd.DataFrame(data=data)\n"
   ]
  },
  {
   "cell_type": "code",
   "execution_count": 116,
   "id": "9bc91c91",
   "metadata": {},
   "outputs": [
    {
     "data": {
      "text/html": [
       "<div>\n",
       "<style scoped>\n",
       "    .dataframe tbody tr th:only-of-type {\n",
       "        vertical-align: middle;\n",
       "    }\n",
       "\n",
       "    .dataframe tbody tr th {\n",
       "        vertical-align: top;\n",
       "    }\n",
       "\n",
       "    .dataframe thead th {\n",
       "        text-align: right;\n",
       "    }\n",
       "</style>\n",
       "<table border=\"1\" class=\"dataframe\">\n",
       "  <thead>\n",
       "    <tr style=\"text-align: right;\">\n",
       "      <th></th>\n",
       "      <th>id</th>\n",
       "      <th>population</th>\n",
       "      <th>property_area</th>\n",
       "      <th>date_loaded</th>\n",
       "    </tr>\n",
       "  </thead>\n",
       "  <tbody>\n",
       "    <tr>\n",
       "      <th>0</th>\n",
       "      <td>1</td>\n",
       "      <td>99539</td>\n",
       "      <td>urban</td>\n",
       "      <td>2024-02-21 01:22:19.866572</td>\n",
       "    </tr>\n",
       "    <tr>\n",
       "      <th>1</th>\n",
       "      <td>2</td>\n",
       "      <td>78708</td>\n",
       "      <td>urban</td>\n",
       "      <td>2024-02-20 01:22:19.866572</td>\n",
       "    </tr>\n",
       "    <tr>\n",
       "      <th>2</th>\n",
       "      <td>3</td>\n",
       "      <td>6192</td>\n",
       "      <td>urban</td>\n",
       "      <td>2024-02-19 01:22:19.866572</td>\n",
       "    </tr>\n",
       "    <tr>\n",
       "      <th>3</th>\n",
       "      <td>4</td>\n",
       "      <td>99047</td>\n",
       "      <td>urban</td>\n",
       "      <td>2024-02-18 01:22:19.866572</td>\n",
       "    </tr>\n",
       "    <tr>\n",
       "      <th>4</th>\n",
       "      <td>5</td>\n",
       "      <td>51057</td>\n",
       "      <td>urban</td>\n",
       "      <td>2024-02-17 01:22:19.866572</td>\n",
       "    </tr>\n",
       "  </tbody>\n",
       "</table>\n",
       "</div>"
      ],
      "text/plain": [
       "   id  population property_area                date_loaded\n",
       "0   1       99539         urban 2024-02-21 01:22:19.866572\n",
       "1   2       78708         urban 2024-02-20 01:22:19.866572\n",
       "2   3        6192         urban 2024-02-19 01:22:19.866572\n",
       "3   4       99047         urban 2024-02-18 01:22:19.866572\n",
       "4   5       51057         urban 2024-02-17 01:22:19.866572"
      ]
     },
     "execution_count": 116,
     "metadata": {},
     "output_type": "execute_result"
    }
   ],
   "source": [
    "df.head()"
   ]
  },
  {
   "cell_type": "code",
   "execution_count": 117,
   "id": "8930d3d3",
   "metadata": {},
   "outputs": [
    {
     "data": {
      "text/plain": [
       "0"
      ]
     },
     "execution_count": 117,
     "metadata": {},
     "output_type": "execute_result"
    }
   ],
   "source": [
    "# One line code to subract max date from todays date\n",
    "(datetime.now() - df.date_loaded.max()).days"
   ]
  },
  {
   "cell_type": "code",
   "execution_count": 118,
   "id": "d346a1c1",
   "metadata": {},
   "outputs": [],
   "source": [
    "def check_data_recency_days(df: pd.DataFrame, loaded_at_column: str, warning_at: int=5, error_at: int=10):\n",
    "    \"\"\"Function to detect data freshness\"\"\"\n",
    "    \n",
    "    df = df.copy()\n",
    "    \n",
    "    # Calculate the number of days since the data was last refreshed\n",
    "    days_since_data_refreshed = (datetime.now() - df[loaded_at_column].max()).days\n",
    "    \n",
    "    if days_since_data_refreshed < warning_at:\n",
    "        print(f\"Data is fresh and is {days_since_data_refreshed} days old\")\n",
    "    \n",
    "    elif error_at > days_since_data_refreshed >= warning_at:\n",
    "        warnings.warn(f\"Warning: Data is not fresh, and is {days_since_data_refreshed} days old\")\n",
    "    \n",
    "    else:\n",
    "        raise ValueError(f\"Date provided is too old and stale, please contact source provider: {days_since_data_refreshed} days old\")"
   ]
  },
  {
   "cell_type": "code",
   "execution_count": 119,
   "id": "96c9456c",
   "metadata": {},
   "outputs": [
    {
     "name": "stdout",
     "output_type": "stream",
     "text": [
      "Data is fresh and is 0 days old\n"
     ]
    }
   ],
   "source": [
    "# Next we will check the recency of the data in days\n",
    "check_data_recency_days(df, \"date_loaded\")"
   ]
  },
  {
   "cell_type": "code",
   "execution_count": 120,
   "id": "6244ca64",
   "metadata": {},
   "outputs": [],
   "source": [
    "# Creating two data subsets, one six days old data and one 12 days old data\n",
    "df_filter_6_days = df[df.date_loaded <= (datetime.today() -  timedelta(days=6))] \n",
    "df_filter_12_days = df[df.date_loaded <= (datetime.today() -  timedelta(days=12))]"
   ]
  },
  {
   "cell_type": "code",
   "execution_count": 121,
   "id": "b632516c",
   "metadata": {},
   "outputs": [
    {
     "name": "stderr",
     "output_type": "stream",
     "text": [
      "/var/folders/6f/p7312_7n4nq5hp35rfymms1h0000gn/T/ipykernel_20086/3692455968.py:13: UserWarning: Warning: Data is not fresh, and is 6 days old\n",
      "  warnings.warn(f\"Warning: Data is not fresh, and is {days_since_data_refreshed} days old\")\n"
     ]
    }
   ],
   "source": [
    "# Validating that data is six days old\n",
    "check_data_recency_days(df_filter_6_days, \"date_loaded\")"
   ]
  },
  {
   "cell_type": "code",
   "execution_count": 122,
   "id": "fd7d0da5",
   "metadata": {},
   "outputs": [
    {
     "name": "stderr",
     "output_type": "stream",
     "text": [
      "None of PyTorch, TensorFlow >= 2.0, or Flax have been found. Models won't be available and only tokenizers, configuration and file/data utilities can be used.\n"
     ]
    }
   ],
   "source": [
    "# Importing alibi package and other package to calculate drift\n",
    "import alibi\n",
    "from alibi_detect.cd import TabularDrift"
   ]
  },
  {
   "cell_type": "code",
   "execution_count": 123,
   "id": "0b27d14e",
   "metadata": {},
   "outputs": [
    {
     "name": "stderr",
     "output_type": "stream",
     "text": [
      "/Users/bajajn/.local/share/virtualenvs/financial-VBwT6U-y/lib/python3.9/site-packages/alibi_detect/cd/tabular.py:113: UserWarning: No `categories_per_feature` dict provided so all features are assumed to be numerical. `KSDrift` will be applied to all features.\n",
      "  warnings.warn('No `categories_per_feature` dict provided so all features are assumed to be numerical. '\n"
     ]
    }
   ],
   "source": [
    "# Now moving back to loan dataset\n",
    "# Initialize a TabularDrift object with reference data X_train_transformed and p-value of 0.05\n",
    "cd = TabularDrift(x_ref=X_train_transformed.to_numpy(), p_val=0.05)"
   ]
  },
  {
   "cell_type": "code",
   "execution_count": 124,
   "id": "3c0de37f",
   "metadata": {},
   "outputs": [
    {
     "name": "stdout",
     "output_type": "stream",
     "text": [
      "Drift: No\n"
     ]
    }
   ],
   "source": [
    "# Make drift prediction on the transformed test data X_test_transformed\n",
    "preds = cd.predict(X_test_transformed.to_numpy())\n",
    "\n",
    "# Define labels for drift result interpretation\n",
    "labels = ['No', 'Yes']\n",
    "\n",
    "# Print the drift prediction result\n",
    "print('Drift: {}'.format(labels[preds['data']['is_drift']]))"
   ]
  },
  {
   "cell_type": "code",
   "execution_count": 125,
   "id": "c72e70ed",
   "metadata": {},
   "outputs": [
    {
     "data": {
      "text/html": [
       "<div>\n",
       "<style scoped>\n",
       "    .dataframe tbody tr th:only-of-type {\n",
       "        vertical-align: middle;\n",
       "    }\n",
       "\n",
       "    .dataframe tbody tr th {\n",
       "        vertical-align: top;\n",
       "    }\n",
       "\n",
       "    .dataframe thead th {\n",
       "        text-align: right;\n",
       "    }\n",
       "</style>\n",
       "<table border=\"1\" class=\"dataframe\">\n",
       "  <thead>\n",
       "    <tr style=\"text-align: right;\">\n",
       "      <th></th>\n",
       "      <th>gender</th>\n",
       "      <th>married</th>\n",
       "      <th>dependents</th>\n",
       "      <th>education</th>\n",
       "      <th>self_employed</th>\n",
       "      <th>loan_amount_term</th>\n",
       "      <th>credit_history</th>\n",
       "      <th>property_area_rural</th>\n",
       "      <th>property_area_urban</th>\n",
       "      <th>property_area_semiurban</th>\n",
       "      <th>...</th>\n",
       "      <th>missingindicator_married</th>\n",
       "      <th>missingindicator_dependents</th>\n",
       "      <th>missingindicator_self_employed</th>\n",
       "      <th>missingindicator_loan_amount_term</th>\n",
       "      <th>missingindicator_credit_history</th>\n",
       "      <th>loan_amount</th>\n",
       "      <th>missingindicator_loan_amount</th>\n",
       "      <th>sum_applicant_income_coapplicant_income</th>\n",
       "      <th>sum_applicant_income_coapplicant_income_div_loan_amount</th>\n",
       "      <th>loan_amount_div_loan_amount_term</th>\n",
       "    </tr>\n",
       "  </thead>\n",
       "  <tbody>\n",
       "    <tr>\n",
       "      <th>451</th>\n",
       "      <td>1.0</td>\n",
       "      <td>1.0</td>\n",
       "      <td>2.0</td>\n",
       "      <td>0.0</td>\n",
       "      <td>0.0</td>\n",
       "      <td>300.0</td>\n",
       "      <td>1.0</td>\n",
       "      <td>0.0</td>\n",
       "      <td>1.0</td>\n",
       "      <td>0.0</td>\n",
       "      <td>...</td>\n",
       "      <td>0.0</td>\n",
       "      <td>0.0</td>\n",
       "      <td>0.0</td>\n",
       "      <td>0.0</td>\n",
       "      <td>1.0</td>\n",
       "      <td>60000.0</td>\n",
       "      <td>0.0</td>\n",
       "      <td>3414.0</td>\n",
       "      <td>0.056900</td>\n",
       "      <td>200.000000</td>\n",
       "    </tr>\n",
       "    <tr>\n",
       "      <th>323</th>\n",
       "      <td>0.0</td>\n",
       "      <td>0.0</td>\n",
       "      <td>0.0</td>\n",
       "      <td>1.0</td>\n",
       "      <td>0.0</td>\n",
       "      <td>360.0</td>\n",
       "      <td>1.0</td>\n",
       "      <td>1.0</td>\n",
       "      <td>0.0</td>\n",
       "      <td>0.0</td>\n",
       "      <td>...</td>\n",
       "      <td>0.0</td>\n",
       "      <td>0.0</td>\n",
       "      <td>0.0</td>\n",
       "      <td>0.0</td>\n",
       "      <td>1.0</td>\n",
       "      <td>132000.0</td>\n",
       "      <td>0.0</td>\n",
       "      <td>6151.0</td>\n",
       "      <td>0.046598</td>\n",
       "      <td>366.666667</td>\n",
       "    </tr>\n",
       "    <tr>\n",
       "      <th>330</th>\n",
       "      <td>1.0</td>\n",
       "      <td>0.0</td>\n",
       "      <td>1.0</td>\n",
       "      <td>1.0</td>\n",
       "      <td>0.0</td>\n",
       "      <td>360.0</td>\n",
       "      <td>1.0</td>\n",
       "      <td>0.0</td>\n",
       "      <td>1.0</td>\n",
       "      <td>0.0</td>\n",
       "      <td>...</td>\n",
       "      <td>0.0</td>\n",
       "      <td>0.0</td>\n",
       "      <td>0.0</td>\n",
       "      <td>0.0</td>\n",
       "      <td>0.0</td>\n",
       "      <td>117000.0</td>\n",
       "      <td>0.0</td>\n",
       "      <td>6177.0</td>\n",
       "      <td>0.052795</td>\n",
       "      <td>325.000000</td>\n",
       "    </tr>\n",
       "    <tr>\n",
       "      <th>414</th>\n",
       "      <td>0.0</td>\n",
       "      <td>1.0</td>\n",
       "      <td>0.0</td>\n",
       "      <td>0.0</td>\n",
       "      <td>0.0</td>\n",
       "      <td>360.0</td>\n",
       "      <td>0.0</td>\n",
       "      <td>0.0</td>\n",
       "      <td>0.0</td>\n",
       "      <td>1.0</td>\n",
       "      <td>...</td>\n",
       "      <td>0.0</td>\n",
       "      <td>0.0</td>\n",
       "      <td>0.0</td>\n",
       "      <td>0.0</td>\n",
       "      <td>0.0</td>\n",
       "      <td>178000.0</td>\n",
       "      <td>0.0</td>\n",
       "      <td>5386.0</td>\n",
       "      <td>0.030258</td>\n",
       "      <td>494.444444</td>\n",
       "    </tr>\n",
       "    <tr>\n",
       "      <th>530</th>\n",
       "      <td>1.0</td>\n",
       "      <td>1.0</td>\n",
       "      <td>0.0</td>\n",
       "      <td>1.0</td>\n",
       "      <td>0.0</td>\n",
       "      <td>360.0</td>\n",
       "      <td>1.0</td>\n",
       "      <td>1.0</td>\n",
       "      <td>0.0</td>\n",
       "      <td>0.0</td>\n",
       "      <td>...</td>\n",
       "      <td>0.0</td>\n",
       "      <td>0.0</td>\n",
       "      <td>0.0</td>\n",
       "      <td>0.0</td>\n",
       "      <td>1.0</td>\n",
       "      <td>216000.0</td>\n",
       "      <td>0.0</td>\n",
       "      <td>6525.0</td>\n",
       "      <td>0.030208</td>\n",
       "      <td>600.000000</td>\n",
       "    </tr>\n",
       "  </tbody>\n",
       "</table>\n",
       "<p>5 rows × 21 columns</p>\n",
       "</div>"
      ],
      "text/plain": [
       "     gender  married  dependents  education  self_employed  loan_amount_term  \\\n",
       "451     1.0      1.0         2.0        0.0            0.0             300.0   \n",
       "323     0.0      0.0         0.0        1.0            0.0             360.0   \n",
       "330     1.0      0.0         1.0        1.0            0.0             360.0   \n",
       "414     0.0      1.0         0.0        0.0            0.0             360.0   \n",
       "530     1.0      1.0         0.0        1.0            0.0             360.0   \n",
       "\n",
       "     credit_history  property_area_rural  property_area_urban  \\\n",
       "451             1.0                  0.0                  1.0   \n",
       "323             1.0                  1.0                  0.0   \n",
       "330             1.0                  0.0                  1.0   \n",
       "414             0.0                  0.0                  0.0   \n",
       "530             1.0                  1.0                  0.0   \n",
       "\n",
       "     property_area_semiurban  ...  missingindicator_married  \\\n",
       "451                      0.0  ...                       0.0   \n",
       "323                      0.0  ...                       0.0   \n",
       "330                      0.0  ...                       0.0   \n",
       "414                      1.0  ...                       0.0   \n",
       "530                      0.0  ...                       0.0   \n",
       "\n",
       "     missingindicator_dependents  missingindicator_self_employed  \\\n",
       "451                          0.0                             0.0   \n",
       "323                          0.0                             0.0   \n",
       "330                          0.0                             0.0   \n",
       "414                          0.0                             0.0   \n",
       "530                          0.0                             0.0   \n",
       "\n",
       "     missingindicator_loan_amount_term  missingindicator_credit_history  \\\n",
       "451                                0.0                              1.0   \n",
       "323                                0.0                              1.0   \n",
       "330                                0.0                              0.0   \n",
       "414                                0.0                              0.0   \n",
       "530                                0.0                              1.0   \n",
       "\n",
       "     loan_amount  missingindicator_loan_amount  \\\n",
       "451      60000.0                           0.0   \n",
       "323     132000.0                           0.0   \n",
       "330     117000.0                           0.0   \n",
       "414     178000.0                           0.0   \n",
       "530     216000.0                           0.0   \n",
       "\n",
       "     sum_applicant_income_coapplicant_income  \\\n",
       "451                                   3414.0   \n",
       "323                                   6151.0   \n",
       "330                                   6177.0   \n",
       "414                                   5386.0   \n",
       "530                                   6525.0   \n",
       "\n",
       "     sum_applicant_income_coapplicant_income_div_loan_amount  \\\n",
       "451                                           0.056900         \n",
       "323                                           0.046598         \n",
       "330                                           0.052795         \n",
       "414                                           0.030258         \n",
       "530                                           0.030208         \n",
       "\n",
       "     loan_amount_div_loan_amount_term  \n",
       "451                        200.000000  \n",
       "323                        366.666667  \n",
       "330                        325.000000  \n",
       "414                        494.444444  \n",
       "530                        600.000000  \n",
       "\n",
       "[5 rows x 21 columns]"
      ]
     },
     "execution_count": 125,
     "metadata": {},
     "output_type": "execute_result"
    }
   ],
   "source": [
    "X_test_transformed.head()"
   ]
  },
  {
   "cell_type": "code",
   "execution_count": 126,
   "id": "58e557fc",
   "metadata": {},
   "outputs": [],
   "source": [
    "# Updating the dataset, to demonstrate test data is stale, so can demonstrate performance of stale data\n",
    "X_test_transformed['loan_amount'] = X_test_transformed['loan_amount']*1.5\n",
    "X_test_transformed['sum_applicant_income_coapplicant_income'] = X_test_transformed['sum_applicant_income_coapplicant_income']*1.2\n",
    "X_test_transformed.sum_applicant_income_coapplicant_income_div_loan_amount = X_test_transformed.sum_applicant_income_coapplicant_income/X_test_transformed.loan_amount\n",
    "X_test_transformed.loan_amount_div_loan_amount_term = X_test_transformed.loan_amount/X_test_transformed.loan_amount_term"
   ]
  },
  {
   "cell_type": "code",
   "execution_count": 127,
   "id": "d6940c7d",
   "metadata": {},
   "outputs": [
    {
     "name": "stdout",
     "output_type": "stream",
     "text": [
      "Drift: Yes\n"
     ]
    }
   ],
   "source": [
    "# Get drift prediction for the transformed test data X_test_transformed\n",
    "preds = cd.predict(X_test_transformed.to_numpy())\n",
    "\n",
    "# Create labels for interpreting the drift prediction\n",
    "labels = ['No', 'Yes']\n",
    "\n",
    "# Output the drift prediction result\n",
    "print('Drift: {}'.format(labels[preds['data']['is_drift']]))"
   ]
  },
  {
   "cell_type": "code",
   "execution_count": 128,
   "id": "786f0dc8",
   "metadata": {},
   "outputs": [
    {
     "name": "stdout",
     "output_type": "stream",
     "text": [
      "Testing roc is 0.747858017135863 and testing_acc as 0.6935483870967742\n"
     ]
    }
   ],
   "source": [
    "# Generate probability predictions for the test data using the model\n",
    "testing_predictions_prob = model.predict_proba(X_test_transformed)\n",
    "\n",
    "# Obtain class predictions for the test data using the model\n",
    "testing_predictions = model.predict(X_test_transformed)\n",
    "\n",
    "# Calculate the ROC AUC score for the test predictions\n",
    "testing_roc_auc = roc_auc_score(y_test, testing_predictions_prob[:,1])\n",
    "\n",
    "# Calculate the accuracy score for the test predictions\n",
    "testing_acc = accuracy_score(y_test, testing_predictions)\n",
    "\n",
    "# Print out the ROC AUC score and accuracy for the test predictions\n",
    "print(f\"Testing roc is {testing_roc_auc} and testing_acc as {testing_acc}\")"
   ]
  }
 ],
 "metadata": {
  "kernelspec": {
   "display_name": "Python 3 (ipykernel)",
   "language": "python",
   "name": "python3"
  },
  "language_info": {
   "codemirror_mode": {
    "name": "ipython",
    "version": 3
   },
   "file_extension": ".py",
   "mimetype": "text/x-python",
   "name": "python",
   "nbconvert_exporter": "python",
   "pygments_lexer": "ipython3",
   "version": "3.9.12"
  }
 },
 "nbformat": 4,
 "nbformat_minor": 5
}
